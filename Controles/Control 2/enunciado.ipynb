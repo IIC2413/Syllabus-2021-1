{
 "cells": [
  {
   "cell_type": "markdown",
   "metadata": {
    "id": "9TbJB_PZ6l7E"
   },
   "source": [
    "# IIC2413 - Control 2: SQL e Índices"
   ]
  },
  {
   "cell_type": "markdown",
   "metadata": {
    "id": "nIO6GLjL6l7U"
   },
   "source": [
    "## Entrega\n",
    "El plazo para la entrega es Lunes, 3 de Mayo, hasta las 20:00. El control deben hacerlo rellenando este mismo archivo `.ipynb` y  luego subirlo al siding (se abrirá un cuestionario para esta entrega)."
   ]
  },
  {
   "cell_type": "markdown",
   "metadata": {
    "id": "FkRAw6_b6l7X"
   },
   "source": [
    "## Parte 1: Consultas SQL (5 puntos) "
   ]
  },
  {
   "cell_type": "markdown",
   "metadata": {
    "id": "YkwPfNTx6l7Z"
   },
   "source": [
    "El objetivo de esta sección es que tengan un primer acercamiento a lo que es consultar una base de datos real de una aplicación en producción.\n",
    "Para eso usaremos una versión muy reducida y anonimizada de la base de datos de la start up [TuShop](https://www.tushop.cl/) cuyo sofware genera automágicamente una página web con carrito de compras diseñada especialmente para tiendas de instagram. La base está lista para ser accedida con sqlite abriendo el archivo `tu_shop_mini.db` disponible en el repositorio del curso junto con este enunciado.\n",
    "\n",
    "El esquema de la base de datos es el siguiente:\n",
    "```\n",
    "Stores(id, email, name, created_at)\n",
    "Products(id, name, store_id, row_order, created_at)\n",
    "Bills(id, email, address, store_id, status, created_at)\n",
    "Variants(id, product_id, is_master, price, quantity, name_suffix, created_at)\n",
    "BillVariants(id, bill_id, quantity, price, variant_id, discount_rate, created_at)\n",
    "```\n",
    "Mas detalles de lo que representa cada tabla y columna en el archivo `metadata.md` también disponible en el repositorio junto con este enunciado."
   ]
  },
  {
   "cell_type": "markdown",
   "metadata": {
    "id": "IQNu9m0M6l7c"
   },
   "source": [
    "### Setup"
   ]
  },
  {
   "cell_type": "code",
   "execution_count": null,
   "metadata": {
    "id": "uaTj3DNY6l7e"
   },
   "outputs": [],
   "source": [
    "%load_ext sql"
   ]
  },
  {
   "cell_type": "code",
   "execution_count": null,
   "metadata": {
    "id": "xPXbjXZo6l7h"
   },
   "outputs": [],
   "source": [
    "%sql sqlite:///tu_shop_mini.db"
   ]
  },
  {
   "cell_type": "code",
   "execution_count": null,
   "metadata": {
    "id": "meKbmyl_6l7i"
   },
   "outputs": [],
   "source": [
    "%sql SELECT COUNT(*) FROM Bills"
   ]
  },
  {
   "cell_type": "markdown",
   "metadata": {
    "id": "6vzSY1xR6l7i"
   },
   "source": [
    "Si la respuesta a la consulta de arriba es 2767 entonces estás listo para responder el control."
   ]
  },
  {
   "cell_type": "markdown",
   "metadata": {
    "id": "aYisMBHG6l7j"
   },
   "source": [
    "### Consultas"
   ]
  },
  {
   "cell_type": "markdown",
   "metadata": {
    "id": "UBH8zc_X6l7l"
   },
   "source": [
    "**1.** El id y nombre de cada producto junto con el precio y cantidad de su master variant  ordenados ascendente por 'row_order'. **(0.3 pts)**"
   ]
  },
  {
   "cell_type": "code",
   "execution_count": null,
   "metadata": {
    "id": "gJajKacO6l7n"
   },
   "outputs": [],
   "source": [
    "%%sql"
   ]
  },
  {
   "cell_type": "markdown",
   "metadata": {
    "id": "nnK2mfJ06l7o"
   },
   "source": [
    "**2.** El status y la fecha de creacion de las ventas de la tienda `tío zetamart` en marzo del 2021, ordenados por la fecha de creacion. **(0.3 pts)**"
   ]
  },
  {
   "cell_type": "code",
   "execution_count": null,
   "metadata": {
    "id": "yWRMzDcA6l7p"
   },
   "outputs": [],
   "source": [
    "%%sql"
   ]
  },
  {
   "cell_type": "markdown",
   "metadata": {
    "id": "S2UqhvxF6l7p"
   },
   "source": [
    "**3.** Los emails de las personas que hayan comprado al menos una vez en la tienda `pc_faketory` antes de abril del 2021. **(0.3 pts)**"
   ]
  },
  {
   "cell_type": "code",
   "execution_count": null,
   "metadata": {
    "id": "Z95iewZp6l7q"
   },
   "outputs": [],
   "source": [
    "%%sql"
   ]
  },
  {
   "cell_type": "markdown",
   "metadata": {
    "id": "99m01jbu6l7q"
   },
   "source": [
    "**4.** Los nombres completos, precio y cantidad y valor total (precio * cantidad) de cada variante. **(0.3 pts)**"
   ]
  },
  {
   "cell_type": "code",
   "execution_count": null,
   "metadata": {
    "id": "LpQr9XQG6l7r"
   },
   "outputs": [],
   "source": [
    "%%sql"
   ]
  },
  {
   "cell_type": "markdown",
   "metadata": {
    "id": "-N8zTc-46l7s"
   },
   "source": [
    "**5.** El nombre de la tienda y la dirección de envío de las ventas que ya hayan sido enviadas (`shipped`) y tengan 'Cádiz' en la dirección. **(0.3 pts)**"
   ]
  },
  {
   "cell_type": "code",
   "execution_count": null,
   "metadata": {
    "id": "riN698Kr6l7v"
   },
   "outputs": [],
   "source": [
    "%%sql"
   ]
  },
  {
   "cell_type": "markdown",
   "metadata": {
    "id": "np3xetGj6l7w"
   },
   "source": [
    "**6.** Los nombres de productos que sean vendidos por la tienda `tío zetamart` y la tienda `pc_faketory`. Ten en cuenta que cuando decimos \"productos que sean vendidos por ambas tiendas\", son en realidad los productos que tengan el mismo nombre. **(0.4 pts)**"
   ]
  },
  {
   "cell_type": "code",
   "execution_count": null,
   "metadata": {
    "id": "wV2sP7vO6l7x"
   },
   "outputs": [],
   "source": [
    "%%sql"
   ]
  },
  {
   "cell_type": "markdown",
   "metadata": {
    "id": "uPMbq0Fz6l7x"
   },
   "source": [
    "**7.** La cantidad de unidades vendidas de cada producto en cada tienda. **(0.4 pts)**\n"
   ]
  },
  {
   "cell_type": "code",
   "execution_count": null,
   "metadata": {
    "id": "2suQzM_X6l7x"
   },
   "outputs": [],
   "source": [
    "%%sql"
   ]
  },
  {
   "cell_type": "markdown",
   "metadata": {
    "id": "voehK8oA6l7x"
   },
   "source": [
    "**8.** El valor de las ventas de cada tienda en marzo (en $$$), ordenadas por ventas. **(0.4 pts)** **Pro Tip:** Para dividir dos ints y que el resultado sea float hay que convertir uno de los ints a float primero, lo que se puede hacer multiplicando por `1.0`. Algo así: `columna_a*1.0/100`"
   ]
  },
  {
   "cell_type": "code",
   "execution_count": null,
   "metadata": {
    "id": "mUaaiIW86l7x"
   },
   "outputs": [],
   "source": [
    "%%sql"
   ]
  },
  {
   "cell_type": "markdown",
   "metadata": {
    "id": "sl8qJ7RB6l70"
   },
   "source": [
    "**9.** Los ids de las variantes que no han tenido ninguna venta en marzo y tienen stock disponible. **(0.4 pts)**"
   ]
  },
  {
   "cell_type": "code",
   "execution_count": null,
   "metadata": {
    "id": "QUNMTwh06l70"
   },
   "outputs": [],
   "source": [
    "%%sql"
   ]
  },
  {
   "cell_type": "markdown",
   "metadata": {
    "id": "h-mppn956l70"
   },
   "source": [
    "**10.** El nombre y precio de la variante con el precio más caro. **(0.4 pts)**"
   ]
  },
  {
   "cell_type": "code",
   "execution_count": null,
   "metadata": {
    "id": "Q3gxe2Ai6l70"
   },
   "outputs": [],
   "source": [
    "%%sql"
   ]
  },
  {
   "cell_type": "markdown",
   "metadata": {
    "id": "KesMmpvy6l70"
   },
   "source": [
    "De las siguientes 4 consultas solo debes hacer 3. Si haces las 4 no te revisaremos la última."
   ]
  },
  {
   "cell_type": "markdown",
   "metadata": {
    "id": "ucil-P8G6l70"
   },
   "source": [
    "**11.** El valor promedio de venta de cada tienda en marzo (con sus respectivos nombres o ids). **(0.5 pts)**"
   ]
  },
  {
   "cell_type": "code",
   "execution_count": null,
   "metadata": {
    "id": "2Dz91Ou96l70"
   },
   "outputs": [],
   "source": [
    "%%sql"
   ]
  },
  {
   "cell_type": "markdown",
   "metadata": {
    "id": "0WEgJyJ06l70"
   },
   "source": [
    "**12.** El porcentaje del total de clientes que fueron recurrentes en el mes de abril (recurrentes son aquellos que ya habían comprado alguna vez antes de comprar en abril). Los clientes se identifican por el email **(0.5 pts)**"
   ]
  },
  {
   "cell_type": "code",
   "execution_count": null,
   "metadata": {
    "id": "x1s97xl16l72"
   },
   "outputs": [],
   "source": [
    "%%sql"
   ]
  },
  {
   "cell_type": "markdown",
   "metadata": {
    "id": "WctDI0MN6l72"
   },
   "source": [
    "**13.**  La cantidad de dias en promedio que han pasado desde que se creo cada venta, agrupado por status. **(0.5 pts)**\n",
    "\n",
    "**Pro Tips**:\n",
    "- `DATE(SUBSTR(columna, 0, 11))` Retorna un Date de sqlite a partir de una columna de fecha de nuesta base de datos.\n",
    "-`DATE('now')` Retorna un objeto Date de sqlite con la fecha de hoy\n",
    "-La función [JULIANDAY(date)](https://www.techonthenet.com/sqlite/functions/julianday.php#:~:text=The%20SQLite%20julianday%20function%20takes,as%20a%20floating%20point%20number.) Retorna los días que han pasado entre date y una fecha constante muy en el pasado."
   ]
  },
  {
   "cell_type": "code",
   "execution_count": null,
   "metadata": {
    "id": "8EdfEKsn6l72"
   },
   "outputs": [],
   "source": [
    "%%sql"
   ]
  },
  {
   "cell_type": "markdown",
   "metadata": {
    "id": "tW7vGYaG6l72"
   },
   "source": [
    "**14.** El nombre de la tienda que más ventas hizo en abril, junto con la cantidad de ventas. **Pro Tip**: La sentencia [LIMIT](https://www.sqlitetutorial.net/sqlite-limit/) que reduce la cantidad de resultados podría servir."
   ]
  },
  {
   "cell_type": "code",
   "execution_count": null,
   "metadata": {
    "id": "OeLPdpOM6l73"
   },
   "outputs": [],
   "source": [
    "%%sql"
   ]
  },
  {
   "cell_type": "markdown",
   "metadata": {
    "id": "0P6o-DFa6uJj"
   },
   "source": [
    "## Parte 2: Índices (1 punto, 0.1 cada respuesta) \n",
    "\n",
    "En esta parte del control tienen que responder cuál será el costo I/O para ejecutar consultas SQL ocupando distintos tipos de índices.\n",
    "\n",
    "En particular, en este ejercicio asumiremos que tenemos una relación ``Alumno(id INT PRIMARY KEY, nombre VARCHAR(100), promedio FLOAT)``.\n",
    "\n",
    "Tenemos a nuestra disposición dos índices: \n",
    "- Un B+tree *clustered* sobre id, y \n",
    "- Un hash index *unclustered* sobre el promedio.\n",
    "\n",
    "La relación tiene 320,000 tuplas. En cada página del disco nos alcanzan 100 tuplas.El promedio toma valores entre 3.9 y 7.0, en incrementos de 0.1 (i.e. hay solo 32 posibles valores de promedio). Los ids van desde 1 a 320,000.\n",
    "\n",
    "El árbol es de altura *h*, y la hojas están ocupadas al 80%. \n",
    "\n",
    "En el Hash Index cada página contiene 1,000 punteros a las páginas del disco y hay 32 buckets (uno para cada promedio). Las notas son distribuidas de manera uniforme y **sí hay overflow pages** (deberían calcular cuánto).\n",
    "\n",
    "¿Cuál es el costo de evaluar las siguientes consultas con cada índice (en el peor de los casos)?\n",
    "\n",
    "```sql\n",
    "1. SELECT * FROM Alumno WHERE id=12\n",
    "2. SELECT * FROM Alumno WHERE nombre = 'Adrián Soto'\n",
    "3. SELECT * FROM Alumno WHERE promedio = 5.6\n",
    "4. SELECT * FROM Alumno WHERE id > 1000 AND id <= 2000\n",
    "5. SELECT * FROM Alumno WHERE promedio <4.9\n",
    "```"
   ]
  },
  {
   "cell_type": "markdown",
   "metadata": {
    "id": "WsUC0DiIRCEW"
   },
   "source": []
  }
 ],
 "metadata": {
  "colab": {
   "collapsed_sections": [],
   "name": "enunciado.ipynb",
   "provenance": [],
   "toc_visible": true
  },
  "kernelspec": {
   "display_name": "Python 3",
   "language": "python",
   "name": "python3"
  },
  "language_info": {
   "codemirror_mode": {
    "name": "ipython",
    "version": 3
   },
   "file_extension": ".py",
   "mimetype": "text/x-python",
   "name": "python",
   "nbconvert_exporter": "python",
   "pygments_lexer": "ipython3",
   "version": "3.7.5"
  }
 },
 "nbformat": 4,
 "nbformat_minor": 1
}
