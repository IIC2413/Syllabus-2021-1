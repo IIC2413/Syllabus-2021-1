{
 "cells": [
  {
   "cell_type": "code",
   "execution_count": 2,
   "metadata": {
    "id": "xRFIrBQDXk61"
   },
   "outputs": [],
   "source": [
    "from db import * \n",
    "from pageNew import * \n",
    "from relation import * "
   ]
  },
  {
   "cell_type": "markdown",
   "metadata": {
    "id": "f0d9zAnsXtOp"
   },
   "source": [
    "# Introduccion Actividad 2\n",
    "\n",
    "En este control trabajaremos con una implementación de componentes básicos de una base de datos.\n",
    "\n",
    "Se les entregará una implementación sencilla de un storage manager que maneja páginas de disco. Adicionalmente, tendremos una librería que maneja relaciones, y un motor sencillo de bases de datos que permite crear tablas, insertar tuplas, y hacer consultas sencillas.\n",
    "\n",
    "**IMPORTANTE** : para ejecutar este jupyter notebook deben haber descargado los archivos disponibles en el github y tenerlos en la misma carpeta en la que se encuentra este notebook.   "
   ]
  },
  {
   "cell_type": "markdown",
   "metadata": {
    "id": "wMAnf9U9X_Ie"
   },
   "source": [
    "El flujo de información es el siguiente: los datos se guardan en páginas de disco, y la interfaz de ralciones las carga a través de un iterador a memoria. Esto es un poco distinto a lo que vimos en la clase ya que no habrá un buffer asignado a la base de datos, sino cada instancia de la relación tendrá precisamente una página del disco cargada en la memoria (pueden pensar que para una relación tendremos un frame).\n",
    "\n",
    "En nuestro caso representaremos las páginas de disco por archivos que contienen 6 líneas donde: \n",
    "* las líneas 1 a 5 contienen las casillas\n",
    "* la línea 6 contiene el string `\"<NEXT> next_page\"` que indica la siguiente página en el disco; \"next_page\" es o el nombre de un archivo en el disco, o `\"<NULL>\"` cuando estamos en la última página \n",
    "* cada casilla puede tener una tupla o estar vacía (esto último se represanta con el string `\"<EMPTY>\"`)\n",
    "* las tuplas se representarán por strings\n",
    "* los tipos de datos que puede tener una tupla son int o string que **no contenga espacios** (el espacio lo utilizaremos para separar los distintos datos de una tupla)\n",
    "\n",
    "**Ejemplo**\n",
    "\n",
    "Consideremos la relación ``R(a string, b int)`` poblada con los siguientes datos:\n",
    "\n",
    "a | b\n",
    "-- | --\n",
    "hello | 1\n",
    "bye | 2\n",
    "hola | 5\n",
    "\n",
    "Entonces la página en disco que contiene esta relación tendrá el siguiente formato.  \n",
    "\n",
    "\n",
    "```\n",
    "hello 1\n",
    "bye 2\n",
    "hola 5\n",
    "<EMPTY>\n",
    "<EMPTY>\n",
    "<NEXT> <NULL>\n",
    "```\n",
    "\n",
    "En el caso anterior, toda la relación R cabe en una sola página de disco. Veamos ahora el siguiente caso: \n",
    "\n",
    "a | b\n",
    "-- | --\n",
    "hello | 1\n",
    "bye | 2\n",
    "hola | 5\n",
    "soy | 9\n",
    "una | 10\n",
    "relacion | 7\n",
    "grande | 2\n",
    "\n",
    "Como el tamaño de pagina soporta un maximo de 5 tuplas, entonces nuestra relacion quedara dividida en dos paginas de disco: `R-1` y `R-2`. \n",
    "\n",
    "\n",
    "Primero veamos `R-1`\n",
    "```\n",
    "hello 1\n",
    "bye 2\n",
    "hola 5\n",
    "soy 9\n",
    "una 10\n",
    "<NEXT> R-2\n",
    "```\n",
    "y ahora `R-2`\n",
    "```\n",
    "relacion 7\n",
    "grande 2 \n",
    "<EMPTY>\n",
    "<EMPTY>\n",
    "<EMPTY>\n",
    "<NEXT> <NULL>\n",
    "```\n",
    "\n",
    "\n",
    "\n",
    "\n",
    "\n",
    "\n",
    "\n",
    "\n"
   ]
  },
  {
   "cell_type": "markdown",
   "metadata": {
    "id": "pg1VCaGwZO2P"
   },
   "source": [
    "## Clase Page"
   ]
  },
  {
   "cell_type": "markdown",
   "metadata": {
    "id": "HiUrCCIjZSc2"
   },
   "source": [
    "En primer lugar conoceremos la clase `Page` implementada en el archivo `pageNew.py`. Esta clase es la que se encarga de manejar las páginas en las cuales estarán guardados los datos (tuplas).\n",
    "\n",
    "A continuación se lista la signatura de la clase `Page` que incluye los métodos necesarios para leer las páginas a partir de los archivos y escribir en ellas.\n",
    " \n",
    "```\n",
    "Page\n",
    "\tAtributos:\n",
    "\t- size (número de tuplas que caben en la página)\n",
    "\t- pname (nómbre del archivo en disco que contiene la página)\n",
    "\t- data = [] (las tuplas de la página, representadas como un string)\n",
    "\t- next = ('<NULL>' o nombre de la siguiente página)\n",
    "\n",
    "\tMétodos:\n",
    "\t- write_page() -- escribir la página al disco\n",
    "\t- read_from_disk() -- leer la página pname desde el disco (pname es un dato del objeto Page)\n",
    "\t- set_next_page(next_pname) -- setea la siguiente página\n",
    "\t- get_next_page_name() -- devuelve la siguiente página, o None si esta no existe\n",
    "\t- insert_into_pos(pos, tuple) -- si la posición pos está vacía, se inserta la tupla tuple en este posición\n",
    "\t- get_element_from_page(pos) -- devuelve la tupla en la posición pos\n",
    "```\n",
    "\n",
    "\n",
    "Veamos el uso básico de esta clase:\n",
    "\n",
    "\n",
    "```py\n",
    "page = Page('P-1') # Inicializa una página vacía; este objeto todavía no está en el disco\n",
    "page.read_from_disk() # Carga el contenida de la página P-1 desde el disco, si P-1 existe en el disco\n",
    "page.write_page() # Escribe la página al disco\n",
    "page.set_next_page(next_page) # Setea el valor del next = next_page\n",
    "page.get_next_page_name() # Devuelve la página siguiente, o None si esta no existe\n",
    "page.insert_into_pos(pos,tuple) # Inserta la tupla tuple (somo un string) a la posición pos, si esta está vacía\n",
    "page.get_element_from_page(pos) # Devueleve la tupla en la posición pos si se trata de una posición válida (0-4)\n",
    "```\n",
    "\n",
    "\n",
    "\n"
   ]
  },
  {
   "cell_type": "markdown",
   "metadata": {
    "id": "FZEkkFsFaYzv"
   },
   "source": [
    "Por ejemplo, para leer la pagina R-1 (que ya tenemos creada) hacemos: "
   ]
  },
  {
   "cell_type": "code",
   "execution_count": 3,
   "metadata": {
    "colab": {
     "base_uri": "https://localhost:8080/"
    },
    "id": "DmWNxA7OZ4ip",
    "outputId": "f6010c9e-75af-4537-c4be-b544dffa0e57"
   },
   "outputs": [
    {
     "name": "stdout",
     "output_type": "stream",
     "text": [
      "['30 30', '217 3', '2 7', '1 3', '7 2']\n"
     ]
    }
   ],
   "source": [
    "# Cargamos una página que ya existe\n",
    "\n",
    "page = Page('R-1') #Crear la instancia de página\n",
    "page.read_from_disk() #Cargar la página en disco, si no existe va a tirar un error\n",
    "\n",
    "# Revisamos que contiene la pagina R-1\n",
    "print(page.data)"
   ]
  },
  {
   "cell_type": "markdown",
   "metadata": {
    "id": "T8KAWZEJdhhT"
   },
   "source": [
    "## Relaciones"
   ]
  },
  {
   "cell_type": "markdown",
   "metadata": {
    "id": "Zj9HUrYbdlLL"
   },
   "source": [
    "La segunda librería que necesitamos es un manager de tablas. El manager de tablas que usaremos se encuentra en el archivo `relation.py`, y representa la interfaz de una tabla en nuestra base de datos. \n",
    "\n",
    "Aquí encontraremos dos clases: `Relation`, que guarda información básica de la relación, y `relIter`, que nos crea un iterador de una relación, y provee los métodos `open()`, `close()` y `next()`, que permiten iterar sobre las tuplas de nuestra relación de la misma manera cómo explicamos en las clases.\n",
    "\n",
    "```\n",
    "Relation:\n",
    "\tAtributos:\n",
    "\t- rName -- nombre de la relación; un string \n",
    "\t- attributes -- lista de nombres de atributos e.g. ['a','b'] \n",
    "\t- types -- lista de tipos de atributos e.g. ['int','str'] -- solo soportamos int y str \n",
    "\t- numAttrib = len(attributes) -- número de atributos\n",
    "\t- root_page = rName + '-1' -- nombre de la primera página de la relación (convención R-1, R-2, ... para la relacion R); si la relación está guardada en el disco, se carga la primera página, y si todavía no hay nada en el disco, se crea la primera página\n",
    "\t\n",
    "\tMétodos:\n",
    "\t- get_attribute_types() -- devuelve dicionario con el esquema de la relación (e.g. para R(a int, b str) devuelve {'a': 'int', 'b': 'str'} )\n",
    "\t- get_individual_values(tup) -- si tup es string con una tupla de la relación devuelve el arreglo de valores; e.g. si tup = '1 Hola', R(a int, b str), entonces R.get_individual_values(tup) = [1,'Hola']\n",
    "\t- insert_tuple(tup) -- inserta la tupla tup en la relación (esto deben implementarlo ustedes)\n",
    "```\n",
    "\n",
    "```\n",
    "relIter:\n",
    "    Atributos:\n",
    "    - relation -- instancia de la ralación sobre cual vamos a iterar\n",
    "    - opened_page -- la página de nuestra relación qué tenemos cargada en la RAM\n",
    "    - current_page -- nombre de la página actual cargada en la memoria (puntero a página)\n",
    "    - current_pos -- posición en la página actual (puntero a posición)\n",
    "    \n",
    "    Métodos:\n",
    "    - open() -- carga la página raíz de la relación en opened_page; setea los punteros antes de la primera tupla\n",
    "    - has_next() -- revisa si existe una siguiente tupla; posiciona los punteros current_page y current_pos sobre la siguiente tupla\n",
    "    - next() -- retorna la siguiente tupla\n",
    "    - close() -- cierra el iterador\n",
    "    \n",
    "```\n",
    "\n",
    "Veamos el uso básico de la clase `Relation`:\n",
    "\n",
    "\n",
    "```py\n",
    "R = Relation('R',['a','b'],['int','int']) # Crea una nueva relación llamada 'R', con esquema R(a int, b int); si la primera página de R (llamada 'R-1' existe en el disco, se asume que la relación ya existe, y se carga desde el disco, si no, se crea la página 'R-1' (sin datos), y escribe al disco)\n",
    "R.get_attribute_types() # Devuelve el diccionario indicando el tipo de cada atributo... {'a':'int', 'b':'int'} para nuestro ejemplo\n",
    "R.get_individual_values(tup) # Si 'tup' es una tupla segun el esquema de 'R', se devuelve el diccionario de valores; por ejemplo, R.get_individual_values('1 73') devuelve {'a':1, 'b':73} en nuestro ejemplo\n",
    "```\n",
    "\n",
    "Ahora, veamos el uso básico de la clase `relIter` para recorrer las tuplas de la relación R:\n",
    "\n",
    "\n",
    "```py\n",
    "iterR = relIter(R)\n",
    "\n",
    "iterR.open()\n",
    "\n",
    "t = iterR.next()\n",
    "\n",
    "while t:\n",
    "\tprint(t)\n",
    "\tt = iterR.next()\n",
    "\n",
    "iterR.close()\n",
    "```\n",
    "\n",
    "Veamos un ejemplo: \n"
   ]
  },
  {
   "cell_type": "code",
   "execution_count": 4,
   "metadata": {
    "id": "v7Pu_hYFdMF2"
   },
   "outputs": [],
   "source": [
    "R = Relation('R' ,['a','b'], ['int','int']) # Cargamos la relacion R de disco"
   ]
  },
  {
   "cell_type": "code",
   "execution_count": 5,
   "metadata": {
    "colab": {
     "base_uri": "https://localhost:8080/",
     "height": 399
    },
    "id": "QcnceQeAeTrf",
    "outputId": "359bc2cf-bdfc-410e-8628-964249be4fdb"
   },
   "outputs": [
    {
     "name": "stdout",
     "output_type": "stream",
     "text": [
      "30 30\n",
      "217 3\n",
      "2 7\n",
      "1 3\n",
      "7 2\n",
      "1 1\n",
      "7 7\n",
      "1 2\n",
      "1 8\n",
      "16 37\n",
      "15 7\n",
      "15 4\n",
      "15 3\n",
      "15 2\n",
      "15 1\n",
      "15 5\n",
      "16 3\n",
      "16 2\n",
      "16 1\n",
      "15 6\n",
      "11 22\n",
      "210 3\n",
      "218 3\n",
      "219 3\n",
      "220 3\n",
      "123 321\n",
      "220 7\n",
      "77 88\n",
      "88 00\n",
      "88 99\n",
      "14 12\n"
     ]
    }
   ],
   "source": [
    "# Ahora imprimimos por las tuplas de R, esto nos mueve por todas las paginas de R (R-1, R-2, ... , R-n),\n",
    "# a través del relIter iterR\n",
    "\n",
    "iterR = relIter(R)\n",
    "\n",
    "iterR.open()\n",
    "\n",
    "t = iterR.next()\n",
    "\n",
    "while t:\n",
    "    print(t)\n",
    "    t = iterR.next()\n",
    "\n",
    "iterR.close()"
   ]
  },
  {
   "cell_type": "markdown",
   "metadata": {
    "id": "zIfFp5LVfd19"
   },
   "source": [
    "## Motor de base de datos"
   ]
  },
  {
   "cell_type": "markdown",
   "metadata": {
    "id": "vKGwEPRBfh_i"
   },
   "source": [
    "Finalmente, nuestro motor de bases de datos, ubicado en `db.py`, nos permite interactuar con las relaciones, cuyos datos están guardados en la páginas del disco, y los cuales se consiguen ocupando los iteradores.\n",
    "\n",
    "La base de datos guarda las relaciones en el siguiente objeto:\n",
    "- `Relations`: un dicionario objetos de la clase `Relation`, indexado por el nombre de la relación (e.g. `{'R': Relation('R',['a','b'],['int','int'])}`)\n",
    "\n",
    "La base de datos provee las siguientes funcionalidades:\n",
    "\n",
    "\t- create_table(rName, attributes, types) -- se crea un objeto de tipo Relation que ocupa el buffer de la base de datos, y se guarda en el dicionario Relations. Si la relación con el nombre rName ya existe en la base de datos se devuelve un error\n",
    "\t- all_tuples(R) -- devuelve todas las tuplas de la relación R; aquí R es el nombre de la relación, y no una instancia de la clase relation\n",
    "\n",
    "Veamos un ejemplo de uso: \n"
   ]
  },
  {
   "cell_type": "code",
   "execution_count": 6,
   "metadata": {
    "colab": {
     "base_uri": "https://localhost:8080/"
    },
    "id": "XDHsiUR9eY-V",
    "outputId": "d1896f50-05f9-4842-d949-26c6bb0e26e3"
   },
   "outputs": [
    {
     "data": {
      "text/plain": [
       "True"
      ]
     },
     "execution_count": 6,
     "metadata": {},
     "output_type": "execute_result"
    }
   ],
   "source": [
    "# Creando tablas (los archivos de estas dos relaciones están en la carpeta con el código):\n",
    "create_table('R',['a','b'],['int','int'])\n",
    "create_table('S',['b','c'],['int','int'])"
   ]
  },
  {
   "cell_type": "code",
   "execution_count": 8,
   "metadata": {
    "colab": {
     "base_uri": "https://localhost:8080/"
    },
    "id": "CAES1dI32RmQ",
    "outputId": "88fd2f8c-c5f1-4a0f-af97-b4ec3cc415e5"
   },
   "outputs": [
    {
     "name": "stdout",
     "output_type": "stream",
     "text": [
      "30 30\n",
      "217 3\n",
      "2 7\n",
      "1 3\n",
      "7 2\n",
      "1 1\n",
      "7 7\n",
      "1 2\n",
      "1 8\n",
      "16 37\n",
      "15 7\n",
      "15 4\n",
      "15 3\n",
      "15 2\n",
      "15 1\n",
      "15 5\n",
      "16 3\n",
      "16 2\n",
      "16 1\n",
      "15 6\n",
      "11 22\n",
      "210 3\n",
      "218 3\n",
      "219 3\n",
      "220 3\n",
      "123 321\n",
      "220 7\n",
      "77 88\n",
      "88 00\n",
      "88 99\n",
      "14 12\n"
     ]
    }
   ],
   "source": [
    "all_tuples('R') # Imprime las tuplas en 'R'"
   ]
  },
  {
   "cell_type": "code",
   "execution_count": 9,
   "metadata": {
    "colab": {
     "base_uri": "https://localhost:8080/"
    },
    "id": "jvUfIohH2Tse",
    "outputId": "baa1d8e4-18aa-4241-ee48-e7aa11172d66"
   },
   "outputs": [
    {
     "name": "stdout",
     "output_type": "stream",
     "text": [
      "1 1\n",
      "1 3\n",
      "4 4\n",
      "1 8\n"
     ]
    }
   ],
   "source": [
    "all_tuples('S') # Imprime todas las tuplas en 'S'"
   ]
  },
  {
   "cell_type": "code",
   "execution_count": 10,
   "metadata": {
    "colab": {
     "base_uri": "https://localhost:8080/"
    },
    "id": "sZwysjyh28CR",
    "outputId": "63ec2caa-f49a-483b-b465-11d6a4f0bd0b"
   },
   "outputs": [
    {
     "data": {
      "text/plain": [
       "True"
      ]
     },
     "execution_count": 10,
     "metadata": {},
     "output_type": "execute_result"
    }
   ],
   "source": [
    "# Podemos crear una nueva relacion N, con las paginas que creamos anteriormente\n",
    "# Nuestra relacion sera N(a int, b int, c int)\n",
    "\n",
    "create_table('N',['a','b','c'],['int','int','int'])"
   ]
  },
  {
   "cell_type": "code",
   "execution_count": 11,
   "metadata": {
    "id": "Ja0j55lg3hYL"
   },
   "outputs": [],
   "source": [
    "# Como nuestras páginas estaban vacías, nuestra relación tambión lo estará\n",
    "all_tuples('N')"
   ]
  },
  {
   "cell_type": "markdown",
   "metadata": {
    "id": "IflLgKQrf4mL"
   },
   "source": [
    "# La actividad"
   ]
  },
  {
   "cell_type": "markdown",
   "metadata": {
    "id": "Xo8JRAD1gDYL"
   },
   "source": [
    "Para esta actividad ustedes deben implementar los siguientes metodos: \n",
    "\n"
   ]
  },
  {
   "cell_type": "markdown",
   "metadata": {
    "id": "EcIoCIMYgOnR"
   },
   "source": [
    "\n",
    "1. **[2 puntos]** Implementar ``insert_tuple(tup)`` en `relation.py` \n",
    "\n",
    "    - Para esta primera actividad deben, en primer lugar, revisar si la tupla ya está en la relación. (Hay una clase ya implementada que les puede ayudar en esto.) Si no está, deben insertar la tupla en alguna posición que se encuentre vacía (sea una posición de una página existente marcada con `'<EMPTY>'` o una posición en una página nueva). Si crean una página nueva tienen que linkearla con la anterior. Si exsite una posición vacía en alguna página existente, la tupla se debería insertar allí, sin crear una página nueva. Si su solución siempre crea una página nueva para insertar la tupla, incluso cuando hay posiciones vacías, se aplicará un descuento de 1 punto.\n",
    "    \n",
    "\n",
    "2. **[0.5 puntos]** Implementar el método `filtered_tuples(R,cond)` en `db.py`\n",
    "    - Se trata de la cosulta 'SELECT * FROM R WHERE a = 1'. La condición 'cond' será siempre un string del estilo 'atributo = valor'. Pueden asumir que 'cond' siempre viene bien formateada. El método debería validar si el atributo existe en la relación. \n",
    "    \n",
    "    \n",
    "3. **[0.5 puntos]** Implementar el método `projected_tuples(R,attribs)` en `db.py`\n",
    "    - Aquí 'attribs' es una lista de los nombres de atributos de 'R' qué se quieren proyectar. Lo mismo cómo en SQL, no es necesario eliminar los duplicados.\n",
    "    \n",
    "    \n",
    "4. **[1 punto]** Implementar el método `cross(R,S)` en `db.py`\n",
    "    - Este método debería imprimir las tuplas en el producto cruz de 'R' y 'S'\n",
    "    \n",
    "    \n",
    "5. **[2 puntos]** Implementar el método `nested_loop_join(R,S,join)` en `db.py`\n",
    "    - Aquí deberían implementar el algoritmo de nested loops join para imprimir todas las tuplas en el join de 'R' y 'S' segun las condiciones especificadas en el 'join'. Aquí 'join' será una lista de pares de atributos que aparecen en 'R' y 'S'. Por ejemplo, nested_loop_join(R,S,join), donde join = [('a','name'),('b','age')], ejecuta la consulta 'SELECT * FROM R,S WHERE R.a = S.name AND R.b = S.age'. La lista 'join' siempre viene bien especificada (i.e. pueden asumir que es una lista de pares de strings). El método debería validar que los atributos existen en sus relaciones respectivas.\n",
    "\n",
    "**Importante:** Para todos estos métodos, deben ocupar iterador de la relación para acceder a sus tuplas, y no pueden cargar páginas de la relación de otra manera. ¡Si no ocupan los iter se les asignará 0 puntos! Este comentario aplica solo para las actividades 2,3,4,5. Para 1 pueden hacer lo que quieran.\n",
    "\n",
    "\n",
    "\n",
    "\n",
    "\n",
    " "
   ]
  },
  {
   "cell_type": "markdown",
   "metadata": {
    "id": "3PB3qL07jkDb"
   },
   "source": [
    "## La entrega\n",
    "\n",
    "Deben entregar un archivo .zip que contenga los archivos .py con las implementaciones pedidas. Ademas debe entregar este jupyter notebook con un demo de código que realice lo siguiente: \n",
    "\n",
    "1. Crear una relación nueva  `T(a int, c int, d int)`\n",
    "2. Usando su método `insert_tuple(tup)`, inserte 7 tuplas en T. Luego de esto, muestre todas las tuplas en T\n",
    "3. Usando su método `filtered_tuples(R,cond)` realice la consulta `SELECT * FROM T WHERE a=1`\n",
    "4. Usando su método `projected_tuples(R,attribs)` realice la consulta `SELECT a,d FROM T`\n",
    "5. Ejecute un producto cruz entre R y T\n",
    "6. Ejecute un nested loop join entre R y S\n",
    "\n",
    "Si lo considera necesario, escriba un readme que explique su código y/o como ejecutarlo. \n",
    "\n",
    "**Recuerde que los datos de las relaciones R y S ya estan creados y disponibles para su descarga en el github del curso (no deben crearlos ustedes)**\n",
    "\n"
   ]
  },
  {
   "cell_type": "markdown",
   "metadata": {
    "id": "Rgr_AXLhkCE8"
   },
   "source": [
    "*Escriba aquí su readme!*\n",
    "> *bla, bla bla*\n",
    "\n"
   ]
  },
  {
   "cell_type": "code",
   "execution_count": null,
   "metadata": {
    "id": "j2Awa-nUhboc"
   },
   "outputs": [],
   "source": [
    "## Escriba aqui el demo de uso del metodo insert_tuple(tup)\n",
    "\n",
    "# Crear la relacion T\n",
    "# Hacer 7 inserciones\n",
    "# Mostrar all_tuples('T')\n"
   ]
  },
  {
   "cell_type": "code",
   "execution_count": null,
   "metadata": {
    "id": "MbIRqv_XgUJZ"
   },
   "outputs": [],
   "source": [
    "## Escriba aqui el demo de uso del metodo filtered_tuples(T,cond)\n",
    "\n",
    "# SELECT * FROM T WHERE a=1"
   ]
  },
  {
   "cell_type": "code",
   "execution_count": null,
   "metadata": {},
   "outputs": [],
   "source": [
    "## Escriba aqui el demo de uso del metodo projected_tuples(T,cond)\n",
    "\n",
    "# SELECT * FROM T WHERE a=1"
   ]
  },
  {
   "cell_type": "code",
   "execution_count": null,
   "metadata": {},
   "outputs": [],
   "source": [
    "## Escriba aqui el demo de uso del metodo cross(R,S)\n",
    "\n",
    "# cross('R','S')"
   ]
  },
  {
   "cell_type": "code",
   "execution_count": null,
   "metadata": {
    "id": "WkQ1qmsdgOPw"
   },
   "outputs": [],
   "source": [
    "## Escriba aqui el demo de uso del metodo nested_loop_join(R,S)\n",
    "\n",
    "# nested_loop_join('R','S')\n"
   ]
  }
 ],
 "metadata": {
  "colab": {
   "name": "Actividad 2.ipynb",
   "provenance": [],
   "toc_visible": true
  },
  "kernelspec": {
   "display_name": "Python 3",
   "language": "python",
   "name": "python3"
  },
  "language_info": {
   "codemirror_mode": {
    "name": "ipython",
    "version": 3
   },
   "file_extension": ".py",
   "mimetype": "text/x-python",
   "name": "python",
   "nbconvert_exporter": "python",
   "pygments_lexer": "ipython3",
   "version": "3.8.4"
  }
 },
 "nbformat": 4,
 "nbformat_minor": 1
}
