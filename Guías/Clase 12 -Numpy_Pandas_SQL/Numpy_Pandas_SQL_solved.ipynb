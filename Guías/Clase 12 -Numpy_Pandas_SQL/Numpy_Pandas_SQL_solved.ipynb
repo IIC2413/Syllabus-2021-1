{
 "cells": [
  {
   "cell_type": "markdown",
   "metadata": {},
   "source": [
    "# Guía Data Science - Numpy, Pandas, SQL\n",
    "\n",
    "En esta guía veremos algunos conceptos básicos que se necesitan para el manejo de datos. Comenzaremos con una pequeña introducción a ``numpy``, luego aprenderemos un poco sobre ``pandas`` y finalmente utilizaremos datos externos y los procesaremos con SQL."
   ]
  },
  {
   "cell_type": "markdown",
   "metadata": {},
   "source": [
    "Te recomendamos correr este notebook en google colab para que no tengas que instalar nada en tu computador. Para subir los archivos `comunas.db` y `Resultados_Pleb.csv` que utilizaremos más adelante de la siguiente forma: \n",
    "\n",
    "- Si los tienes descargados, puedes subirlos en la sección de Archivos (hay un ícono de carpeta en el menú del lado izquierdo).\n",
    "- Si no los tienes descargados, puedes acceder a los archivos en github utilizando el siguiente comando en una celda del notebook:\n",
    "```\n",
    "!wget  [link a github donde se encuentra el archivo]\n",
    "```\n",
    "Por ejemplo\n",
    "```\n",
    "!wget  https://github.com/IIC2413/Syllabus-2021-1/raw/main/Controles/Control%202/tu_shop_mini.db\n",
    "```"
   ]
  },
  {
   "cell_type": "markdown",
   "metadata": {},
   "source": [
    "## 1. Numpy"
   ]
  },
  {
   "cell_type": "markdown",
   "metadata": {},
   "source": [
    "`NumPy` es una librería para hacer computos numéricos en Python y la necesitamos conocer (en concreto, el manejo de arreglos) para poder entender el funcionamiento de `pandas`. Es la base de muchas otras librerías científicas. Entre otras cosas, nos permite:\n",
    "\n",
    "- Utilizar arreglos multidimensionales.\n",
    "- Utilizar funciones matemáticas.\n",
    "- Utilizar herramientas de álgebra lineal.\n",
    "\n",
    "Para comenzar a trabajar vamos a importar la librería y crear un pequeño arreglo de elementos aleatorios."
   ]
  },
  {
   "cell_type": "code",
   "execution_count": 1,
   "metadata": {},
   "outputs": [
    {
     "data": {
      "text/plain": [
       "array([[-2.19994153, -1.40876017,  0.74589012,  1.5840807 ],\n",
       "       [ 0.47803117, -1.35987555,  1.39891381,  0.29880645]])"
      ]
     },
     "execution_count": 1,
     "metadata": {},
     "output_type": "execute_result"
    }
   ],
   "source": [
    "import numpy as np\n",
    "\n",
    "data = np.random.randn(2,4)\n",
    "data"
   ]
  },
  {
   "cell_type": "markdown",
   "metadata": {},
   "source": [
    "A diferencia de una lista, podemos hacer operaciones matriciales, como multiplicar el arreglo `data` por un escalar:"
   ]
  },
  {
   "cell_type": "code",
   "execution_count": 2,
   "metadata": {},
   "outputs": [
    {
     "data": {
      "text/plain": [
       "array([[-21.99941533, -14.08760172,   7.45890121,  15.84080698],\n",
       "       [  4.78031171, -13.59875552,  13.98913805,   2.98806449]])"
      ]
     },
     "execution_count": 2,
     "metadata": {},
     "output_type": "execute_result"
    }
   ],
   "source": [
    "data*10"
   ]
  },
  {
   "cell_type": "markdown",
   "metadata": {},
   "source": [
    "o sumarle una matriz:"
   ]
  },
  {
   "cell_type": "code",
   "execution_count": 3,
   "metadata": {},
   "outputs": [
    {
     "data": {
      "text/plain": [
       "array([[-4.39988307, -2.81752034,  1.49178024,  3.1681614 ],\n",
       "       [ 0.95606234, -2.7197511 ,  2.79782761,  0.5976129 ]])"
      ]
     },
     "execution_count": 3,
     "metadata": {},
     "output_type": "execute_result"
    }
   ],
   "source": [
    "data + data"
   ]
  },
  {
   "cell_type": "markdown",
   "metadata": {},
   "source": [
    "También podemos crear arreglos a partir de una lista:"
   ]
  },
  {
   "cell_type": "code",
   "execution_count": 4,
   "metadata": {},
   "outputs": [
    {
     "data": {
      "text/plain": [
       "array([1, 1, 2, 3, 5])"
      ]
     },
     "execution_count": 4,
     "metadata": {},
     "output_type": "execute_result"
    }
   ],
   "source": [
    "list1 = [1, 1, 2, 3, 5]\n",
    "arr1 = np.array(list1)\n",
    "arr1"
   ]
  },
  {
   "cell_type": "code",
   "execution_count": 5,
   "metadata": {},
   "outputs": [
    {
     "data": {
      "text/plain": [
       "array([[ 1,  1,  2,  3],\n",
       "       [ 5,  8, 13, 21]])"
      ]
     },
     "execution_count": 5,
     "metadata": {},
     "output_type": "execute_result"
    }
   ],
   "source": [
    "list2 = [[1, 1, 2, 3], [5, 8, 13, 21]]\n",
    "arr2 =np.array(list2)\n",
    "arr2"
   ]
  },
  {
   "cell_type": "markdown",
   "metadata": {},
   "source": [
    "Para preguntar el número de dimensiones en un arreglo utilizamos `ndim` y para preguntar los tamaños de cada una de esas dimensiones utilizamos `shape` (por ejemplo, pensar en arr2 como una matriz de 2 x 4)."
   ]
  },
  {
   "cell_type": "code",
   "execution_count": 6,
   "metadata": {},
   "outputs": [
    {
     "data": {
      "text/plain": [
       "2"
      ]
     },
     "execution_count": 6,
     "metadata": {},
     "output_type": "execute_result"
    }
   ],
   "source": [
    "arr2.ndim"
   ]
  },
  {
   "cell_type": "code",
   "execution_count": 7,
   "metadata": {},
   "outputs": [
    {
     "data": {
      "text/plain": [
       "(2, 4)"
      ]
     },
     "execution_count": 7,
     "metadata": {},
     "output_type": "execute_result"
    }
   ],
   "source": [
    "arr2.shape"
   ]
  },
  {
   "cell_type": "markdown",
   "metadata": {},
   "source": [
    "Para acceder a un elemento:"
   ]
  },
  {
   "cell_type": "code",
   "execution_count": 8,
   "metadata": {},
   "outputs": [
    {
     "data": {
      "text/plain": [
       "2"
      ]
     },
     "execution_count": 8,
     "metadata": {},
     "output_type": "execute_result"
    }
   ],
   "source": [
    "arr1[2]"
   ]
  },
  {
   "cell_type": "code",
   "execution_count": 9,
   "metadata": {},
   "outputs": [
    {
     "data": {
      "text/plain": [
       "13"
      ]
     },
     "execution_count": 9,
     "metadata": {},
     "output_type": "execute_result"
    }
   ],
   "source": [
    "arr2[1][2]"
   ]
  },
  {
   "cell_type": "markdown",
   "metadata": {},
   "source": [
    "También podemos acceder de la siguiente forma:"
   ]
  },
  {
   "cell_type": "code",
   "execution_count": 10,
   "metadata": {},
   "outputs": [
    {
     "data": {
      "text/plain": [
       "13"
      ]
     },
     "execution_count": 10,
     "metadata": {},
     "output_type": "execute_result"
    }
   ],
   "source": [
    "arr2[1, 2]"
   ]
  },
  {
   "cell_type": "markdown",
   "metadata": {},
   "source": [
    "Y los arreglos son mutables"
   ]
  },
  {
   "cell_type": "code",
   "execution_count": 11,
   "metadata": {},
   "outputs": [
    {
     "data": {
      "text/plain": [
       "array([[  1,   1,   2,   3],\n",
       "       [  5,   8, 100,  21]])"
      ]
     },
     "execution_count": 11,
     "metadata": {},
     "output_type": "execute_result"
    }
   ],
   "source": [
    "arr2[1, 2] = 100\n",
    "arr2"
   ]
  },
  {
   "cell_type": "markdown",
   "metadata": {},
   "source": [
    "También tenemos un equivalente a `range` llamado `arange`, pero que genera un arreglo."
   ]
  },
  {
   "cell_type": "code",
   "execution_count": 12,
   "metadata": {},
   "outputs": [
    {
     "data": {
      "text/plain": [
       "array([ 0,  1,  2,  3,  4,  5,  6,  7,  8,  9, 10])"
      ]
     },
     "execution_count": 12,
     "metadata": {},
     "output_type": "execute_result"
    }
   ],
   "source": [
    "np.arange(11)"
   ]
  },
  {
   "cell_type": "code",
   "execution_count": 13,
   "metadata": {},
   "outputs": [
    {
     "data": {
      "text/plain": [
       "array([2, 3, 4, 5])"
      ]
     },
     "execution_count": 13,
     "metadata": {},
     "output_type": "execute_result"
    }
   ],
   "source": [
    "np.arange(2,6)"
   ]
  },
  {
   "cell_type": "markdown",
   "metadata": {},
   "source": [
    "Por último, también podemos utilizar comparaciones booleanas con los arreglos:"
   ]
  },
  {
   "cell_type": "code",
   "execution_count": 14,
   "metadata": {},
   "outputs": [
    {
     "data": {
      "text/plain": [
       "array([False, False,  True,  True, False, False])"
      ]
     },
     "execution_count": 14,
     "metadata": {},
     "output_type": "execute_result"
    }
   ],
   "source": [
    "arr = np.array([0, 0, 1, 1, 2, 2])\n",
    "arr == 1"
   ]
  },
  {
   "cell_type": "markdown",
   "metadata": {},
   "source": [
    "El resultado de esta comparación punto a punto es un arreglo de valores booleanos. Este arreglo se puede usar para acceder a valores en otros arreglos, de forma que solo nos quedamos con los valores indicados como *true*. Vamos a crear un arreglo multidimensional e ingresar el arreglo anterior como índice:"
   ]
  },
  {
   "cell_type": "code",
   "execution_count": 15,
   "metadata": {},
   "outputs": [
    {
     "data": {
      "text/plain": [
       "array([[-0.48032123,  0.00953359, -0.23907274],\n",
       "       [-2.87863995,  0.41912901, -0.11611594],\n",
       "       [-1.68163213, -0.43449185,  0.32251911],\n",
       "       [-0.08358578, -0.36352987, -0.60483356],\n",
       "       [ 1.2254156 , -1.7092889 ,  0.81099188],\n",
       "       [ 0.29912824,  0.27621991,  0.37661032]])"
      ]
     },
     "execution_count": 15,
     "metadata": {},
     "output_type": "execute_result"
    }
   ],
   "source": [
    "arr2 = np.random.randn(6, 3)\n",
    "arr2"
   ]
  },
  {
   "cell_type": "code",
   "execution_count": 16,
   "metadata": {},
   "outputs": [
    {
     "data": {
      "text/plain": [
       "array([False, False,  True,  True, False, False])"
      ]
     },
     "execution_count": 16,
     "metadata": {},
     "output_type": "execute_result"
    }
   ],
   "source": [
    "arr == 1"
   ]
  },
  {
   "cell_type": "markdown",
   "metadata": {},
   "source": [
    "Entoncers me voy a quedar con las filas 2 y 3."
   ]
  },
  {
   "cell_type": "code",
   "execution_count": 17,
   "metadata": {},
   "outputs": [
    {
     "data": {
      "text/plain": [
       "array([[-1.68163213, -0.43449185,  0.32251911],\n",
       "       [-0.08358578, -0.36352987, -0.60483356]])"
      ]
     },
     "execution_count": 17,
     "metadata": {},
     "output_type": "execute_result"
    }
   ],
   "source": [
    "arr2[arr == 1]"
   ]
  },
  {
   "cell_type": "markdown",
   "metadata": {},
   "source": [
    "Y también podemos negar la condición:"
   ]
  },
  {
   "cell_type": "code",
   "execution_count": 18,
   "metadata": {},
   "outputs": [
    {
     "data": {
      "text/plain": [
       "array([[-0.48032123,  0.00953359, -0.23907274],\n",
       "       [-2.87863995,  0.41912901, -0.11611594],\n",
       "       [ 1.2254156 , -1.7092889 ,  0.81099188],\n",
       "       [ 0.29912824,  0.27621991,  0.37661032]])"
      ]
     },
     "execution_count": 18,
     "metadata": {},
     "output_type": "execute_result"
    }
   ],
   "source": [
    "arr2[~(arr == 1)]"
   ]
  },
  {
   "cell_type": "markdown",
   "metadata": {},
   "source": [
    "A los arreglos booleanos, comunmente se les llama máscaras (_boolean mask_)."
   ]
  },
  {
   "cell_type": "markdown",
   "metadata": {},
   "source": [
    "## 2. Pandas "
   ]
  },
  {
   "cell_type": "markdown",
   "metadata": {},
   "source": [
    "En esta segunda parte estudiaremos la herramienta de análisis de datos `pandas`, una librería que permite hacer análisis y limpieza de datos en Python. Está diseñada para trabajar con datos tabulares y heterogéneos. También es utilizada en conjunto con otras herramientas para hacer *Data Science* como `NumPy`, `SciPy`, `matplotlib` y `scikit-learn`.\n",
    "\n",
    "Partimos importando la librería:"
   ]
  },
  {
   "cell_type": "code",
   "execution_count": 19,
   "metadata": {},
   "outputs": [],
   "source": [
    "import pandas as pd"
   ]
  },
  {
   "cell_type": "markdown",
   "metadata": {},
   "source": [
    "### 2.1 Series\n",
    "\n",
    "Vamos a partir instanciando objetos de tipo `Series`. Estos objetos son como arreglos unidimensionales, solo que su índice es más explícito."
   ]
  },
  {
   "cell_type": "code",
   "execution_count": 20,
   "metadata": {},
   "outputs": [
    {
     "data": {
      "text/plain": [
       "0    1\n",
       "1    3\n",
       "2   -4\n",
       "3    7\n",
       "dtype: int64"
      ]
     },
     "execution_count": 20,
     "metadata": {},
     "output_type": "execute_result"
    }
   ],
   "source": [
    "obj = pd.Series([1, 3, -4, 7])\n",
    "obj"
   ]
  },
  {
   "cell_type": "code",
   "execution_count": 21,
   "metadata": {},
   "outputs": [
    {
     "data": {
      "text/plain": [
       "1"
      ]
     },
     "execution_count": 21,
     "metadata": {},
     "output_type": "execute_result"
    }
   ],
   "source": [
    "obj[0]"
   ]
  },
  {
   "cell_type": "code",
   "execution_count": 22,
   "metadata": {},
   "outputs": [
    {
     "data": {
      "text/plain": [
       "0    string\n",
       "1         3\n",
       "2        -4\n",
       "3         7\n",
       "dtype: object"
      ]
     },
     "execution_count": 22,
     "metadata": {},
     "output_type": "execute_result"
    }
   ],
   "source": [
    "obj = pd.Series(['string', 3, -4, 7])\n",
    "obj"
   ]
  },
  {
   "cell_type": "markdown",
   "metadata": {},
   "source": [
    "Para un objeto de tipo `Series` podemos agregar un label a sus índices."
   ]
  },
  {
   "cell_type": "code",
   "execution_count": 23,
   "metadata": {},
   "outputs": [
    {
     "data": {
      "text/plain": [
       "d    1\n",
       "c    3\n",
       "b   -4\n",
       "a    7\n",
       "dtype: int64"
      ]
     },
     "execution_count": 23,
     "metadata": {},
     "output_type": "execute_result"
    }
   ],
   "source": [
    "obj = pd.Series([1, 3, -4, 7], index=['d', 'c', 'b', 'a'])\n",
    "obj"
   ]
  },
  {
   "cell_type": "code",
   "execution_count": 24,
   "metadata": {},
   "outputs": [
    {
     "data": {
      "text/plain": [
       "3"
      ]
     },
     "execution_count": 24,
     "metadata": {},
     "output_type": "execute_result"
    }
   ],
   "source": [
    "obj['c']"
   ]
  },
  {
   "cell_type": "code",
   "execution_count": 25,
   "metadata": {},
   "outputs": [
    {
     "data": {
      "text/plain": [
       "1"
      ]
     },
     "execution_count": 25,
     "metadata": {},
     "output_type": "execute_result"
    }
   ],
   "source": [
    "obj[0]"
   ]
  },
  {
   "cell_type": "markdown",
   "metadata": {},
   "source": [
    "Podemos seleccionar varios elementos según el label de su índice o su posición."
   ]
  },
  {
   "cell_type": "code",
   "execution_count": 26,
   "metadata": {},
   "outputs": [
    {
     "data": {
      "text/plain": [
       "c    3\n",
       "a    7\n",
       "dtype: int64"
      ]
     },
     "execution_count": 26,
     "metadata": {},
     "output_type": "execute_result"
    }
   ],
   "source": [
    "obj[['c', 'a']]"
   ]
  },
  {
   "cell_type": "code",
   "execution_count": 27,
   "metadata": {},
   "outputs": [
    {
     "data": {
      "text/plain": [
       "d    1\n",
       "b   -4\n",
       "dtype: int64"
      ]
     },
     "execution_count": 27,
     "metadata": {},
     "output_type": "execute_result"
    }
   ],
   "source": [
    "obj[[0, 2]]"
   ]
  },
  {
   "cell_type": "markdown",
   "metadata": {},
   "source": [
    "Podemos hacer filtros pasando un arreglo de *booleanos*:"
   ]
  },
  {
   "cell_type": "code",
   "execution_count": 28,
   "metadata": {},
   "outputs": [
    {
     "data": {
      "text/plain": [
       "c    3\n",
       "a    7\n",
       "dtype: int64"
      ]
     },
     "execution_count": 28,
     "metadata": {},
     "output_type": "execute_result"
    }
   ],
   "source": [
    "obj[obj > 2]"
   ]
  },
  {
   "cell_type": "markdown",
   "metadata": {},
   "source": [
    "Recordemos lo que significaba la comparación `obj > 2` en `NumPy`. Genera una máscara con el mismo largo que `obj` que tenía el valor `True` en todas las posiciones con valor mayor a 2."
   ]
  },
  {
   "cell_type": "code",
   "execution_count": 29,
   "metadata": {},
   "outputs": [
    {
     "data": {
      "text/plain": [
       "d    False\n",
       "c     True\n",
       "b    False\n",
       "a     True\n",
       "dtype: bool"
      ]
     },
     "execution_count": 29,
     "metadata": {},
     "output_type": "execute_result"
    }
   ],
   "source": [
    "obj > 2"
   ]
  },
  {
   "cell_type": "markdown",
   "metadata": {},
   "source": [
    "Por lo que en `obj[obj > 2]` se muestran sólo las filas en la que el arreglo anterior era `True`.\n",
    "\n",
    "Finalmente, podemos crear un objeto `Series` a partir de un diccionario. Supongamos el siguiente diccionario de personas junto a su edad."
   ]
  },
  {
   "cell_type": "code",
   "execution_count": 30,
   "metadata": {},
   "outputs": [
    {
     "data": {
      "text/plain": [
       "Alice      20\n",
       "Bob        17\n",
       "Charles    23\n",
       "Dino       50\n",
       "dtype: int64"
      ]
     },
     "execution_count": 30,
     "metadata": {},
     "output_type": "execute_result"
    }
   ],
   "source": [
    "people = {'Alice': 20, 'Bob': 17, 'Charles': 23, 'Dino': 50}\n",
    "people_series = pd.Series(people)\n",
    "people_series"
   ]
  },
  {
   "cell_type": "markdown",
   "metadata": {},
   "source": [
    "### 2.2 DataFrame\n",
    "\n",
    "Un objeto de tipo `DataFrame` representa una tabla, en que cada una de sus columnas representa un tipo. Vamos a construir una tabla a partir de un diccionario."
   ]
  },
  {
   "cell_type": "code",
   "execution_count": 31,
   "metadata": {},
   "outputs": [
    {
     "data": {
      "text/html": [
       "<div>\n",
       "<style scoped>\n",
       "    .dataframe tbody tr th:only-of-type {\n",
       "        vertical-align: middle;\n",
       "    }\n",
       "\n",
       "    .dataframe tbody tr th {\n",
       "        vertical-align: top;\n",
       "    }\n",
       "\n",
       "    .dataframe thead th {\n",
       "        text-align: right;\n",
       "    }\n",
       "</style>\n",
       "<table border=\"1\" class=\"dataframe\">\n",
       "  <thead>\n",
       "    <tr style=\"text-align: right;\">\n",
       "      <th></th>\n",
       "      <th>name</th>\n",
       "      <th>pop</th>\n",
       "      <th>pib</th>\n",
       "    </tr>\n",
       "  </thead>\n",
       "  <tbody>\n",
       "    <tr>\n",
       "      <th>0</th>\n",
       "      <td>Metropolitana</td>\n",
       "      <td>7112808</td>\n",
       "      <td>24850</td>\n",
       "    </tr>\n",
       "    <tr>\n",
       "      <th>1</th>\n",
       "      <td>Valparaiso</td>\n",
       "      <td>1815902</td>\n",
       "      <td>14510</td>\n",
       "    </tr>\n",
       "    <tr>\n",
       "      <th>2</th>\n",
       "      <td>Biobío</td>\n",
       "      <td>1538194</td>\n",
       "      <td>13281</td>\n",
       "    </tr>\n",
       "    <tr>\n",
       "      <th>3</th>\n",
       "      <td>Maule</td>\n",
       "      <td>1044950</td>\n",
       "      <td>12695</td>\n",
       "    </tr>\n",
       "    <tr>\n",
       "      <th>4</th>\n",
       "      <td>Araucanía</td>\n",
       "      <td>957224</td>\n",
       "      <td>11064</td>\n",
       "    </tr>\n",
       "    <tr>\n",
       "      <th>5</th>\n",
       "      <td>O'Higgins</td>\n",
       "      <td>914555</td>\n",
       "      <td>14840</td>\n",
       "    </tr>\n",
       "  </tbody>\n",
       "</table>\n",
       "</div>"
      ],
      "text/plain": [
       "            name      pop    pib\n",
       "0  Metropolitana  7112808  24850\n",
       "1     Valparaiso  1815902  14510\n",
       "2         Biobío  1538194  13281\n",
       "3          Maule  1044950  12695\n",
       "4      Araucanía   957224  11064\n",
       "5      O'Higgins   914555  14840"
      ]
     },
     "execution_count": 31,
     "metadata": {},
     "output_type": "execute_result"
    }
   ],
   "source": [
    "reg_chile = {'name': ['Metropolitana', 'Valparaiso', 'Biobío', 'Maule', 'Araucanía', 'O\\'Higgins'],\n",
    "             'pop': [7112808, 1815902, 1538194, 1044950, 957224, 914555],\n",
    "             'pib': [24850, 14510, 13281, 12695, 11064, 14840]}\n",
    "frame = pd.DataFrame(reg_chile)\n",
    "frame"
   ]
  },
  {
   "cell_type": "markdown",
   "metadata": {},
   "source": [
    "Podemos usar la función `head` para tener sólo las 5 primeras columnas del Data Frame. En este caso no es mucho aporte, pero para un Data Frame más grande no puede servir para ver cómo vienen los datos."
   ]
  },
  {
   "cell_type": "code",
   "execution_count": 32,
   "metadata": {},
   "outputs": [
    {
     "data": {
      "text/html": [
       "<div>\n",
       "<style scoped>\n",
       "    .dataframe tbody tr th:only-of-type {\n",
       "        vertical-align: middle;\n",
       "    }\n",
       "\n",
       "    .dataframe tbody tr th {\n",
       "        vertical-align: top;\n",
       "    }\n",
       "\n",
       "    .dataframe thead th {\n",
       "        text-align: right;\n",
       "    }\n",
       "</style>\n",
       "<table border=\"1\" class=\"dataframe\">\n",
       "  <thead>\n",
       "    <tr style=\"text-align: right;\">\n",
       "      <th></th>\n",
       "      <th>name</th>\n",
       "      <th>pop</th>\n",
       "      <th>pib</th>\n",
       "    </tr>\n",
       "  </thead>\n",
       "  <tbody>\n",
       "    <tr>\n",
       "      <th>0</th>\n",
       "      <td>Metropolitana</td>\n",
       "      <td>7112808</td>\n",
       "      <td>24850</td>\n",
       "    </tr>\n",
       "    <tr>\n",
       "      <th>1</th>\n",
       "      <td>Valparaiso</td>\n",
       "      <td>1815902</td>\n",
       "      <td>14510</td>\n",
       "    </tr>\n",
       "    <tr>\n",
       "      <th>2</th>\n",
       "      <td>Biobío</td>\n",
       "      <td>1538194</td>\n",
       "      <td>13281</td>\n",
       "    </tr>\n",
       "    <tr>\n",
       "      <th>3</th>\n",
       "      <td>Maule</td>\n",
       "      <td>1044950</td>\n",
       "      <td>12695</td>\n",
       "    </tr>\n",
       "    <tr>\n",
       "      <th>4</th>\n",
       "      <td>Araucanía</td>\n",
       "      <td>957224</td>\n",
       "      <td>11064</td>\n",
       "    </tr>\n",
       "  </tbody>\n",
       "</table>\n",
       "</div>"
      ],
      "text/plain": [
       "            name      pop    pib\n",
       "0  Metropolitana  7112808  24850\n",
       "1     Valparaiso  1815902  14510\n",
       "2         Biobío  1538194  13281\n",
       "3          Maule  1044950  12695\n",
       "4      Araucanía   957224  11064"
      ]
     },
     "execution_count": 32,
     "metadata": {},
     "output_type": "execute_result"
    }
   ],
   "source": [
    "frame.head()"
   ]
  },
  {
   "cell_type": "code",
   "execution_count": 33,
   "metadata": {},
   "outputs": [
    {
     "data": {
      "text/html": [
       "<div>\n",
       "<style scoped>\n",
       "    .dataframe tbody tr th:only-of-type {\n",
       "        vertical-align: middle;\n",
       "    }\n",
       "\n",
       "    .dataframe tbody tr th {\n",
       "        vertical-align: top;\n",
       "    }\n",
       "\n",
       "    .dataframe thead th {\n",
       "        text-align: right;\n",
       "    }\n",
       "</style>\n",
       "<table border=\"1\" class=\"dataframe\">\n",
       "  <thead>\n",
       "    <tr style=\"text-align: right;\">\n",
       "      <th></th>\n",
       "      <th>name</th>\n",
       "      <th>pop</th>\n",
       "      <th>pib</th>\n",
       "    </tr>\n",
       "  </thead>\n",
       "  <tbody>\n",
       "    <tr>\n",
       "      <th>0</th>\n",
       "      <td>Metropolitana</td>\n",
       "      <td>7112808</td>\n",
       "      <td>24850</td>\n",
       "    </tr>\n",
       "    <tr>\n",
       "      <th>1</th>\n",
       "      <td>Valparaiso</td>\n",
       "      <td>1815902</td>\n",
       "      <td>14510</td>\n",
       "    </tr>\n",
       "  </tbody>\n",
       "</table>\n",
       "</div>"
      ],
      "text/plain": [
       "            name      pop    pib\n",
       "0  Metropolitana  7112808  24850\n",
       "1     Valparaiso  1815902  14510"
      ]
     },
     "execution_count": 33,
     "metadata": {},
     "output_type": "execute_result"
    }
   ],
   "source": [
    "frame.head(2)"
   ]
  },
  {
   "cell_type": "markdown",
   "metadata": {},
   "source": [
    "Podemos proyectar valores pasando el nombre de las columnas que deseamos dejar."
   ]
  },
  {
   "cell_type": "code",
   "execution_count": 34,
   "metadata": {},
   "outputs": [
    {
     "data": {
      "text/plain": [
       "0    Metropolitana\n",
       "1       Valparaiso\n",
       "2           Biobío\n",
       "3            Maule\n",
       "4        Araucanía\n",
       "5        O'Higgins\n",
       "Name: name, dtype: object"
      ]
     },
     "execution_count": 34,
     "metadata": {},
     "output_type": "execute_result"
    }
   ],
   "source": [
    "frame['name']"
   ]
  },
  {
   "cell_type": "code",
   "execution_count": 35,
   "metadata": {},
   "outputs": [
    {
     "data": {
      "text/html": [
       "<div>\n",
       "<style scoped>\n",
       "    .dataframe tbody tr th:only-of-type {\n",
       "        vertical-align: middle;\n",
       "    }\n",
       "\n",
       "    .dataframe tbody tr th {\n",
       "        vertical-align: top;\n",
       "    }\n",
       "\n",
       "    .dataframe thead th {\n",
       "        text-align: right;\n",
       "    }\n",
       "</style>\n",
       "<table border=\"1\" class=\"dataframe\">\n",
       "  <thead>\n",
       "    <tr style=\"text-align: right;\">\n",
       "      <th></th>\n",
       "      <th>name</th>\n",
       "    </tr>\n",
       "  </thead>\n",
       "  <tbody>\n",
       "    <tr>\n",
       "      <th>0</th>\n",
       "      <td>Metropolitana</td>\n",
       "    </tr>\n",
       "    <tr>\n",
       "      <th>1</th>\n",
       "      <td>Valparaiso</td>\n",
       "    </tr>\n",
       "    <tr>\n",
       "      <th>2</th>\n",
       "      <td>Biobío</td>\n",
       "    </tr>\n",
       "    <tr>\n",
       "      <th>3</th>\n",
       "      <td>Maule</td>\n",
       "    </tr>\n",
       "    <tr>\n",
       "      <th>4</th>\n",
       "      <td>Araucanía</td>\n",
       "    </tr>\n",
       "    <tr>\n",
       "      <th>5</th>\n",
       "      <td>O'Higgins</td>\n",
       "    </tr>\n",
       "  </tbody>\n",
       "</table>\n",
       "</div>"
      ],
      "text/plain": [
       "            name\n",
       "0  Metropolitana\n",
       "1     Valparaiso\n",
       "2         Biobío\n",
       "3          Maule\n",
       "4      Araucanía\n",
       "5      O'Higgins"
      ]
     },
     "execution_count": 35,
     "metadata": {},
     "output_type": "execute_result"
    }
   ],
   "source": [
    "frame[['name']]"
   ]
  },
  {
   "cell_type": "code",
   "execution_count": 36,
   "metadata": {},
   "outputs": [
    {
     "data": {
      "text/html": [
       "<div>\n",
       "<style scoped>\n",
       "    .dataframe tbody tr th:only-of-type {\n",
       "        vertical-align: middle;\n",
       "    }\n",
       "\n",
       "    .dataframe tbody tr th {\n",
       "        vertical-align: top;\n",
       "    }\n",
       "\n",
       "    .dataframe thead th {\n",
       "        text-align: right;\n",
       "    }\n",
       "</style>\n",
       "<table border=\"1\" class=\"dataframe\">\n",
       "  <thead>\n",
       "    <tr style=\"text-align: right;\">\n",
       "      <th></th>\n",
       "      <th>name</th>\n",
       "      <th>pop</th>\n",
       "    </tr>\n",
       "  </thead>\n",
       "  <tbody>\n",
       "    <tr>\n",
       "      <th>0</th>\n",
       "      <td>Metropolitana</td>\n",
       "      <td>7112808</td>\n",
       "    </tr>\n",
       "    <tr>\n",
       "      <th>1</th>\n",
       "      <td>Valparaiso</td>\n",
       "      <td>1815902</td>\n",
       "    </tr>\n",
       "    <tr>\n",
       "      <th>2</th>\n",
       "      <td>Biobío</td>\n",
       "      <td>1538194</td>\n",
       "    </tr>\n",
       "    <tr>\n",
       "      <th>3</th>\n",
       "      <td>Maule</td>\n",
       "      <td>1044950</td>\n",
       "    </tr>\n",
       "    <tr>\n",
       "      <th>4</th>\n",
       "      <td>Araucanía</td>\n",
       "      <td>957224</td>\n",
       "    </tr>\n",
       "    <tr>\n",
       "      <th>5</th>\n",
       "      <td>O'Higgins</td>\n",
       "      <td>914555</td>\n",
       "    </tr>\n",
       "  </tbody>\n",
       "</table>\n",
       "</div>"
      ],
      "text/plain": [
       "            name      pop\n",
       "0  Metropolitana  7112808\n",
       "1     Valparaiso  1815902\n",
       "2         Biobío  1538194\n",
       "3          Maule  1044950\n",
       "4      Araucanía   957224\n",
       "5      O'Higgins   914555"
      ]
     },
     "execution_count": 36,
     "metadata": {},
     "output_type": "execute_result"
    }
   ],
   "source": [
    "frame[['name', 'pop']]"
   ]
  },
  {
   "cell_type": "markdown",
   "metadata": {},
   "source": [
    "Podemos seleccionar una determinada fila con la función `iloc`."
   ]
  },
  {
   "cell_type": "code",
   "execution_count": 37,
   "metadata": {},
   "outputs": [
    {
     "data": {
      "text/plain": [
       "name     Biobío\n",
       "pop     1538194\n",
       "pib       13281\n",
       "Name: 2, dtype: object"
      ]
     },
     "execution_count": 37,
     "metadata": {},
     "output_type": "execute_result"
    }
   ],
   "source": [
    "frame.iloc[2]"
   ]
  },
  {
   "cell_type": "markdown",
   "metadata": {},
   "source": [
    "Podemos utilizar la misma idea de filtros vista anteriormente. Por ejemplo, vamos a dejar sólamente las columnas con población mayor a 1.000.000. ¿Te suena esto a algún otro lenguaje que viste este semestre?"
   ]
  },
  {
   "cell_type": "code",
   "execution_count": 38,
   "metadata": {},
   "outputs": [
    {
     "data": {
      "text/html": [
       "<div>\n",
       "<style scoped>\n",
       "    .dataframe tbody tr th:only-of-type {\n",
       "        vertical-align: middle;\n",
       "    }\n",
       "\n",
       "    .dataframe tbody tr th {\n",
       "        vertical-align: top;\n",
       "    }\n",
       "\n",
       "    .dataframe thead th {\n",
       "        text-align: right;\n",
       "    }\n",
       "</style>\n",
       "<table border=\"1\" class=\"dataframe\">\n",
       "  <thead>\n",
       "    <tr style=\"text-align: right;\">\n",
       "      <th></th>\n",
       "      <th>name</th>\n",
       "      <th>pop</th>\n",
       "      <th>pib</th>\n",
       "    </tr>\n",
       "  </thead>\n",
       "  <tbody>\n",
       "    <tr>\n",
       "      <th>0</th>\n",
       "      <td>Metropolitana</td>\n",
       "      <td>7112808</td>\n",
       "      <td>24850</td>\n",
       "    </tr>\n",
       "    <tr>\n",
       "      <th>1</th>\n",
       "      <td>Valparaiso</td>\n",
       "      <td>1815902</td>\n",
       "      <td>14510</td>\n",
       "    </tr>\n",
       "    <tr>\n",
       "      <th>2</th>\n",
       "      <td>Biobío</td>\n",
       "      <td>1538194</td>\n",
       "      <td>13281</td>\n",
       "    </tr>\n",
       "    <tr>\n",
       "      <th>3</th>\n",
       "      <td>Maule</td>\n",
       "      <td>1044950</td>\n",
       "      <td>12695</td>\n",
       "    </tr>\n",
       "  </tbody>\n",
       "</table>\n",
       "</div>"
      ],
      "text/plain": [
       "            name      pop    pib\n",
       "0  Metropolitana  7112808  24850\n",
       "1     Valparaiso  1815902  14510\n",
       "2         Biobío  1538194  13281\n",
       "3          Maule  1044950  12695"
      ]
     },
     "execution_count": 38,
     "metadata": {},
     "output_type": "execute_result"
    }
   ],
   "source": [
    "frame[frame['pop'] > 1000000]"
   ]
  },
  {
   "cell_type": "markdown",
   "metadata": {},
   "source": [
    "Podemos hacer filtros con `&` para hacer un `AND`:"
   ]
  },
  {
   "cell_type": "code",
   "execution_count": 39,
   "metadata": {},
   "outputs": [
    {
     "data": {
      "text/html": [
       "<div>\n",
       "<style scoped>\n",
       "    .dataframe tbody tr th:only-of-type {\n",
       "        vertical-align: middle;\n",
       "    }\n",
       "\n",
       "    .dataframe tbody tr th {\n",
       "        vertical-align: top;\n",
       "    }\n",
       "\n",
       "    .dataframe thead th {\n",
       "        text-align: right;\n",
       "    }\n",
       "</style>\n",
       "<table border=\"1\" class=\"dataframe\">\n",
       "  <thead>\n",
       "    <tr style=\"text-align: right;\">\n",
       "      <th></th>\n",
       "      <th>name</th>\n",
       "      <th>pop</th>\n",
       "      <th>pib</th>\n",
       "    </tr>\n",
       "  </thead>\n",
       "  <tbody>\n",
       "    <tr>\n",
       "      <th>1</th>\n",
       "      <td>Valparaiso</td>\n",
       "      <td>1815902</td>\n",
       "      <td>14510</td>\n",
       "    </tr>\n",
       "    <tr>\n",
       "      <th>2</th>\n",
       "      <td>Biobío</td>\n",
       "      <td>1538194</td>\n",
       "      <td>13281</td>\n",
       "    </tr>\n",
       "    <tr>\n",
       "      <th>3</th>\n",
       "      <td>Maule</td>\n",
       "      <td>1044950</td>\n",
       "      <td>12695</td>\n",
       "    </tr>\n",
       "  </tbody>\n",
       "</table>\n",
       "</div>"
      ],
      "text/plain": [
       "         name      pop    pib\n",
       "1  Valparaiso  1815902  14510\n",
       "2      Biobío  1538194  13281\n",
       "3       Maule  1044950  12695"
      ]
     },
     "execution_count": 39,
     "metadata": {},
     "output_type": "execute_result"
    }
   ],
   "source": [
    "frame[(frame['pop'] > 1000000) & (frame['pib'] < 20000)]"
   ]
  },
  {
   "cell_type": "markdown",
   "metadata": {},
   "source": [
    "Y podemos usar `|` para hacer un `OR`:"
   ]
  },
  {
   "cell_type": "code",
   "execution_count": 40,
   "metadata": {},
   "outputs": [
    {
     "data": {
      "text/html": [
       "<div>\n",
       "<style scoped>\n",
       "    .dataframe tbody tr th:only-of-type {\n",
       "        vertical-align: middle;\n",
       "    }\n",
       "\n",
       "    .dataframe tbody tr th {\n",
       "        vertical-align: top;\n",
       "    }\n",
       "\n",
       "    .dataframe thead th {\n",
       "        text-align: right;\n",
       "    }\n",
       "</style>\n",
       "<table border=\"1\" class=\"dataframe\">\n",
       "  <thead>\n",
       "    <tr style=\"text-align: right;\">\n",
       "      <th></th>\n",
       "      <th>name</th>\n",
       "      <th>pop</th>\n",
       "      <th>pib</th>\n",
       "    </tr>\n",
       "  </thead>\n",
       "  <tbody>\n",
       "    <tr>\n",
       "      <th>0</th>\n",
       "      <td>Metropolitana</td>\n",
       "      <td>7112808</td>\n",
       "      <td>24850</td>\n",
       "    </tr>\n",
       "    <tr>\n",
       "      <th>1</th>\n",
       "      <td>Valparaiso</td>\n",
       "      <td>1815902</td>\n",
       "      <td>14510</td>\n",
       "    </tr>\n",
       "  </tbody>\n",
       "</table>\n",
       "</div>"
      ],
      "text/plain": [
       "            name      pop    pib\n",
       "0  Metropolitana  7112808  24850\n",
       "1     Valparaiso  1815902  14510"
      ]
     },
     "execution_count": 40,
     "metadata": {},
     "output_type": "execute_result"
    }
   ],
   "source": [
    "frame[(frame['name'] == 'Metropolitana') | (frame['name'] == 'Valparaiso')]"
   ]
  },
  {
   "cell_type": "markdown",
   "metadata": {},
   "source": [
    "Para ordenar un objeto `DataFrame` usamos la función `sort_values`:"
   ]
  },
  {
   "cell_type": "code",
   "execution_count": 41,
   "metadata": {},
   "outputs": [
    {
     "data": {
      "text/html": [
       "<div>\n",
       "<style scoped>\n",
       "    .dataframe tbody tr th:only-of-type {\n",
       "        vertical-align: middle;\n",
       "    }\n",
       "\n",
       "    .dataframe tbody tr th {\n",
       "        vertical-align: top;\n",
       "    }\n",
       "\n",
       "    .dataframe thead th {\n",
       "        text-align: right;\n",
       "    }\n",
       "</style>\n",
       "<table border=\"1\" class=\"dataframe\">\n",
       "  <thead>\n",
       "    <tr style=\"text-align: right;\">\n",
       "      <th></th>\n",
       "      <th>name</th>\n",
       "      <th>pop</th>\n",
       "      <th>pib</th>\n",
       "    </tr>\n",
       "  </thead>\n",
       "  <tbody>\n",
       "    <tr>\n",
       "      <th>4</th>\n",
       "      <td>Araucanía</td>\n",
       "      <td>957224</td>\n",
       "      <td>11064</td>\n",
       "    </tr>\n",
       "    <tr>\n",
       "      <th>3</th>\n",
       "      <td>Maule</td>\n",
       "      <td>1044950</td>\n",
       "      <td>12695</td>\n",
       "    </tr>\n",
       "    <tr>\n",
       "      <th>2</th>\n",
       "      <td>Biobío</td>\n",
       "      <td>1538194</td>\n",
       "      <td>13281</td>\n",
       "    </tr>\n",
       "    <tr>\n",
       "      <th>1</th>\n",
       "      <td>Valparaiso</td>\n",
       "      <td>1815902</td>\n",
       "      <td>14510</td>\n",
       "    </tr>\n",
       "    <tr>\n",
       "      <th>5</th>\n",
       "      <td>O'Higgins</td>\n",
       "      <td>914555</td>\n",
       "      <td>14840</td>\n",
       "    </tr>\n",
       "    <tr>\n",
       "      <th>0</th>\n",
       "      <td>Metropolitana</td>\n",
       "      <td>7112808</td>\n",
       "      <td>24850</td>\n",
       "    </tr>\n",
       "  </tbody>\n",
       "</table>\n",
       "</div>"
      ],
      "text/plain": [
       "            name      pop    pib\n",
       "4      Araucanía   957224  11064\n",
       "3          Maule  1044950  12695\n",
       "2         Biobío  1538194  13281\n",
       "1     Valparaiso  1815902  14510\n",
       "5      O'Higgins   914555  14840\n",
       "0  Metropolitana  7112808  24850"
      ]
     },
     "execution_count": 41,
     "metadata": {},
     "output_type": "execute_result"
    }
   ],
   "source": [
    "frame.sort_values(by='pib')"
   ]
  },
  {
   "cell_type": "code",
   "execution_count": 42,
   "metadata": {},
   "outputs": [
    {
     "data": {
      "text/html": [
       "<div>\n",
       "<style scoped>\n",
       "    .dataframe tbody tr th:only-of-type {\n",
       "        vertical-align: middle;\n",
       "    }\n",
       "\n",
       "    .dataframe tbody tr th {\n",
       "        vertical-align: top;\n",
       "    }\n",
       "\n",
       "    .dataframe thead th {\n",
       "        text-align: right;\n",
       "    }\n",
       "</style>\n",
       "<table border=\"1\" class=\"dataframe\">\n",
       "  <thead>\n",
       "    <tr style=\"text-align: right;\">\n",
       "      <th></th>\n",
       "      <th>name</th>\n",
       "      <th>pop</th>\n",
       "      <th>pib</th>\n",
       "    </tr>\n",
       "  </thead>\n",
       "  <tbody>\n",
       "    <tr>\n",
       "      <th>0</th>\n",
       "      <td>Metropolitana</td>\n",
       "      <td>7112808</td>\n",
       "      <td>24850</td>\n",
       "    </tr>\n",
       "    <tr>\n",
       "      <th>5</th>\n",
       "      <td>O'Higgins</td>\n",
       "      <td>914555</td>\n",
       "      <td>14840</td>\n",
       "    </tr>\n",
       "    <tr>\n",
       "      <th>1</th>\n",
       "      <td>Valparaiso</td>\n",
       "      <td>1815902</td>\n",
       "      <td>14510</td>\n",
       "    </tr>\n",
       "    <tr>\n",
       "      <th>2</th>\n",
       "      <td>Biobío</td>\n",
       "      <td>1538194</td>\n",
       "      <td>13281</td>\n",
       "    </tr>\n",
       "    <tr>\n",
       "      <th>3</th>\n",
       "      <td>Maule</td>\n",
       "      <td>1044950</td>\n",
       "      <td>12695</td>\n",
       "    </tr>\n",
       "    <tr>\n",
       "      <th>4</th>\n",
       "      <td>Araucanía</td>\n",
       "      <td>957224</td>\n",
       "      <td>11064</td>\n",
       "    </tr>\n",
       "  </tbody>\n",
       "</table>\n",
       "</div>"
      ],
      "text/plain": [
       "            name      pop    pib\n",
       "0  Metropolitana  7112808  24850\n",
       "5      O'Higgins   914555  14840\n",
       "1     Valparaiso  1815902  14510\n",
       "2         Biobío  1538194  13281\n",
       "3          Maule  1044950  12695\n",
       "4      Araucanía   957224  11064"
      ]
     },
     "execution_count": 42,
     "metadata": {},
     "output_type": "execute_result"
    }
   ],
   "source": [
    "frame.sort_values(by='pib', ascending=False)"
   ]
  },
  {
   "cell_type": "markdown",
   "metadata": {},
   "source": [
    "Si necesitamos ordenar por más de una columna, podemos pasar un arreglo al argumento `by`. Existen muchas formas de crear y operar sobre un `DataFrame`. Puedes revisar la documentación para encontrar más."
   ]
  },
  {
   "cell_type": "markdown",
   "metadata": {},
   "source": [
    "La librería `pandas` tiene varias funciones que nos permiten obtener descripciones y resúmenes de los datos. Vamos a ver algunos ejemplos."
   ]
  },
  {
   "cell_type": "code",
   "execution_count": 43,
   "metadata": {},
   "outputs": [
    {
     "data": {
      "text/html": [
       "<div>\n",
       "<style scoped>\n",
       "    .dataframe tbody tr th:only-of-type {\n",
       "        vertical-align: middle;\n",
       "    }\n",
       "\n",
       "    .dataframe tbody tr th {\n",
       "        vertical-align: top;\n",
       "    }\n",
       "\n",
       "    .dataframe thead th {\n",
       "        text-align: right;\n",
       "    }\n",
       "</style>\n",
       "<table border=\"1\" class=\"dataframe\">\n",
       "  <thead>\n",
       "    <tr style=\"text-align: right;\">\n",
       "      <th></th>\n",
       "      <th>pop</th>\n",
       "      <th>pib</th>\n",
       "    </tr>\n",
       "  </thead>\n",
       "  <tbody>\n",
       "    <tr>\n",
       "      <th>count</th>\n",
       "      <td>6.000000e+00</td>\n",
       "      <td>6.000000</td>\n",
       "    </tr>\n",
       "    <tr>\n",
       "      <th>mean</th>\n",
       "      <td>2.230606e+06</td>\n",
       "      <td>15206.666667</td>\n",
       "    </tr>\n",
       "    <tr>\n",
       "      <th>std</th>\n",
       "      <td>2.418536e+06</td>\n",
       "      <td>4915.119843</td>\n",
       "    </tr>\n",
       "    <tr>\n",
       "      <th>min</th>\n",
       "      <td>9.145550e+05</td>\n",
       "      <td>11064.000000</td>\n",
       "    </tr>\n",
       "    <tr>\n",
       "      <th>25%</th>\n",
       "      <td>9.791555e+05</td>\n",
       "      <td>12841.500000</td>\n",
       "    </tr>\n",
       "    <tr>\n",
       "      <th>50%</th>\n",
       "      <td>1.291572e+06</td>\n",
       "      <td>13895.500000</td>\n",
       "    </tr>\n",
       "    <tr>\n",
       "      <th>75%</th>\n",
       "      <td>1.746475e+06</td>\n",
       "      <td>14757.500000</td>\n",
       "    </tr>\n",
       "    <tr>\n",
       "      <th>max</th>\n",
       "      <td>7.112808e+06</td>\n",
       "      <td>24850.000000</td>\n",
       "    </tr>\n",
       "  </tbody>\n",
       "</table>\n",
       "</div>"
      ],
      "text/plain": [
       "                pop           pib\n",
       "count  6.000000e+00      6.000000\n",
       "mean   2.230606e+06  15206.666667\n",
       "std    2.418536e+06   4915.119843\n",
       "min    9.145550e+05  11064.000000\n",
       "25%    9.791555e+05  12841.500000\n",
       "50%    1.291572e+06  13895.500000\n",
       "75%    1.746475e+06  14757.500000\n",
       "max    7.112808e+06  24850.000000"
      ]
     },
     "execution_count": 43,
     "metadata": {},
     "output_type": "execute_result"
    }
   ],
   "source": [
    "frame.describe()"
   ]
  },
  {
   "cell_type": "code",
   "execution_count": 44,
   "metadata": {},
   "outputs": [
    {
     "data": {
      "text/plain": [
       "pop    2.230606e+06\n",
       "pib    1.520667e+04\n",
       "dtype: float64"
      ]
     },
     "execution_count": 44,
     "metadata": {},
     "output_type": "execute_result"
    }
   ],
   "source": [
    "frame.mean()"
   ]
  },
  {
   "cell_type": "code",
   "execution_count": 45,
   "metadata": {},
   "outputs": [
    {
     "data": {
      "text/plain": [
       "name    MetropolitanaValparaisoBiobíoMauleAraucaníaO'H...\n",
       "pop                                              13383633\n",
       "pib                                                 91240\n",
       "dtype: object"
      ]
     },
     "execution_count": 45,
     "metadata": {},
     "output_type": "execute_result"
    }
   ],
   "source": [
    "frame.sum()"
   ]
  },
  {
   "cell_type": "markdown",
   "metadata": {},
   "source": [
    "Podemos cargar datos de un csv de la siguiente forma:"
   ]
  },
  {
   "cell_type": "code",
   "execution_count": 46,
   "metadata": {},
   "outputs": [
    {
     "data": {
      "text/html": [
       "<div>\n",
       "<style scoped>\n",
       "    .dataframe tbody tr th:only-of-type {\n",
       "        vertical-align: middle;\n",
       "    }\n",
       "\n",
       "    .dataframe tbody tr th {\n",
       "        vertical-align: top;\n",
       "    }\n",
       "\n",
       "    .dataframe thead th {\n",
       "        text-align: right;\n",
       "    }\n",
       "</style>\n",
       "<table border=\"1\" class=\"dataframe\">\n",
       "  <thead>\n",
       "    <tr style=\"text-align: right;\">\n",
       "      <th></th>\n",
       "      <th>cod_com</th>\n",
       "      <th>Apruebo</th>\n",
       "      <th>Rechazo</th>\n",
       "      <th>Blancos</th>\n",
       "      <th>Nulos</th>\n",
       "    </tr>\n",
       "  </thead>\n",
       "  <tbody>\n",
       "    <tr>\n",
       "      <th>0</th>\n",
       "      <td>1101</td>\n",
       "      <td>60976</td>\n",
       "      <td>18855</td>\n",
       "      <td>114</td>\n",
       "      <td>275</td>\n",
       "    </tr>\n",
       "    <tr>\n",
       "      <th>1</th>\n",
       "      <td>1107</td>\n",
       "      <td>21373</td>\n",
       "      <td>4608</td>\n",
       "      <td>46</td>\n",
       "      <td>102</td>\n",
       "    </tr>\n",
       "    <tr>\n",
       "      <th>2</th>\n",
       "      <td>1401</td>\n",
       "      <td>3730</td>\n",
       "      <td>1076</td>\n",
       "      <td>8</td>\n",
       "      <td>29</td>\n",
       "    </tr>\n",
       "    <tr>\n",
       "      <th>3</th>\n",
       "      <td>1402</td>\n",
       "      <td>293</td>\n",
       "      <td>207</td>\n",
       "      <td>2</td>\n",
       "      <td>11</td>\n",
       "    </tr>\n",
       "    <tr>\n",
       "      <th>4</th>\n",
       "      <td>1403</td>\n",
       "      <td>131</td>\n",
       "      <td>374</td>\n",
       "      <td>3</td>\n",
       "      <td>16</td>\n",
       "    </tr>\n",
       "  </tbody>\n",
       "</table>\n",
       "</div>"
      ],
      "text/plain": [
       "   cod_com  Apruebo  Rechazo  Blancos  Nulos\n",
       "0     1101    60976    18855      114    275\n",
       "1     1107    21373     4608       46    102\n",
       "2     1401     3730     1076        8     29\n",
       "3     1402      293      207        2     11\n",
       "4     1403      131      374        3     16"
      ]
     },
     "execution_count": 46,
     "metadata": {},
     "output_type": "execute_result"
    }
   ],
   "source": [
    "df = pd.read_csv('Resultados_Pleb.csv') \n",
    "df.head()"
   ]
  },
  {
   "cell_type": "markdown",
   "metadata": {},
   "source": [
    "Puedes pasarle como argumento `sep=algun_string` para cambiar el separador del csv. Por ejemplo si el archivo tuviera separación con `;`, podrías hacer algo como:\n",
    "\n",
    "```py\n",
    "df = pd.read_csv('Resultados_Pleb.csv', sep=';') \n",
    "```"
   ]
  },
  {
   "cell_type": "markdown",
   "metadata": {},
   "source": [
    "Si nos quiséramos quedar con algunas columnas, pero no queremos hacer cambios permanentes, podemos guardar la información en un nuevo dataframe:"
   ]
  },
  {
   "cell_type": "code",
   "execution_count": 47,
   "metadata": {},
   "outputs": [
    {
     "data": {
      "text/html": [
       "<div>\n",
       "<style scoped>\n",
       "    .dataframe tbody tr th:only-of-type {\n",
       "        vertical-align: middle;\n",
       "    }\n",
       "\n",
       "    .dataframe tbody tr th {\n",
       "        vertical-align: top;\n",
       "    }\n",
       "\n",
       "    .dataframe thead th {\n",
       "        text-align: right;\n",
       "    }\n",
       "</style>\n",
       "<table border=\"1\" class=\"dataframe\">\n",
       "  <thead>\n",
       "    <tr style=\"text-align: right;\">\n",
       "      <th></th>\n",
       "      <th>cod_com</th>\n",
       "      <th>Apruebo</th>\n",
       "    </tr>\n",
       "  </thead>\n",
       "  <tbody>\n",
       "    <tr>\n",
       "      <th>0</th>\n",
       "      <td>1101</td>\n",
       "      <td>60976</td>\n",
       "    </tr>\n",
       "    <tr>\n",
       "      <th>1</th>\n",
       "      <td>1107</td>\n",
       "      <td>21373</td>\n",
       "    </tr>\n",
       "    <tr>\n",
       "      <th>2</th>\n",
       "      <td>1401</td>\n",
       "      <td>3730</td>\n",
       "    </tr>\n",
       "    <tr>\n",
       "      <th>3</th>\n",
       "      <td>1402</td>\n",
       "      <td>293</td>\n",
       "    </tr>\n",
       "    <tr>\n",
       "      <th>4</th>\n",
       "      <td>1403</td>\n",
       "      <td>131</td>\n",
       "    </tr>\n",
       "    <tr>\n",
       "      <th>...</th>\n",
       "      <td>...</td>\n",
       "      <td>...</td>\n",
       "    </tr>\n",
       "    <tr>\n",
       "      <th>341</th>\n",
       "      <td>16301</td>\n",
       "      <td>12268</td>\n",
       "    </tr>\n",
       "    <tr>\n",
       "      <th>342</th>\n",
       "      <td>16302</td>\n",
       "      <td>4420</td>\n",
       "    </tr>\n",
       "    <tr>\n",
       "      <th>343</th>\n",
       "      <td>16303</td>\n",
       "      <td>2003</td>\n",
       "    </tr>\n",
       "    <tr>\n",
       "      <th>344</th>\n",
       "      <td>16304</td>\n",
       "      <td>1364</td>\n",
       "    </tr>\n",
       "    <tr>\n",
       "      <th>345</th>\n",
       "      <td>16305</td>\n",
       "      <td>3334</td>\n",
       "    </tr>\n",
       "  </tbody>\n",
       "</table>\n",
       "<p>346 rows × 2 columns</p>\n",
       "</div>"
      ],
      "text/plain": [
       "     cod_com  Apruebo\n",
       "0       1101    60976\n",
       "1       1107    21373\n",
       "2       1401     3730\n",
       "3       1402      293\n",
       "4       1403      131\n",
       "..       ...      ...\n",
       "341    16301    12268\n",
       "342    16302     4420\n",
       "343    16303     2003\n",
       "344    16304     1364\n",
       "345    16305     3334\n",
       "\n",
       "[346 rows x 2 columns]"
      ]
     },
     "execution_count": 47,
     "metadata": {},
     "output_type": "execute_result"
    }
   ],
   "source": [
    "df2 = df[['cod_com', 'Apruebo']]\n",
    "df2"
   ]
  },
  {
   "cell_type": "code",
   "execution_count": 48,
   "metadata": {},
   "outputs": [
    {
     "data": {
      "text/html": [
       "<div>\n",
       "<style scoped>\n",
       "    .dataframe tbody tr th:only-of-type {\n",
       "        vertical-align: middle;\n",
       "    }\n",
       "\n",
       "    .dataframe tbody tr th {\n",
       "        vertical-align: top;\n",
       "    }\n",
       "\n",
       "    .dataframe thead th {\n",
       "        text-align: right;\n",
       "    }\n",
       "</style>\n",
       "<table border=\"1\" class=\"dataframe\">\n",
       "  <thead>\n",
       "    <tr style=\"text-align: right;\">\n",
       "      <th></th>\n",
       "      <th>cod_com</th>\n",
       "      <th>Apruebo</th>\n",
       "      <th>Rechazo</th>\n",
       "      <th>Blancos</th>\n",
       "      <th>Nulos</th>\n",
       "    </tr>\n",
       "  </thead>\n",
       "  <tbody>\n",
       "    <tr>\n",
       "      <th>0</th>\n",
       "      <td>1101</td>\n",
       "      <td>60976</td>\n",
       "      <td>18855</td>\n",
       "      <td>114</td>\n",
       "      <td>275</td>\n",
       "    </tr>\n",
       "    <tr>\n",
       "      <th>1</th>\n",
       "      <td>1107</td>\n",
       "      <td>21373</td>\n",
       "      <td>4608</td>\n",
       "      <td>46</td>\n",
       "      <td>102</td>\n",
       "    </tr>\n",
       "    <tr>\n",
       "      <th>2</th>\n",
       "      <td>1401</td>\n",
       "      <td>3730</td>\n",
       "      <td>1076</td>\n",
       "      <td>8</td>\n",
       "      <td>29</td>\n",
       "    </tr>\n",
       "    <tr>\n",
       "      <th>3</th>\n",
       "      <td>1402</td>\n",
       "      <td>293</td>\n",
       "      <td>207</td>\n",
       "      <td>2</td>\n",
       "      <td>11</td>\n",
       "    </tr>\n",
       "    <tr>\n",
       "      <th>4</th>\n",
       "      <td>1403</td>\n",
       "      <td>131</td>\n",
       "      <td>374</td>\n",
       "      <td>3</td>\n",
       "      <td>16</td>\n",
       "    </tr>\n",
       "    <tr>\n",
       "      <th>...</th>\n",
       "      <td>...</td>\n",
       "      <td>...</td>\n",
       "      <td>...</td>\n",
       "      <td>...</td>\n",
       "      <td>...</td>\n",
       "    </tr>\n",
       "    <tr>\n",
       "      <th>341</th>\n",
       "      <td>16301</td>\n",
       "      <td>12268</td>\n",
       "      <td>5729</td>\n",
       "      <td>42</td>\n",
       "      <td>89</td>\n",
       "    </tr>\n",
       "    <tr>\n",
       "      <th>342</th>\n",
       "      <td>16302</td>\n",
       "      <td>4420</td>\n",
       "      <td>2737</td>\n",
       "      <td>25</td>\n",
       "      <td>47</td>\n",
       "    </tr>\n",
       "    <tr>\n",
       "      <th>343</th>\n",
       "      <td>16303</td>\n",
       "      <td>2003</td>\n",
       "      <td>1228</td>\n",
       "      <td>10</td>\n",
       "      <td>17</td>\n",
       "    </tr>\n",
       "    <tr>\n",
       "      <th>344</th>\n",
       "      <td>16304</td>\n",
       "      <td>1364</td>\n",
       "      <td>516</td>\n",
       "      <td>7</td>\n",
       "      <td>12</td>\n",
       "    </tr>\n",
       "    <tr>\n",
       "      <th>345</th>\n",
       "      <td>16305</td>\n",
       "      <td>3334</td>\n",
       "      <td>1352</td>\n",
       "      <td>21</td>\n",
       "      <td>34</td>\n",
       "    </tr>\n",
       "  </tbody>\n",
       "</table>\n",
       "<p>346 rows × 5 columns</p>\n",
       "</div>"
      ],
      "text/plain": [
       "     cod_com  Apruebo  Rechazo  Blancos  Nulos\n",
       "0       1101    60976    18855      114    275\n",
       "1       1107    21373     4608       46    102\n",
       "2       1401     3730     1076        8     29\n",
       "3       1402      293      207        2     11\n",
       "4       1403      131      374        3     16\n",
       "..       ...      ...      ...      ...    ...\n",
       "341    16301    12268     5729       42     89\n",
       "342    16302     4420     2737       25     47\n",
       "343    16303     2003     1228       10     17\n",
       "344    16304     1364      516        7     12\n",
       "345    16305     3334     1352       21     34\n",
       "\n",
       "[346 rows x 5 columns]"
      ]
     },
     "execution_count": 48,
     "metadata": {},
     "output_type": "execute_result"
    }
   ],
   "source": [
    "df"
   ]
  },
  {
   "cell_type": "markdown",
   "metadata": {},
   "source": [
    "Pero si quisiéramos cambiar el dataframe de forma permanente podemos hacerlo así:"
   ]
  },
  {
   "cell_type": "code",
   "execution_count": 49,
   "metadata": {},
   "outputs": [
    {
     "data": {
      "text/html": [
       "<div>\n",
       "<style scoped>\n",
       "    .dataframe tbody tr th:only-of-type {\n",
       "        vertical-align: middle;\n",
       "    }\n",
       "\n",
       "    .dataframe tbody tr th {\n",
       "        vertical-align: top;\n",
       "    }\n",
       "\n",
       "    .dataframe thead th {\n",
       "        text-align: right;\n",
       "    }\n",
       "</style>\n",
       "<table border=\"1\" class=\"dataframe\">\n",
       "  <thead>\n",
       "    <tr style=\"text-align: right;\">\n",
       "      <th></th>\n",
       "      <th>cod_com</th>\n",
       "      <th>Apruebo</th>\n",
       "    </tr>\n",
       "  </thead>\n",
       "  <tbody>\n",
       "    <tr>\n",
       "      <th>0</th>\n",
       "      <td>1101</td>\n",
       "      <td>60976</td>\n",
       "    </tr>\n",
       "    <tr>\n",
       "      <th>1</th>\n",
       "      <td>1107</td>\n",
       "      <td>21373</td>\n",
       "    </tr>\n",
       "    <tr>\n",
       "      <th>2</th>\n",
       "      <td>1401</td>\n",
       "      <td>3730</td>\n",
       "    </tr>\n",
       "    <tr>\n",
       "      <th>3</th>\n",
       "      <td>1402</td>\n",
       "      <td>293</td>\n",
       "    </tr>\n",
       "    <tr>\n",
       "      <th>4</th>\n",
       "      <td>1403</td>\n",
       "      <td>131</td>\n",
       "    </tr>\n",
       "    <tr>\n",
       "      <th>...</th>\n",
       "      <td>...</td>\n",
       "      <td>...</td>\n",
       "    </tr>\n",
       "    <tr>\n",
       "      <th>341</th>\n",
       "      <td>16301</td>\n",
       "      <td>12268</td>\n",
       "    </tr>\n",
       "    <tr>\n",
       "      <th>342</th>\n",
       "      <td>16302</td>\n",
       "      <td>4420</td>\n",
       "    </tr>\n",
       "    <tr>\n",
       "      <th>343</th>\n",
       "      <td>16303</td>\n",
       "      <td>2003</td>\n",
       "    </tr>\n",
       "    <tr>\n",
       "      <th>344</th>\n",
       "      <td>16304</td>\n",
       "      <td>1364</td>\n",
       "    </tr>\n",
       "    <tr>\n",
       "      <th>345</th>\n",
       "      <td>16305</td>\n",
       "      <td>3334</td>\n",
       "    </tr>\n",
       "  </tbody>\n",
       "</table>\n",
       "<p>346 rows × 2 columns</p>\n",
       "</div>"
      ],
      "text/plain": [
       "     cod_com  Apruebo\n",
       "0       1101    60976\n",
       "1       1107    21373\n",
       "2       1401     3730\n",
       "3       1402      293\n",
       "4       1403      131\n",
       "..       ...      ...\n",
       "341    16301    12268\n",
       "342    16302     4420\n",
       "343    16303     2003\n",
       "344    16304     1364\n",
       "345    16305     3334\n",
       "\n",
       "[346 rows x 2 columns]"
      ]
     },
     "execution_count": 49,
     "metadata": {},
     "output_type": "execute_result"
    }
   ],
   "source": [
    "df = df[['cod_com', 'Apruebo']]\n",
    "df"
   ]
  },
  {
   "cell_type": "markdown",
   "metadata": {},
   "source": [
    "Cuando cargas datos desde un csv, puede que quieras saber los tipos de datos:"
   ]
  },
  {
   "cell_type": "code",
   "execution_count": 50,
   "metadata": {},
   "outputs": [
    {
     "data": {
      "text/plain": [
       "cod_com    int64\n",
       "Apruebo    int64\n",
       "dtype: object"
      ]
     },
     "execution_count": 50,
     "metadata": {},
     "output_type": "execute_result"
    }
   ],
   "source": [
    "df.dtypes"
   ]
  },
  {
   "cell_type": "markdown",
   "metadata": {},
   "source": [
    "Existen algunos comandos que puedes buscar para pasar datos que son string a números, etc..."
   ]
  },
  {
   "cell_type": "markdown",
   "metadata": {},
   "source": [
    "## 3. Utilizando datos externos y SQL\n",
    "\n",
    "Para analizar datos y aprender como trabajar con SQL, usaremos la base de datos `comunas.db` que usa el siguiente esquema: \n",
    "\n",
    "````\n",
    "Comunas(cod INT PRIMARY KEY, \n",
    "        nombre VARCHAR(200), \n",
    "        provincia VARCHAR(200), \n",
    "        region VARCHAR(200), \n",
    "        superficie FLOAT, \n",
    "        poblacion INT, \n",
    "        densidad FLOAT, \n",
    "        idh FLOAT)\n",
    "```\n"
   ]
  },
  {
   "cell_type": "code",
   "execution_count": 51,
   "metadata": {},
   "outputs": [],
   "source": [
    "import sqlite3\n",
    "\n",
    "conn = sqlite3.connect('comunas.db')\n",
    "conn.text_factory = lambda x: str(x, 'utf-8')\n",
    "curr = conn.cursor()"
   ]
  },
  {
   "cell_type": "markdown",
   "metadata": {},
   "source": [
    "Ahora que hemos realizado la conexión,  usaremos una consulta SQL para extraer los datos y guardarlos en un dataframe. Comúnmente la idea es preparar los datos con SQL y extraer a pandas solo lo necesario."
   ]
  },
  {
   "cell_type": "code",
   "execution_count": 52,
   "metadata": {},
   "outputs": [
    {
     "data": {
      "text/html": [
       "<div>\n",
       "<style scoped>\n",
       "    .dataframe tbody tr th:only-of-type {\n",
       "        vertical-align: middle;\n",
       "    }\n",
       "\n",
       "    .dataframe tbody tr th {\n",
       "        vertical-align: top;\n",
       "    }\n",
       "\n",
       "    .dataframe thead th {\n",
       "        text-align: right;\n",
       "    }\n",
       "</style>\n",
       "<table border=\"1\" class=\"dataframe\">\n",
       "  <thead>\n",
       "    <tr style=\"text-align: right;\">\n",
       "      <th></th>\n",
       "      <th>0</th>\n",
       "      <th>1</th>\n",
       "      <th>2</th>\n",
       "      <th>3</th>\n",
       "      <th>4</th>\n",
       "      <th>5</th>\n",
       "      <th>6</th>\n",
       "      <th>7</th>\n",
       "    </tr>\n",
       "  </thead>\n",
       "  <tbody>\n",
       "    <tr>\n",
       "      <th>0</th>\n",
       "      <td>15101</td>\n",
       "      <td>Arica</td>\n",
       "      <td>Arica</td>\n",
       "      <td>Arica y Parinacota</td>\n",
       "      <td>4799.4</td>\n",
       "      <td>210936</td>\n",
       "      <td>736.0</td>\n",
       "      <td>38.40</td>\n",
       "    </tr>\n",
       "    <tr>\n",
       "      <th>1</th>\n",
       "      <td>15102</td>\n",
       "      <td>Camarones</td>\n",
       "      <td>Arica</td>\n",
       "      <td>Arica y Parinacota</td>\n",
       "      <td>3927.0</td>\n",
       "      <td>679</td>\n",
       "      <td>0.3</td>\n",
       "      <td>751.00</td>\n",
       "    </tr>\n",
       "    <tr>\n",
       "      <th>2</th>\n",
       "      <td>15201</td>\n",
       "      <td>Putre</td>\n",
       "      <td>Parinacota</td>\n",
       "      <td>Arica y Parinacota</td>\n",
       "      <td>5902.5</td>\n",
       "      <td>1462</td>\n",
       "      <td>0.2</td>\n",
       "      <td>707.00</td>\n",
       "    </tr>\n",
       "    <tr>\n",
       "      <th>3</th>\n",
       "      <td>15202</td>\n",
       "      <td>General Lagos</td>\n",
       "      <td>Parinacota</td>\n",
       "      <td>Arica y Parinacota</td>\n",
       "      <td>2244.4</td>\n",
       "      <td>739</td>\n",
       "      <td>0.5</td>\n",
       "      <td>0.67</td>\n",
       "    </tr>\n",
       "    <tr>\n",
       "      <th>4</th>\n",
       "      <td>1101</td>\n",
       "      <td>Iquique</td>\n",
       "      <td>Iquique</td>\n",
       "      <td>Tarapacá</td>\n",
       "      <td>2242.1</td>\n",
       "      <td>184953</td>\n",
       "      <td>82.4</td>\n",
       "      <td>766.00</td>\n",
       "    </tr>\n",
       "    <tr>\n",
       "      <th>...</th>\n",
       "      <td>...</td>\n",
       "      <td>...</td>\n",
       "      <td>...</td>\n",
       "      <td>...</td>\n",
       "      <td>...</td>\n",
       "      <td>...</td>\n",
       "      <td>...</td>\n",
       "      <td>...</td>\n",
       "    </tr>\n",
       "    <tr>\n",
       "      <th>341</th>\n",
       "      <td>13601</td>\n",
       "      <td>Talagante</td>\n",
       "      <td>Talagante</td>\n",
       "      <td>Metropolitana de Santiago</td>\n",
       "      <td>126.0</td>\n",
       "      <td>78887</td>\n",
       "      <td>474.6</td>\n",
       "      <td>749.00</td>\n",
       "    </tr>\n",
       "    <tr>\n",
       "      <th>342</th>\n",
       "      <td>13602</td>\n",
       "      <td>El Monte</td>\n",
       "      <td>Talagante</td>\n",
       "      <td>Metropolitana de Santiago</td>\n",
       "      <td>118.0</td>\n",
       "      <td>32468</td>\n",
       "      <td>224.2</td>\n",
       "      <td>688.00</td>\n",
       "    </tr>\n",
       "    <tr>\n",
       "      <th>343</th>\n",
       "      <td>13603</td>\n",
       "      <td>Isla de Maipo</td>\n",
       "      <td>Talagante</td>\n",
       "      <td>Metropolitana de Santiago</td>\n",
       "      <td>189.0</td>\n",
       "      <td>33723</td>\n",
       "      <td>136.5</td>\n",
       "      <td>724.00</td>\n",
       "    </tr>\n",
       "    <tr>\n",
       "      <th>344</th>\n",
       "      <td>13604</td>\n",
       "      <td>Padre Hurtado</td>\n",
       "      <td>Talagante</td>\n",
       "      <td>Metropolitana de Santiago</td>\n",
       "      <td>80.8</td>\n",
       "      <td>50696</td>\n",
       "      <td>626.2</td>\n",
       "      <td>728.00</td>\n",
       "    </tr>\n",
       "    <tr>\n",
       "      <th>345</th>\n",
       "      <td>13605</td>\n",
       "      <td>Peñaflor</td>\n",
       "      <td>Talagante</td>\n",
       "      <td>Metropolitana de Santiago</td>\n",
       "      <td>69.0</td>\n",
       "      <td>87741</td>\n",
       "      <td>965.5</td>\n",
       "      <td>753.00</td>\n",
       "    </tr>\n",
       "  </tbody>\n",
       "</table>\n",
       "<p>346 rows × 8 columns</p>\n",
       "</div>"
      ],
      "text/plain": [
       "         0              1           2                          3       4  \\\n",
       "0    15101          Arica       Arica         Arica y Parinacota  4799.4   \n",
       "1    15102      Camarones       Arica         Arica y Parinacota  3927.0   \n",
       "2    15201          Putre  Parinacota         Arica y Parinacota  5902.5   \n",
       "3    15202  General Lagos  Parinacota         Arica y Parinacota  2244.4   \n",
       "4     1101        Iquique     Iquique                   Tarapacá  2242.1   \n",
       "..     ...            ...         ...                        ...     ...   \n",
       "341  13601      Talagante   Talagante  Metropolitana de Santiago   126.0   \n",
       "342  13602       El Monte   Talagante  Metropolitana de Santiago   118.0   \n",
       "343  13603  Isla de Maipo   Talagante  Metropolitana de Santiago   189.0   \n",
       "344  13604  Padre Hurtado   Talagante  Metropolitana de Santiago    80.8   \n",
       "345  13605       Peñaflor   Talagante  Metropolitana de Santiago    69.0   \n",
       "\n",
       "          5      6       7  \n",
       "0    210936  736.0   38.40  \n",
       "1       679    0.3  751.00  \n",
       "2      1462    0.2  707.00  \n",
       "3       739    0.5    0.67  \n",
       "4    184953   82.4  766.00  \n",
       "..      ...    ...     ...  \n",
       "341   78887  474.6  749.00  \n",
       "342   32468  224.2  688.00  \n",
       "343   33723  136.5  724.00  \n",
       "344   50696  626.2  728.00  \n",
       "345   87741  965.5  753.00  \n",
       "\n",
       "[346 rows x 8 columns]"
      ]
     },
     "execution_count": 52,
     "metadata": {},
     "output_type": "execute_result"
    }
   ],
   "source": [
    "curr.execute(\"SELECT * FROM Comunas;\")\n",
    "com_frame = pd.DataFrame(curr.fetchall())\n",
    "com_frame"
   ]
  },
  {
   "cell_type": "code",
   "execution_count": 53,
   "metadata": {},
   "outputs": [
    {
     "data": {
      "text/html": [
       "<div>\n",
       "<style scoped>\n",
       "    .dataframe tbody tr th:only-of-type {\n",
       "        vertical-align: middle;\n",
       "    }\n",
       "\n",
       "    .dataframe tbody tr th {\n",
       "        vertical-align: top;\n",
       "    }\n",
       "\n",
       "    .dataframe thead th {\n",
       "        text-align: right;\n",
       "    }\n",
       "</style>\n",
       "<table border=\"1\" class=\"dataframe\">\n",
       "  <thead>\n",
       "    <tr style=\"text-align: right;\">\n",
       "      <th></th>\n",
       "      <th>0</th>\n",
       "      <th>1</th>\n",
       "      <th>2</th>\n",
       "      <th>3</th>\n",
       "      <th>4</th>\n",
       "      <th>5</th>\n",
       "      <th>6</th>\n",
       "      <th>7</th>\n",
       "    </tr>\n",
       "  </thead>\n",
       "  <tbody>\n",
       "    <tr>\n",
       "      <th>0</th>\n",
       "      <td>15101</td>\n",
       "      <td>Arica</td>\n",
       "      <td>Arica</td>\n",
       "      <td>Arica y Parinacota</td>\n",
       "      <td>4799.4</td>\n",
       "      <td>210936</td>\n",
       "      <td>736.0</td>\n",
       "      <td>38.40</td>\n",
       "    </tr>\n",
       "    <tr>\n",
       "      <th>1</th>\n",
       "      <td>15102</td>\n",
       "      <td>Camarones</td>\n",
       "      <td>Arica</td>\n",
       "      <td>Arica y Parinacota</td>\n",
       "      <td>3927.0</td>\n",
       "      <td>679</td>\n",
       "      <td>0.3</td>\n",
       "      <td>751.00</td>\n",
       "    </tr>\n",
       "    <tr>\n",
       "      <th>2</th>\n",
       "      <td>15201</td>\n",
       "      <td>Putre</td>\n",
       "      <td>Parinacota</td>\n",
       "      <td>Arica y Parinacota</td>\n",
       "      <td>5902.5</td>\n",
       "      <td>1462</td>\n",
       "      <td>0.2</td>\n",
       "      <td>707.00</td>\n",
       "    </tr>\n",
       "    <tr>\n",
       "      <th>3</th>\n",
       "      <td>15202</td>\n",
       "      <td>General Lagos</td>\n",
       "      <td>Parinacota</td>\n",
       "      <td>Arica y Parinacota</td>\n",
       "      <td>2244.4</td>\n",
       "      <td>739</td>\n",
       "      <td>0.5</td>\n",
       "      <td>0.67</td>\n",
       "    </tr>\n",
       "    <tr>\n",
       "      <th>4</th>\n",
       "      <td>1101</td>\n",
       "      <td>Iquique</td>\n",
       "      <td>Iquique</td>\n",
       "      <td>Tarapacá</td>\n",
       "      <td>2242.1</td>\n",
       "      <td>184953</td>\n",
       "      <td>82.4</td>\n",
       "      <td>766.00</td>\n",
       "    </tr>\n",
       "  </tbody>\n",
       "</table>\n",
       "</div>"
      ],
      "text/plain": [
       "       0              1           2                   3       4       5  \\\n",
       "0  15101          Arica       Arica  Arica y Parinacota  4799.4  210936   \n",
       "1  15102      Camarones       Arica  Arica y Parinacota  3927.0     679   \n",
       "2  15201          Putre  Parinacota  Arica y Parinacota  5902.5    1462   \n",
       "3  15202  General Lagos  Parinacota  Arica y Parinacota  2244.4     739   \n",
       "4   1101        Iquique     Iquique            Tarapacá  2242.1  184953   \n",
       "\n",
       "       6       7  \n",
       "0  736.0   38.40  \n",
       "1    0.3  751.00  \n",
       "2    0.2  707.00  \n",
       "3    0.5    0.67  \n",
       "4   82.4  766.00  "
      ]
     },
     "execution_count": 53,
     "metadata": {},
     "output_type": "execute_result"
    }
   ],
   "source": [
    "com_frame.head()"
   ]
  },
  {
   "cell_type": "markdown",
   "metadata": {},
   "source": [
    "Renombremos los nombres de las columnas del dataframe según nuestro esquema:"
   ]
  },
  {
   "cell_type": "code",
   "execution_count": 54,
   "metadata": {},
   "outputs": [],
   "source": [
    "com_frame.rename(columns = { 0: 'cod', 1: 'nombre', 2: 'provincia', 3: 'region', \n",
    "                            4: 'superficie', 5: 'poblacion', 6: 'densidad', 7: 'idh'}, inplace=True)"
   ]
  },
  {
   "cell_type": "markdown",
   "metadata": {},
   "source": [
    "Usemos `head` y `describe` para tener una mejor idea de como se ven nuestros datos:"
   ]
  },
  {
   "cell_type": "code",
   "execution_count": 55,
   "metadata": {},
   "outputs": [
    {
     "data": {
      "text/html": [
       "<div>\n",
       "<style scoped>\n",
       "    .dataframe tbody tr th:only-of-type {\n",
       "        vertical-align: middle;\n",
       "    }\n",
       "\n",
       "    .dataframe tbody tr th {\n",
       "        vertical-align: top;\n",
       "    }\n",
       "\n",
       "    .dataframe thead th {\n",
       "        text-align: right;\n",
       "    }\n",
       "</style>\n",
       "<table border=\"1\" class=\"dataframe\">\n",
       "  <thead>\n",
       "    <tr style=\"text-align: right;\">\n",
       "      <th></th>\n",
       "      <th>cod</th>\n",
       "      <th>nombre</th>\n",
       "      <th>provincia</th>\n",
       "      <th>region</th>\n",
       "      <th>superficie</th>\n",
       "      <th>poblacion</th>\n",
       "      <th>densidad</th>\n",
       "      <th>idh</th>\n",
       "    </tr>\n",
       "  </thead>\n",
       "  <tbody>\n",
       "    <tr>\n",
       "      <th>0</th>\n",
       "      <td>15101</td>\n",
       "      <td>Arica</td>\n",
       "      <td>Arica</td>\n",
       "      <td>Arica y Parinacota</td>\n",
       "      <td>4799.4</td>\n",
       "      <td>210936</td>\n",
       "      <td>736.0</td>\n",
       "      <td>38.40</td>\n",
       "    </tr>\n",
       "    <tr>\n",
       "      <th>1</th>\n",
       "      <td>15102</td>\n",
       "      <td>Camarones</td>\n",
       "      <td>Arica</td>\n",
       "      <td>Arica y Parinacota</td>\n",
       "      <td>3927.0</td>\n",
       "      <td>679</td>\n",
       "      <td>0.3</td>\n",
       "      <td>751.00</td>\n",
       "    </tr>\n",
       "    <tr>\n",
       "      <th>2</th>\n",
       "      <td>15201</td>\n",
       "      <td>Putre</td>\n",
       "      <td>Parinacota</td>\n",
       "      <td>Arica y Parinacota</td>\n",
       "      <td>5902.5</td>\n",
       "      <td>1462</td>\n",
       "      <td>0.2</td>\n",
       "      <td>707.00</td>\n",
       "    </tr>\n",
       "    <tr>\n",
       "      <th>3</th>\n",
       "      <td>15202</td>\n",
       "      <td>General Lagos</td>\n",
       "      <td>Parinacota</td>\n",
       "      <td>Arica y Parinacota</td>\n",
       "      <td>2244.4</td>\n",
       "      <td>739</td>\n",
       "      <td>0.5</td>\n",
       "      <td>0.67</td>\n",
       "    </tr>\n",
       "    <tr>\n",
       "      <th>4</th>\n",
       "      <td>1101</td>\n",
       "      <td>Iquique</td>\n",
       "      <td>Iquique</td>\n",
       "      <td>Tarapacá</td>\n",
       "      <td>2242.1</td>\n",
       "      <td>184953</td>\n",
       "      <td>82.4</td>\n",
       "      <td>766.00</td>\n",
       "    </tr>\n",
       "    <tr>\n",
       "      <th>5</th>\n",
       "      <td>1107</td>\n",
       "      <td>Alto Hospicio</td>\n",
       "      <td>Iquique</td>\n",
       "      <td>Tarapacá</td>\n",
       "      <td>572.9</td>\n",
       "      <td>94455</td>\n",
       "      <td>87.6</td>\n",
       "      <td>NaN</td>\n",
       "    </tr>\n",
       "    <tr>\n",
       "      <th>6</th>\n",
       "      <td>1401</td>\n",
       "      <td>Pozo Almonte</td>\n",
       "      <td>Tamarugal</td>\n",
       "      <td>Tarapacá</td>\n",
       "      <td>13765.8</td>\n",
       "      <td>11519</td>\n",
       "      <td>0.7</td>\n",
       "      <td>722.00</td>\n",
       "    </tr>\n",
       "    <tr>\n",
       "      <th>7</th>\n",
       "      <td>1402</td>\n",
       "      <td>Camiña</td>\n",
       "      <td>Tamarugal</td>\n",
       "      <td>Tarapacá</td>\n",
       "      <td>2200.2</td>\n",
       "      <td>1156</td>\n",
       "      <td>0.5</td>\n",
       "      <td>619.00</td>\n",
       "    </tr>\n",
       "    <tr>\n",
       "      <th>8</th>\n",
       "      <td>1403</td>\n",
       "      <td>Colchane</td>\n",
       "      <td>Tamarugal</td>\n",
       "      <td>Tarapacá</td>\n",
       "      <td>4015.6</td>\n",
       "      <td>1384</td>\n",
       "      <td>0.4</td>\n",
       "      <td>603.00</td>\n",
       "    </tr>\n",
       "    <tr>\n",
       "      <th>9</th>\n",
       "      <td>1404</td>\n",
       "      <td>Huara</td>\n",
       "      <td>Tamarugal</td>\n",
       "      <td>Tarapacá</td>\n",
       "      <td>10474.6</td>\n",
       "      <td>2360</td>\n",
       "      <td>0.2</td>\n",
       "      <td>676.00</td>\n",
       "    </tr>\n",
       "  </tbody>\n",
       "</table>\n",
       "</div>"
      ],
      "text/plain": [
       "     cod         nombre   provincia              region  superficie  \\\n",
       "0  15101          Arica       Arica  Arica y Parinacota      4799.4   \n",
       "1  15102      Camarones       Arica  Arica y Parinacota      3927.0   \n",
       "2  15201          Putre  Parinacota  Arica y Parinacota      5902.5   \n",
       "3  15202  General Lagos  Parinacota  Arica y Parinacota      2244.4   \n",
       "4   1101        Iquique     Iquique            Tarapacá      2242.1   \n",
       "5   1107  Alto Hospicio     Iquique            Tarapacá       572.9   \n",
       "6   1401   Pozo Almonte   Tamarugal            Tarapacá     13765.8   \n",
       "7   1402         Camiña   Tamarugal            Tarapacá      2200.2   \n",
       "8   1403       Colchane   Tamarugal            Tarapacá      4015.6   \n",
       "9   1404          Huara   Tamarugal            Tarapacá     10474.6   \n",
       "\n",
       "   poblacion  densidad     idh  \n",
       "0     210936     736.0   38.40  \n",
       "1        679       0.3  751.00  \n",
       "2       1462       0.2  707.00  \n",
       "3        739       0.5    0.67  \n",
       "4     184953      82.4  766.00  \n",
       "5      94455      87.6     NaN  \n",
       "6      11519       0.7  722.00  \n",
       "7       1156       0.5  619.00  \n",
       "8       1384       0.4  603.00  \n",
       "9       2360       0.2  676.00  "
      ]
     },
     "execution_count": 55,
     "metadata": {},
     "output_type": "execute_result"
    }
   ],
   "source": [
    "com_frame.head(10)"
   ]
  },
  {
   "cell_type": "code",
   "execution_count": 56,
   "metadata": {},
   "outputs": [
    {
     "data": {
      "text/html": [
       "<div>\n",
       "<style scoped>\n",
       "    .dataframe tbody tr th:only-of-type {\n",
       "        vertical-align: middle;\n",
       "    }\n",
       "\n",
       "    .dataframe tbody tr th {\n",
       "        vertical-align: top;\n",
       "    }\n",
       "\n",
       "    .dataframe thead th {\n",
       "        text-align: right;\n",
       "    }\n",
       "</style>\n",
       "<table border=\"1\" class=\"dataframe\">\n",
       "  <thead>\n",
       "    <tr style=\"text-align: right;\">\n",
       "      <th></th>\n",
       "      <th>cod</th>\n",
       "      <th>superficie</th>\n",
       "      <th>poblacion</th>\n",
       "      <th>densidad</th>\n",
       "      <th>idh</th>\n",
       "    </tr>\n",
       "  </thead>\n",
       "  <tbody>\n",
       "    <tr>\n",
       "      <th>count</th>\n",
       "      <td>346.000000</td>\n",
       "      <td>3.460000e+02</td>\n",
       "      <td>346.000000</td>\n",
       "      <td>346.000000</td>\n",
       "      <td>341.000000</td>\n",
       "    </tr>\n",
       "    <tr>\n",
       "      <th>mean</th>\n",
       "      <td>8563.156069</td>\n",
       "      <td>5.815967e+03</td>\n",
       "      <td>50407.078035</td>\n",
       "      <td>884.646821</td>\n",
       "      <td>637.527654</td>\n",
       "    </tr>\n",
       "    <tr>\n",
       "      <th>std</th>\n",
       "      <td>3356.540795</td>\n",
       "      <td>6.727407e+04</td>\n",
       "      <td>86926.943488</td>\n",
       "      <td>2668.330303</td>\n",
       "      <td>188.322684</td>\n",
       "    </tr>\n",
       "    <tr>\n",
       "      <th>min</th>\n",
       "      <td>1101.000000</td>\n",
       "      <td>7.000000e+00</td>\n",
       "      <td>127.000000</td>\n",
       "      <td>0.000000</td>\n",
       "      <td>0.510000</td>\n",
       "    </tr>\n",
       "    <tr>\n",
       "      <th>25%</th>\n",
       "      <td>6109.250000</td>\n",
       "      <td>2.513000e+02</td>\n",
       "      <td>9148.500000</td>\n",
       "      <td>9.325000</td>\n",
       "      <td>637.000000</td>\n",
       "    </tr>\n",
       "    <tr>\n",
       "      <th>50%</th>\n",
       "      <td>8313.500000</td>\n",
       "      <td>6.331500e+02</td>\n",
       "      <td>17688.000000</td>\n",
       "      <td>26.100000</td>\n",
       "      <td>672.000000</td>\n",
       "    </tr>\n",
       "    <tr>\n",
       "      <th>75%</th>\n",
       "      <td>11176.250000</td>\n",
       "      <td>1.657500e+03</td>\n",
       "      <td>50747.000000</td>\n",
       "      <td>89.575000</td>\n",
       "      <td>719.000000</td>\n",
       "    </tr>\n",
       "    <tr>\n",
       "      <th>max</th>\n",
       "      <td>15202.000000</td>\n",
       "      <td>1.250258e+06</td>\n",
       "      <td>805000.000000</td>\n",
       "      <td>15667.000000</td>\n",
       "      <td>949.000000</td>\n",
       "    </tr>\n",
       "  </tbody>\n",
       "</table>\n",
       "</div>"
      ],
      "text/plain": [
       "                cod    superficie      poblacion      densidad         idh\n",
       "count    346.000000  3.460000e+02     346.000000    346.000000  341.000000\n",
       "mean    8563.156069  5.815967e+03   50407.078035    884.646821  637.527654\n",
       "std     3356.540795  6.727407e+04   86926.943488   2668.330303  188.322684\n",
       "min     1101.000000  7.000000e+00     127.000000      0.000000    0.510000\n",
       "25%     6109.250000  2.513000e+02    9148.500000      9.325000  637.000000\n",
       "50%     8313.500000  6.331500e+02   17688.000000     26.100000  672.000000\n",
       "75%    11176.250000  1.657500e+03   50747.000000     89.575000  719.000000\n",
       "max    15202.000000  1.250258e+06  805000.000000  15667.000000  949.000000"
      ]
     },
     "execution_count": 56,
     "metadata": {},
     "output_type": "execute_result"
    }
   ],
   "source": [
    "com_frame.describe()"
   ]
  },
  {
   "cell_type": "markdown",
   "metadata": {},
   "source": [
    "En esta tabla tenemos valores nulos. Vamos a buscarlos. Primero vamos a encontrar todas las filas que contengan algún nulo, para luego filtrar por ese arreglo."
   ]
  },
  {
   "cell_type": "code",
   "execution_count": 57,
   "metadata": {},
   "outputs": [
    {
     "data": {
      "text/plain": [
       "0      False\n",
       "1      False\n",
       "2      False\n",
       "3      False\n",
       "4      False\n",
       "       ...  \n",
       "341    False\n",
       "342    False\n",
       "343    False\n",
       "344    False\n",
       "345    False\n",
       "Length: 346, dtype: bool"
      ]
     },
     "execution_count": 57,
     "metadata": {},
     "output_type": "execute_result"
    }
   ],
   "source": [
    "com_frame.isnull().any(axis=1)"
   ]
  },
  {
   "cell_type": "code",
   "execution_count": 58,
   "metadata": {},
   "outputs": [
    {
     "data": {
      "text/html": [
       "<div>\n",
       "<style scoped>\n",
       "    .dataframe tbody tr th:only-of-type {\n",
       "        vertical-align: middle;\n",
       "    }\n",
       "\n",
       "    .dataframe tbody tr th {\n",
       "        vertical-align: top;\n",
       "    }\n",
       "\n",
       "    .dataframe thead th {\n",
       "        text-align: right;\n",
       "    }\n",
       "</style>\n",
       "<table border=\"1\" class=\"dataframe\">\n",
       "  <thead>\n",
       "    <tr style=\"text-align: right;\">\n",
       "      <th></th>\n",
       "      <th>cod</th>\n",
       "      <th>nombre</th>\n",
       "      <th>provincia</th>\n",
       "      <th>region</th>\n",
       "      <th>superficie</th>\n",
       "      <th>poblacion</th>\n",
       "      <th>densidad</th>\n",
       "      <th>idh</th>\n",
       "    </tr>\n",
       "  </thead>\n",
       "  <tbody>\n",
       "    <tr>\n",
       "      <th>5</th>\n",
       "      <td>1107</td>\n",
       "      <td>Alto Hospicio</td>\n",
       "      <td>Iquique</td>\n",
       "      <td>Tarapacá</td>\n",
       "      <td>572.9</td>\n",
       "      <td>94455</td>\n",
       "      <td>87.6</td>\n",
       "      <td>NaN</td>\n",
       "    </tr>\n",
       "    <tr>\n",
       "      <th>177</th>\n",
       "      <td>8112</td>\n",
       "      <td>Hualpén</td>\n",
       "      <td>Concepción</td>\n",
       "      <td>Biobío</td>\n",
       "      <td>53.5</td>\n",
       "      <td>86176</td>\n",
       "      <td>1610.8</td>\n",
       "      <td>NaN</td>\n",
       "    </tr>\n",
       "    <tr>\n",
       "      <th>198</th>\n",
       "      <td>8314</td>\n",
       "      <td>Alto Biobío</td>\n",
       "      <td>Biobío</td>\n",
       "      <td>Biobío</td>\n",
       "      <td>2124.6</td>\n",
       "      <td>10039</td>\n",
       "      <td>4.7</td>\n",
       "      <td>NaN</td>\n",
       "    </tr>\n",
       "    <tr>\n",
       "      <th>219</th>\n",
       "      <td>9121</td>\n",
       "      <td>Cholchol</td>\n",
       "      <td>Cautín</td>\n",
       "      <td>La Araucanía</td>\n",
       "      <td>427.9</td>\n",
       "      <td>10825</td>\n",
       "      <td>25.3</td>\n",
       "      <td>NaN</td>\n",
       "    </tr>\n",
       "    <tr>\n",
       "      <th>288</th>\n",
       "      <td>12202</td>\n",
       "      <td>Antártica</td>\n",
       "      <td>Antártica Chilena</td>\n",
       "      <td>Magallanes y Antártica Chilena</td>\n",
       "      <td>1250257.6</td>\n",
       "      <td>127</td>\n",
       "      <td>0.0</td>\n",
       "      <td>NaN</td>\n",
       "    </tr>\n",
       "  </tbody>\n",
       "</table>\n",
       "</div>"
      ],
      "text/plain": [
       "       cod         nombre          provincia                          region  \\\n",
       "5     1107  Alto Hospicio            Iquique                        Tarapacá   \n",
       "177   8112        Hualpén         Concepción                          Biobío   \n",
       "198   8314    Alto Biobío             Biobío                          Biobío   \n",
       "219   9121       Cholchol             Cautín                    La Araucanía   \n",
       "288  12202      Antártica  Antártica Chilena  Magallanes y Antártica Chilena   \n",
       "\n",
       "     superficie  poblacion  densidad  idh  \n",
       "5         572.9      94455      87.6  NaN  \n",
       "177        53.5      86176    1610.8  NaN  \n",
       "198      2124.6      10039       4.7  NaN  \n",
       "219       427.9      10825      25.3  NaN  \n",
       "288   1250257.6        127       0.0  NaN  "
      ]
     },
     "execution_count": 58,
     "metadata": {},
     "output_type": "execute_result"
    }
   ],
   "source": [
    "com_frame[com_frame.isnull().any(axis=1)]"
   ]
  },
  {
   "cell_type": "markdown",
   "metadata": {},
   "source": [
    "`pandas` tiene métodos auxiliares para lidiar con datos faltantes. Uno es eliminar aquellas filas con la función `dropna()`"
   ]
  },
  {
   "cell_type": "code",
   "execution_count": 59,
   "metadata": {},
   "outputs": [
    {
     "data": {
      "text/html": [
       "<div>\n",
       "<style scoped>\n",
       "    .dataframe tbody tr th:only-of-type {\n",
       "        vertical-align: middle;\n",
       "    }\n",
       "\n",
       "    .dataframe tbody tr th {\n",
       "        vertical-align: top;\n",
       "    }\n",
       "\n",
       "    .dataframe thead th {\n",
       "        text-align: right;\n",
       "    }\n",
       "</style>\n",
       "<table border=\"1\" class=\"dataframe\">\n",
       "  <thead>\n",
       "    <tr style=\"text-align: right;\">\n",
       "      <th></th>\n",
       "      <th>cod</th>\n",
       "      <th>nombre</th>\n",
       "      <th>provincia</th>\n",
       "      <th>region</th>\n",
       "      <th>superficie</th>\n",
       "      <th>poblacion</th>\n",
       "      <th>densidad</th>\n",
       "      <th>idh</th>\n",
       "    </tr>\n",
       "  </thead>\n",
       "  <tbody>\n",
       "    <tr>\n",
       "      <th>0</th>\n",
       "      <td>15101</td>\n",
       "      <td>Arica</td>\n",
       "      <td>Arica</td>\n",
       "      <td>Arica y Parinacota</td>\n",
       "      <td>4799.4</td>\n",
       "      <td>210936</td>\n",
       "      <td>736.0</td>\n",
       "      <td>38.40</td>\n",
       "    </tr>\n",
       "    <tr>\n",
       "      <th>1</th>\n",
       "      <td>15102</td>\n",
       "      <td>Camarones</td>\n",
       "      <td>Arica</td>\n",
       "      <td>Arica y Parinacota</td>\n",
       "      <td>3927.0</td>\n",
       "      <td>679</td>\n",
       "      <td>0.3</td>\n",
       "      <td>751.00</td>\n",
       "    </tr>\n",
       "    <tr>\n",
       "      <th>2</th>\n",
       "      <td>15201</td>\n",
       "      <td>Putre</td>\n",
       "      <td>Parinacota</td>\n",
       "      <td>Arica y Parinacota</td>\n",
       "      <td>5902.5</td>\n",
       "      <td>1462</td>\n",
       "      <td>0.2</td>\n",
       "      <td>707.00</td>\n",
       "    </tr>\n",
       "    <tr>\n",
       "      <th>3</th>\n",
       "      <td>15202</td>\n",
       "      <td>General Lagos</td>\n",
       "      <td>Parinacota</td>\n",
       "      <td>Arica y Parinacota</td>\n",
       "      <td>2244.4</td>\n",
       "      <td>739</td>\n",
       "      <td>0.5</td>\n",
       "      <td>0.67</td>\n",
       "    </tr>\n",
       "    <tr>\n",
       "      <th>4</th>\n",
       "      <td>1101</td>\n",
       "      <td>Iquique</td>\n",
       "      <td>Iquique</td>\n",
       "      <td>Tarapacá</td>\n",
       "      <td>2242.1</td>\n",
       "      <td>184953</td>\n",
       "      <td>82.4</td>\n",
       "      <td>766.00</td>\n",
       "    </tr>\n",
       "    <tr>\n",
       "      <th>...</th>\n",
       "      <td>...</td>\n",
       "      <td>...</td>\n",
       "      <td>...</td>\n",
       "      <td>...</td>\n",
       "      <td>...</td>\n",
       "      <td>...</td>\n",
       "      <td>...</td>\n",
       "      <td>...</td>\n",
       "    </tr>\n",
       "    <tr>\n",
       "      <th>341</th>\n",
       "      <td>13601</td>\n",
       "      <td>Talagante</td>\n",
       "      <td>Talagante</td>\n",
       "      <td>Metropolitana de Santiago</td>\n",
       "      <td>126.0</td>\n",
       "      <td>78887</td>\n",
       "      <td>474.6</td>\n",
       "      <td>749.00</td>\n",
       "    </tr>\n",
       "    <tr>\n",
       "      <th>342</th>\n",
       "      <td>13602</td>\n",
       "      <td>El Monte</td>\n",
       "      <td>Talagante</td>\n",
       "      <td>Metropolitana de Santiago</td>\n",
       "      <td>118.0</td>\n",
       "      <td>32468</td>\n",
       "      <td>224.2</td>\n",
       "      <td>688.00</td>\n",
       "    </tr>\n",
       "    <tr>\n",
       "      <th>343</th>\n",
       "      <td>13603</td>\n",
       "      <td>Isla de Maipo</td>\n",
       "      <td>Talagante</td>\n",
       "      <td>Metropolitana de Santiago</td>\n",
       "      <td>189.0</td>\n",
       "      <td>33723</td>\n",
       "      <td>136.5</td>\n",
       "      <td>724.00</td>\n",
       "    </tr>\n",
       "    <tr>\n",
       "      <th>344</th>\n",
       "      <td>13604</td>\n",
       "      <td>Padre Hurtado</td>\n",
       "      <td>Talagante</td>\n",
       "      <td>Metropolitana de Santiago</td>\n",
       "      <td>80.8</td>\n",
       "      <td>50696</td>\n",
       "      <td>626.2</td>\n",
       "      <td>728.00</td>\n",
       "    </tr>\n",
       "    <tr>\n",
       "      <th>345</th>\n",
       "      <td>13605</td>\n",
       "      <td>Peñaflor</td>\n",
       "      <td>Talagante</td>\n",
       "      <td>Metropolitana de Santiago</td>\n",
       "      <td>69.0</td>\n",
       "      <td>87741</td>\n",
       "      <td>965.5</td>\n",
       "      <td>753.00</td>\n",
       "    </tr>\n",
       "  </tbody>\n",
       "</table>\n",
       "<p>341 rows × 8 columns</p>\n",
       "</div>"
      ],
      "text/plain": [
       "       cod         nombre   provincia                     region  superficie  \\\n",
       "0    15101          Arica       Arica         Arica y Parinacota      4799.4   \n",
       "1    15102      Camarones       Arica         Arica y Parinacota      3927.0   \n",
       "2    15201          Putre  Parinacota         Arica y Parinacota      5902.5   \n",
       "3    15202  General Lagos  Parinacota         Arica y Parinacota      2244.4   \n",
       "4     1101        Iquique     Iquique                   Tarapacá      2242.1   \n",
       "..     ...            ...         ...                        ...         ...   \n",
       "341  13601      Talagante   Talagante  Metropolitana de Santiago       126.0   \n",
       "342  13602       El Monte   Talagante  Metropolitana de Santiago       118.0   \n",
       "343  13603  Isla de Maipo   Talagante  Metropolitana de Santiago       189.0   \n",
       "344  13604  Padre Hurtado   Talagante  Metropolitana de Santiago        80.8   \n",
       "345  13605       Peñaflor   Talagante  Metropolitana de Santiago        69.0   \n",
       "\n",
       "     poblacion  densidad     idh  \n",
       "0       210936     736.0   38.40  \n",
       "1          679       0.3  751.00  \n",
       "2         1462       0.2  707.00  \n",
       "3          739       0.5    0.67  \n",
       "4       184953      82.4  766.00  \n",
       "..         ...       ...     ...  \n",
       "341      78887     474.6  749.00  \n",
       "342      32468     224.2  688.00  \n",
       "343      33723     136.5  724.00  \n",
       "344      50696     626.2  728.00  \n",
       "345      87741     965.5  753.00  \n",
       "\n",
       "[341 rows x 8 columns]"
      ]
     },
     "execution_count": 59,
     "metadata": {},
     "output_type": "execute_result"
    }
   ],
   "source": [
    "com_cleaned = com_frame.dropna()\n",
    "com_cleaned"
   ]
  },
  {
   "cell_type": "markdown",
   "metadata": {},
   "source": [
    "O podemos tomar una opción menos radical, que es reemplazar los nulos por un valor en particular."
   ]
  },
  {
   "cell_type": "code",
   "execution_count": 60,
   "metadata": {},
   "outputs": [
    {
     "data": {
      "text/html": [
       "<div>\n",
       "<style scoped>\n",
       "    .dataframe tbody tr th:only-of-type {\n",
       "        vertical-align: middle;\n",
       "    }\n",
       "\n",
       "    .dataframe tbody tr th {\n",
       "        vertical-align: top;\n",
       "    }\n",
       "\n",
       "    .dataframe thead th {\n",
       "        text-align: right;\n",
       "    }\n",
       "</style>\n",
       "<table border=\"1\" class=\"dataframe\">\n",
       "  <thead>\n",
       "    <tr style=\"text-align: right;\">\n",
       "      <th></th>\n",
       "      <th>cod</th>\n",
       "      <th>nombre</th>\n",
       "      <th>provincia</th>\n",
       "      <th>region</th>\n",
       "      <th>superficie</th>\n",
       "      <th>poblacion</th>\n",
       "      <th>densidad</th>\n",
       "      <th>idh</th>\n",
       "    </tr>\n",
       "  </thead>\n",
       "  <tbody>\n",
       "    <tr>\n",
       "      <th>0</th>\n",
       "      <td>15101</td>\n",
       "      <td>Arica</td>\n",
       "      <td>Arica</td>\n",
       "      <td>Arica y Parinacota</td>\n",
       "      <td>4799.4</td>\n",
       "      <td>210936</td>\n",
       "      <td>736.0</td>\n",
       "      <td>38.40</td>\n",
       "    </tr>\n",
       "    <tr>\n",
       "      <th>1</th>\n",
       "      <td>15102</td>\n",
       "      <td>Camarones</td>\n",
       "      <td>Arica</td>\n",
       "      <td>Arica y Parinacota</td>\n",
       "      <td>3927.0</td>\n",
       "      <td>679</td>\n",
       "      <td>0.3</td>\n",
       "      <td>751.00</td>\n",
       "    </tr>\n",
       "    <tr>\n",
       "      <th>2</th>\n",
       "      <td>15201</td>\n",
       "      <td>Putre</td>\n",
       "      <td>Parinacota</td>\n",
       "      <td>Arica y Parinacota</td>\n",
       "      <td>5902.5</td>\n",
       "      <td>1462</td>\n",
       "      <td>0.2</td>\n",
       "      <td>707.00</td>\n",
       "    </tr>\n",
       "    <tr>\n",
       "      <th>3</th>\n",
       "      <td>15202</td>\n",
       "      <td>General Lagos</td>\n",
       "      <td>Parinacota</td>\n",
       "      <td>Arica y Parinacota</td>\n",
       "      <td>2244.4</td>\n",
       "      <td>739</td>\n",
       "      <td>0.5</td>\n",
       "      <td>0.67</td>\n",
       "    </tr>\n",
       "    <tr>\n",
       "      <th>4</th>\n",
       "      <td>1101</td>\n",
       "      <td>Iquique</td>\n",
       "      <td>Iquique</td>\n",
       "      <td>Tarapacá</td>\n",
       "      <td>2242.1</td>\n",
       "      <td>184953</td>\n",
       "      <td>82.4</td>\n",
       "      <td>766.00</td>\n",
       "    </tr>\n",
       "    <tr>\n",
       "      <th>...</th>\n",
       "      <td>...</td>\n",
       "      <td>...</td>\n",
       "      <td>...</td>\n",
       "      <td>...</td>\n",
       "      <td>...</td>\n",
       "      <td>...</td>\n",
       "      <td>...</td>\n",
       "      <td>...</td>\n",
       "    </tr>\n",
       "    <tr>\n",
       "      <th>341</th>\n",
       "      <td>13601</td>\n",
       "      <td>Talagante</td>\n",
       "      <td>Talagante</td>\n",
       "      <td>Metropolitana de Santiago</td>\n",
       "      <td>126.0</td>\n",
       "      <td>78887</td>\n",
       "      <td>474.6</td>\n",
       "      <td>749.00</td>\n",
       "    </tr>\n",
       "    <tr>\n",
       "      <th>342</th>\n",
       "      <td>13602</td>\n",
       "      <td>El Monte</td>\n",
       "      <td>Talagante</td>\n",
       "      <td>Metropolitana de Santiago</td>\n",
       "      <td>118.0</td>\n",
       "      <td>32468</td>\n",
       "      <td>224.2</td>\n",
       "      <td>688.00</td>\n",
       "    </tr>\n",
       "    <tr>\n",
       "      <th>343</th>\n",
       "      <td>13603</td>\n",
       "      <td>Isla de Maipo</td>\n",
       "      <td>Talagante</td>\n",
       "      <td>Metropolitana de Santiago</td>\n",
       "      <td>189.0</td>\n",
       "      <td>33723</td>\n",
       "      <td>136.5</td>\n",
       "      <td>724.00</td>\n",
       "    </tr>\n",
       "    <tr>\n",
       "      <th>344</th>\n",
       "      <td>13604</td>\n",
       "      <td>Padre Hurtado</td>\n",
       "      <td>Talagante</td>\n",
       "      <td>Metropolitana de Santiago</td>\n",
       "      <td>80.8</td>\n",
       "      <td>50696</td>\n",
       "      <td>626.2</td>\n",
       "      <td>728.00</td>\n",
       "    </tr>\n",
       "    <tr>\n",
       "      <th>345</th>\n",
       "      <td>13605</td>\n",
       "      <td>Peñaflor</td>\n",
       "      <td>Talagante</td>\n",
       "      <td>Metropolitana de Santiago</td>\n",
       "      <td>69.0</td>\n",
       "      <td>87741</td>\n",
       "      <td>965.5</td>\n",
       "      <td>753.00</td>\n",
       "    </tr>\n",
       "  </tbody>\n",
       "</table>\n",
       "<p>346 rows × 8 columns</p>\n",
       "</div>"
      ],
      "text/plain": [
       "       cod         nombre   provincia                     region  superficie  \\\n",
       "0    15101          Arica       Arica         Arica y Parinacota      4799.4   \n",
       "1    15102      Camarones       Arica         Arica y Parinacota      3927.0   \n",
       "2    15201          Putre  Parinacota         Arica y Parinacota      5902.5   \n",
       "3    15202  General Lagos  Parinacota         Arica y Parinacota      2244.4   \n",
       "4     1101        Iquique     Iquique                   Tarapacá      2242.1   \n",
       "..     ...            ...         ...                        ...         ...   \n",
       "341  13601      Talagante   Talagante  Metropolitana de Santiago       126.0   \n",
       "342  13602       El Monte   Talagante  Metropolitana de Santiago       118.0   \n",
       "343  13603  Isla de Maipo   Talagante  Metropolitana de Santiago       189.0   \n",
       "344  13604  Padre Hurtado   Talagante  Metropolitana de Santiago        80.8   \n",
       "345  13605       Peñaflor   Talagante  Metropolitana de Santiago        69.0   \n",
       "\n",
       "     poblacion  densidad     idh  \n",
       "0       210936     736.0   38.40  \n",
       "1          679       0.3  751.00  \n",
       "2         1462       0.2  707.00  \n",
       "3          739       0.5    0.67  \n",
       "4       184953      82.4  766.00  \n",
       "..         ...       ...     ...  \n",
       "341      78887     474.6  749.00  \n",
       "342      32468     224.2  688.00  \n",
       "343      33723     136.5  724.00  \n",
       "344      50696     626.2  728.00  \n",
       "345      87741     965.5  753.00  \n",
       "\n",
       "[346 rows x 8 columns]"
      ]
     },
     "execution_count": 60,
     "metadata": {},
     "output_type": "execute_result"
    }
   ],
   "source": [
    "com_frame = com_frame.fillna(0)\n",
    "com_frame"
   ]
  },
  {
   "cell_type": "markdown",
   "metadata": {},
   "source": [
    "Existen muchas otras opciones para limpiar los datos, pero no son parte de esta guía."
   ]
  },
  {
   "cell_type": "markdown",
   "metadata": {},
   "source": [
    "Ahora, veamos algunos ejemplos de agregación de datos utilizando `pandas`. Lo primero que haremos será cambiar el nombre de las columnas del Data Frame con método diferente al que utilizamos anteriormente."
   ]
  },
  {
   "cell_type": "code",
   "execution_count": 61,
   "metadata": {},
   "outputs": [
    {
     "data": {
      "text/html": [
       "<div>\n",
       "<style scoped>\n",
       "    .dataframe tbody tr th:only-of-type {\n",
       "        vertical-align: middle;\n",
       "    }\n",
       "\n",
       "    .dataframe tbody tr th {\n",
       "        vertical-align: top;\n",
       "    }\n",
       "\n",
       "    .dataframe thead th {\n",
       "        text-align: right;\n",
       "    }\n",
       "</style>\n",
       "<table border=\"1\" class=\"dataframe\">\n",
       "  <thead>\n",
       "    <tr style=\"text-align: right;\">\n",
       "      <th></th>\n",
       "      <th>cod</th>\n",
       "      <th>nombre</th>\n",
       "      <th>prov</th>\n",
       "      <th>reg</th>\n",
       "      <th>sup</th>\n",
       "      <th>pobl</th>\n",
       "      <th>dens</th>\n",
       "      <th>idh</th>\n",
       "    </tr>\n",
       "  </thead>\n",
       "  <tbody>\n",
       "    <tr>\n",
       "      <th>0</th>\n",
       "      <td>15101</td>\n",
       "      <td>Arica</td>\n",
       "      <td>Arica</td>\n",
       "      <td>Arica y Parinacota</td>\n",
       "      <td>4799.4</td>\n",
       "      <td>210936</td>\n",
       "      <td>736.0</td>\n",
       "      <td>38.40</td>\n",
       "    </tr>\n",
       "    <tr>\n",
       "      <th>1</th>\n",
       "      <td>15102</td>\n",
       "      <td>Camarones</td>\n",
       "      <td>Arica</td>\n",
       "      <td>Arica y Parinacota</td>\n",
       "      <td>3927.0</td>\n",
       "      <td>679</td>\n",
       "      <td>0.3</td>\n",
       "      <td>751.00</td>\n",
       "    </tr>\n",
       "    <tr>\n",
       "      <th>2</th>\n",
       "      <td>15201</td>\n",
       "      <td>Putre</td>\n",
       "      <td>Parinacota</td>\n",
       "      <td>Arica y Parinacota</td>\n",
       "      <td>5902.5</td>\n",
       "      <td>1462</td>\n",
       "      <td>0.2</td>\n",
       "      <td>707.00</td>\n",
       "    </tr>\n",
       "    <tr>\n",
       "      <th>3</th>\n",
       "      <td>15202</td>\n",
       "      <td>General Lagos</td>\n",
       "      <td>Parinacota</td>\n",
       "      <td>Arica y Parinacota</td>\n",
       "      <td>2244.4</td>\n",
       "      <td>739</td>\n",
       "      <td>0.5</td>\n",
       "      <td>0.67</td>\n",
       "    </tr>\n",
       "    <tr>\n",
       "      <th>4</th>\n",
       "      <td>1101</td>\n",
       "      <td>Iquique</td>\n",
       "      <td>Iquique</td>\n",
       "      <td>Tarapacá</td>\n",
       "      <td>2242.1</td>\n",
       "      <td>184953</td>\n",
       "      <td>82.4</td>\n",
       "      <td>766.00</td>\n",
       "    </tr>\n",
       "    <tr>\n",
       "      <th>...</th>\n",
       "      <td>...</td>\n",
       "      <td>...</td>\n",
       "      <td>...</td>\n",
       "      <td>...</td>\n",
       "      <td>...</td>\n",
       "      <td>...</td>\n",
       "      <td>...</td>\n",
       "      <td>...</td>\n",
       "    </tr>\n",
       "    <tr>\n",
       "      <th>341</th>\n",
       "      <td>13601</td>\n",
       "      <td>Talagante</td>\n",
       "      <td>Talagante</td>\n",
       "      <td>Metropolitana de Santiago</td>\n",
       "      <td>126.0</td>\n",
       "      <td>78887</td>\n",
       "      <td>474.6</td>\n",
       "      <td>749.00</td>\n",
       "    </tr>\n",
       "    <tr>\n",
       "      <th>342</th>\n",
       "      <td>13602</td>\n",
       "      <td>El Monte</td>\n",
       "      <td>Talagante</td>\n",
       "      <td>Metropolitana de Santiago</td>\n",
       "      <td>118.0</td>\n",
       "      <td>32468</td>\n",
       "      <td>224.2</td>\n",
       "      <td>688.00</td>\n",
       "    </tr>\n",
       "    <tr>\n",
       "      <th>343</th>\n",
       "      <td>13603</td>\n",
       "      <td>Isla de Maipo</td>\n",
       "      <td>Talagante</td>\n",
       "      <td>Metropolitana de Santiago</td>\n",
       "      <td>189.0</td>\n",
       "      <td>33723</td>\n",
       "      <td>136.5</td>\n",
       "      <td>724.00</td>\n",
       "    </tr>\n",
       "    <tr>\n",
       "      <th>344</th>\n",
       "      <td>13604</td>\n",
       "      <td>Padre Hurtado</td>\n",
       "      <td>Talagante</td>\n",
       "      <td>Metropolitana de Santiago</td>\n",
       "      <td>80.8</td>\n",
       "      <td>50696</td>\n",
       "      <td>626.2</td>\n",
       "      <td>728.00</td>\n",
       "    </tr>\n",
       "    <tr>\n",
       "      <th>345</th>\n",
       "      <td>13605</td>\n",
       "      <td>Peñaflor</td>\n",
       "      <td>Talagante</td>\n",
       "      <td>Metropolitana de Santiago</td>\n",
       "      <td>69.0</td>\n",
       "      <td>87741</td>\n",
       "      <td>965.5</td>\n",
       "      <td>753.00</td>\n",
       "    </tr>\n",
       "  </tbody>\n",
       "</table>\n",
       "<p>346 rows × 8 columns</p>\n",
       "</div>"
      ],
      "text/plain": [
       "       cod         nombre        prov                        reg     sup  \\\n",
       "0    15101          Arica       Arica         Arica y Parinacota  4799.4   \n",
       "1    15102      Camarones       Arica         Arica y Parinacota  3927.0   \n",
       "2    15201          Putre  Parinacota         Arica y Parinacota  5902.5   \n",
       "3    15202  General Lagos  Parinacota         Arica y Parinacota  2244.4   \n",
       "4     1101        Iquique     Iquique                   Tarapacá  2242.1   \n",
       "..     ...            ...         ...                        ...     ...   \n",
       "341  13601      Talagante   Talagante  Metropolitana de Santiago   126.0   \n",
       "342  13602       El Monte   Talagante  Metropolitana de Santiago   118.0   \n",
       "343  13603  Isla de Maipo   Talagante  Metropolitana de Santiago   189.0   \n",
       "344  13604  Padre Hurtado   Talagante  Metropolitana de Santiago    80.8   \n",
       "345  13605       Peñaflor   Talagante  Metropolitana de Santiago    69.0   \n",
       "\n",
       "       pobl   dens     idh  \n",
       "0    210936  736.0   38.40  \n",
       "1       679    0.3  751.00  \n",
       "2      1462    0.2  707.00  \n",
       "3       739    0.5    0.67  \n",
       "4    184953   82.4  766.00  \n",
       "..      ...    ...     ...  \n",
       "341   78887  474.6  749.00  \n",
       "342   32468  224.2  688.00  \n",
       "343   33723  136.5  724.00  \n",
       "344   50696  626.2  728.00  \n",
       "345   87741  965.5  753.00  \n",
       "\n",
       "[346 rows x 8 columns]"
      ]
     },
     "execution_count": 61,
     "metadata": {},
     "output_type": "execute_result"
    }
   ],
   "source": [
    "com_frame.columns = ['cod', 'nombre', 'prov', 'reg', 'sup', 'pobl', 'dens', 'idh']\n",
    "com_frame"
   ]
  },
  {
   "cell_type": "markdown",
   "metadata": {},
   "source": [
    "Para obtener la cantidad de habitantes por región haremos lo siguiente:"
   ]
  },
  {
   "cell_type": "code",
   "execution_count": 62,
   "metadata": {},
   "outputs": [
    {
     "data": {
      "text/plain": [
       "reg\n",
       "Antofagasta                             551627\n",
       "Arica y Parinacota                      213816\n",
       "Atacama                                 292054\n",
       "Aysén del Gral. C. Ibáñez del Campo     106893\n",
       "Biobío                                 1565839\n",
       "Coquimbo                                714856\n",
       "La Araucanía                            933537\n",
       "Lib. Gral. Bernardo O'Higgins           903248\n",
       "Los Lagos                               835829\n",
       "Los Ríos                                380618\n",
       "Magallanes y Antártica Chilena          158828\n",
       "Maule                                  1073635\n",
       "Metropolitana de Santiago              7090580\n",
       "Tarapacá                                300021\n",
       "Valparaíso                             1859312\n",
       "Ñuble                                   460156\n",
       "Name: pobl, dtype: int64"
      ]
     },
     "execution_count": 62,
     "metadata": {},
     "output_type": "execute_result"
    }
   ],
   "source": [
    "com_frame['pobl'].groupby(com_frame['reg']).sum() # Ojo! esto retorna un objeto Series"
   ]
  },
  {
   "cell_type": "markdown",
   "metadata": {},
   "source": [
    "Podemos preguntar cuántos elementos hay por grupo. En este caso obtendríamos el número de comunas por región."
   ]
  },
  {
   "cell_type": "code",
   "execution_count": 63,
   "metadata": {},
   "outputs": [
    {
     "data": {
      "text/plain": [
       "reg\n",
       "Antofagasta                             9\n",
       "Arica y Parinacota                      4\n",
       "Atacama                                 9\n",
       "Aysén del Gral. C. Ibáñez del Campo    10\n",
       "Biobío                                 33\n",
       "Coquimbo                               15\n",
       "La Araucanía                           32\n",
       "Lib. Gral. Bernardo O'Higgins          33\n",
       "Los Lagos                              30\n",
       "Los Ríos                               12\n",
       "Magallanes y Antártica Chilena         11\n",
       "Maule                                  30\n",
       "Metropolitana de Santiago              52\n",
       "Tarapacá                                7\n",
       "Valparaíso                             38\n",
       "Ñuble                                  21\n",
       "Name: pobl, dtype: int64"
      ]
     },
     "execution_count": 63,
     "metadata": {},
     "output_type": "execute_result"
    }
   ],
   "source": [
    "com_frame['pobl'].groupby(com_frame['reg']).size() # Ojo! esto retorna un objeto Series"
   ]
  },
  {
   "cell_type": "markdown",
   "metadata": {},
   "source": [
    "Tambien podemos hacer varias agregaciones a la vez, retornando un solo data frame:"
   ]
  },
  {
   "cell_type": "code",
   "execution_count": 64,
   "metadata": {},
   "outputs": [
    {
     "data": {
      "text/html": [
       "<div>\n",
       "<style scoped>\n",
       "    .dataframe tbody tr th:only-of-type {\n",
       "        vertical-align: middle;\n",
       "    }\n",
       "\n",
       "    .dataframe tbody tr th {\n",
       "        vertical-align: top;\n",
       "    }\n",
       "\n",
       "    .dataframe thead tr th {\n",
       "        text-align: left;\n",
       "    }\n",
       "\n",
       "    .dataframe thead tr:last-of-type th {\n",
       "        text-align: right;\n",
       "    }\n",
       "</style>\n",
       "<table border=\"1\" class=\"dataframe\">\n",
       "  <thead>\n",
       "    <tr>\n",
       "      <th></th>\n",
       "      <th colspan=\"2\" halign=\"left\">idh</th>\n",
       "      <th colspan=\"2\" halign=\"left\">dens</th>\n",
       "    </tr>\n",
       "    <tr>\n",
       "      <th></th>\n",
       "      <th>mean</th>\n",
       "      <th>std</th>\n",
       "      <th>mean</th>\n",
       "      <th>std</th>\n",
       "    </tr>\n",
       "    <tr>\n",
       "      <th>reg</th>\n",
       "      <th></th>\n",
       "      <th></th>\n",
       "      <th></th>\n",
       "      <th></th>\n",
       "    </tr>\n",
       "  </thead>\n",
       "  <tbody>\n",
       "    <tr>\n",
       "      <th>Antofagasta</th>\n",
       "      <td>574.046667</td>\n",
       "      <td>326.844732</td>\n",
       "      <td>3.155556</td>\n",
       "      <td>3.993780</td>\n",
       "    </tr>\n",
       "    <tr>\n",
       "      <th>Arica y Parinacota</th>\n",
       "      <td>374.267500</td>\n",
       "      <td>410.292726</td>\n",
       "      <td>184.250000</td>\n",
       "      <td>367.833354</td>\n",
       "    </tr>\n",
       "    <tr>\n",
       "      <th>Atacama</th>\n",
       "      <td>715.333333</td>\n",
       "      <td>36.800136</td>\n",
       "      <td>3.766667</td>\n",
       "      <td>3.693914</td>\n",
       "    </tr>\n",
       "    <tr>\n",
       "      <th>Aysén del Gral. C. Ibáñez del Campo</th>\n",
       "      <td>669.700000</td>\n",
       "      <td>49.893331</td>\n",
       "      <td>1.220000</td>\n",
       "      <td>2.080491</td>\n",
       "    </tr>\n",
       "    <tr>\n",
       "      <th>Biobío</th>\n",
       "      <td>620.121212</td>\n",
       "      <td>166.558128</td>\n",
       "      <td>273.112121</td>\n",
       "      <td>516.024530</td>\n",
       "    </tr>\n",
       "    <tr>\n",
       "      <th>Coquimbo</th>\n",
       "      <td>642.978000</td>\n",
       "      <td>182.061179</td>\n",
       "      <td>26.546667</td>\n",
       "      <td>45.822294</td>\n",
       "    </tr>\n",
       "    <tr>\n",
       "      <th>La Araucanía</th>\n",
       "      <td>603.144688</td>\n",
       "      <td>164.238217</td>\n",
       "      <td>277.856250</td>\n",
       "      <td>1416.568029</td>\n",
       "    </tr>\n",
       "    <tr>\n",
       "      <th>Lib. Gral. Bernardo O'Higgins</th>\n",
       "      <td>608.972121</td>\n",
       "      <td>197.272731</td>\n",
       "      <td>85.242424</td>\n",
       "      <td>145.693909</td>\n",
       "    </tr>\n",
       "    <tr>\n",
       "      <th>Los Lagos</th>\n",
       "      <td>534.399333</td>\n",
       "      <td>272.921944</td>\n",
       "      <td>29.293333</td>\n",
       "      <td>39.594130</td>\n",
       "    </tr>\n",
       "    <tr>\n",
       "      <th>Los Ríos</th>\n",
       "      <td>654.500000</td>\n",
       "      <td>37.449360</td>\n",
       "      <td>24.241667</td>\n",
       "      <td>36.565619</td>\n",
       "    </tr>\n",
       "    <tr>\n",
       "      <th>Magallanes y Antártica Chilena</th>\n",
       "      <td>624.339091</td>\n",
       "      <td>310.754763</td>\n",
       "      <td>0.781818</td>\n",
       "      <td>2.009885</td>\n",
       "    </tr>\n",
       "    <tr>\n",
       "      <th>Maule</th>\n",
       "      <td>594.268667</td>\n",
       "      <td>202.909354</td>\n",
       "      <td>62.016667</td>\n",
       "      <td>166.123751</td>\n",
       "    </tr>\n",
       "    <tr>\n",
       "      <th>Metropolitana de Santiago</th>\n",
       "      <td>709.735962</td>\n",
       "      <td>190.098669</td>\n",
       "      <td>5178.384615</td>\n",
       "      <td>4932.171105</td>\n",
       "    </tr>\n",
       "    <tr>\n",
       "      <th>Tarapacá</th>\n",
       "      <td>597.000000</td>\n",
       "      <td>272.571703</td>\n",
       "      <td>24.628571</td>\n",
       "      <td>41.269146</td>\n",
       "    </tr>\n",
       "    <tr>\n",
       "      <th>Valparaíso</th>\n",
       "      <td>681.274474</td>\n",
       "      <td>165.196975</td>\n",
       "      <td>283.600000</td>\n",
       "      <td>538.640550</td>\n",
       "    </tr>\n",
       "    <tr>\n",
       "      <th>Ñuble</th>\n",
       "      <td>597.028095</td>\n",
       "      <td>142.594157</td>\n",
       "      <td>42.714286</td>\n",
       "      <td>72.390333</td>\n",
       "    </tr>\n",
       "  </tbody>\n",
       "</table>\n",
       "</div>"
      ],
      "text/plain": [
       "                                            idh                     dens  \\\n",
       "                                           mean         std         mean   \n",
       "reg                                                                        \n",
       "Antofagasta                          574.046667  326.844732     3.155556   \n",
       "Arica y Parinacota                   374.267500  410.292726   184.250000   \n",
       "Atacama                              715.333333   36.800136     3.766667   \n",
       "Aysén del Gral. C. Ibáñez del Campo  669.700000   49.893331     1.220000   \n",
       "Biobío                               620.121212  166.558128   273.112121   \n",
       "Coquimbo                             642.978000  182.061179    26.546667   \n",
       "La Araucanía                         603.144688  164.238217   277.856250   \n",
       "Lib. Gral. Bernardo O'Higgins        608.972121  197.272731    85.242424   \n",
       "Los Lagos                            534.399333  272.921944    29.293333   \n",
       "Los Ríos                             654.500000   37.449360    24.241667   \n",
       "Magallanes y Antártica Chilena       624.339091  310.754763     0.781818   \n",
       "Maule                                594.268667  202.909354    62.016667   \n",
       "Metropolitana de Santiago            709.735962  190.098669  5178.384615   \n",
       "Tarapacá                             597.000000  272.571703    24.628571   \n",
       "Valparaíso                           681.274474  165.196975   283.600000   \n",
       "Ñuble                                597.028095  142.594157    42.714286   \n",
       "\n",
       "                                                  \n",
       "                                             std  \n",
       "reg                                               \n",
       "Antofagasta                             3.993780  \n",
       "Arica y Parinacota                    367.833354  \n",
       "Atacama                                 3.693914  \n",
       "Aysén del Gral. C. Ibáñez del Campo     2.080491  \n",
       "Biobío                                516.024530  \n",
       "Coquimbo                               45.822294  \n",
       "La Araucanía                         1416.568029  \n",
       "Lib. Gral. Bernardo O'Higgins         145.693909  \n",
       "Los Lagos                              39.594130  \n",
       "Los Ríos                               36.565619  \n",
       "Magallanes y Antártica Chilena          2.009885  \n",
       "Maule                                 166.123751  \n",
       "Metropolitana de Santiago            4932.171105  \n",
       "Tarapacá                               41.269146  \n",
       "Valparaíso                            538.640550  \n",
       "Ñuble                                  72.390333  "
      ]
     },
     "execution_count": 64,
     "metadata": {},
     "output_type": "execute_result"
    }
   ],
   "source": [
    "com_frame.groupby(['reg']).agg({'idh':['mean','std'], 'dens':['mean','std']})"
   ]
  },
  {
   "cell_type": "markdown",
   "metadata": {},
   "source": [
    "El comando de arriba retorna un df multi nivel :O! los cuales son un poco más complejos de trabajar.\n",
    "\n",
    "Como pueden ver en `pandas` se pueden hacer operaciones mucho más complejas, pero no veremos nada avanzado en esta ocasión. Puedes revisar la documentación para ver que más puedes hacer."
   ]
  },
  {
   "cell_type": "markdown",
   "metadata": {},
   "source": [
    "Podemos agregar columnas al df basadas en las otras columnas mediante el método `apply`"
   ]
  },
  {
   "cell_type": "code",
   "execution_count": 65,
   "metadata": {},
   "outputs": [
    {
     "data": {
      "text/html": [
       "<div>\n",
       "<style scoped>\n",
       "    .dataframe tbody tr th:only-of-type {\n",
       "        vertical-align: middle;\n",
       "    }\n",
       "\n",
       "    .dataframe tbody tr th {\n",
       "        vertical-align: top;\n",
       "    }\n",
       "\n",
       "    .dataframe thead th {\n",
       "        text-align: right;\n",
       "    }\n",
       "</style>\n",
       "<table border=\"1\" class=\"dataframe\">\n",
       "  <thead>\n",
       "    <tr style=\"text-align: right;\">\n",
       "      <th></th>\n",
       "      <th>cod</th>\n",
       "      <th>nombre</th>\n",
       "      <th>prov</th>\n",
       "      <th>reg</th>\n",
       "      <th>sup</th>\n",
       "      <th>pobl</th>\n",
       "      <th>dens</th>\n",
       "      <th>idh</th>\n",
       "      <th>computed_density</th>\n",
       "    </tr>\n",
       "  </thead>\n",
       "  <tbody>\n",
       "    <tr>\n",
       "      <th>0</th>\n",
       "      <td>15101</td>\n",
       "      <td>Arica</td>\n",
       "      <td>Arica</td>\n",
       "      <td>Arica y Parinacota</td>\n",
       "      <td>4799.4</td>\n",
       "      <td>210936</td>\n",
       "      <td>736.0</td>\n",
       "      <td>38.40</td>\n",
       "      <td>43.950494</td>\n",
       "    </tr>\n",
       "    <tr>\n",
       "      <th>1</th>\n",
       "      <td>15102</td>\n",
       "      <td>Camarones</td>\n",
       "      <td>Arica</td>\n",
       "      <td>Arica y Parinacota</td>\n",
       "      <td>3927.0</td>\n",
       "      <td>679</td>\n",
       "      <td>0.3</td>\n",
       "      <td>751.00</td>\n",
       "      <td>0.172906</td>\n",
       "    </tr>\n",
       "    <tr>\n",
       "      <th>2</th>\n",
       "      <td>15201</td>\n",
       "      <td>Putre</td>\n",
       "      <td>Parinacota</td>\n",
       "      <td>Arica y Parinacota</td>\n",
       "      <td>5902.5</td>\n",
       "      <td>1462</td>\n",
       "      <td>0.2</td>\n",
       "      <td>707.00</td>\n",
       "      <td>0.247692</td>\n",
       "    </tr>\n",
       "    <tr>\n",
       "      <th>3</th>\n",
       "      <td>15202</td>\n",
       "      <td>General Lagos</td>\n",
       "      <td>Parinacota</td>\n",
       "      <td>Arica y Parinacota</td>\n",
       "      <td>2244.4</td>\n",
       "      <td>739</td>\n",
       "      <td>0.5</td>\n",
       "      <td>0.67</td>\n",
       "      <td>0.329264</td>\n",
       "    </tr>\n",
       "    <tr>\n",
       "      <th>4</th>\n",
       "      <td>1101</td>\n",
       "      <td>Iquique</td>\n",
       "      <td>Iquique</td>\n",
       "      <td>Tarapacá</td>\n",
       "      <td>2242.1</td>\n",
       "      <td>184953</td>\n",
       "      <td>82.4</td>\n",
       "      <td>766.00</td>\n",
       "      <td>82.490968</td>\n",
       "    </tr>\n",
       "  </tbody>\n",
       "</table>\n",
       "</div>"
      ],
      "text/plain": [
       "     cod         nombre        prov                 reg     sup    pobl  \\\n",
       "0  15101          Arica       Arica  Arica y Parinacota  4799.4  210936   \n",
       "1  15102      Camarones       Arica  Arica y Parinacota  3927.0     679   \n",
       "2  15201          Putre  Parinacota  Arica y Parinacota  5902.5    1462   \n",
       "3  15202  General Lagos  Parinacota  Arica y Parinacota  2244.4     739   \n",
       "4   1101        Iquique     Iquique            Tarapacá  2242.1  184953   \n",
       "\n",
       "    dens     idh  computed_density  \n",
       "0  736.0   38.40         43.950494  \n",
       "1    0.3  751.00          0.172906  \n",
       "2    0.2  707.00          0.247692  \n",
       "3    0.5    0.67          0.329264  \n",
       "4   82.4  766.00         82.490968  "
      ]
     },
     "execution_count": 65,
     "metadata": {},
     "output_type": "execute_result"
    }
   ],
   "source": [
    "com_frame['computed_density'] = com_frame.apply(lambda row: row.pobl / row.sup, axis=1)\n",
    "com_frame.head()"
   ]
  },
  {
   "cell_type": "markdown",
   "metadata": {},
   "source": [
    "Se puede hacer merge (join) de dos dataframes de la siguiente forma:\n",
    "\n",
    "```py\n",
    "df = df1.merge(df2, left_on='atributo_df1', right_on='atributo_df2')\n",
    "```"
   ]
  },
  {
   "cell_type": "markdown",
   "metadata": {},
   "source": [
    "Una de las ventajas de trabajar con `pandas` es que tenemos acceso rápido a herramientas de visualización. Vamos a ver un ejemplo rápido, haciendo un gráfico para ver la correlación entre superficie y población."
   ]
  },
  {
   "cell_type": "code",
   "execution_count": 66,
   "metadata": {},
   "outputs": [
    {
     "data": {
      "text/plain": [
       "<AxesSubplot:xlabel='sup', ylabel='pobl'>"
      ]
     },
     "execution_count": 66,
     "metadata": {},
     "output_type": "execute_result"
    },
    {
     "data": {
      "image/png": "[encoded data removed]",
      "text/plain": [
       "<Figure size 432x288 with 1 Axes>"
      ]
     },
     "metadata": {
      "needs_background": "light"
     },
     "output_type": "display_data"
    }
   ],
   "source": [
    "com_frame.plot.scatter(x='sup', y='pobl')"
   ]
  },
  {
   "cell_type": "markdown",
   "metadata": {},
   "source": [
    "Necesitamos limpiar los _outliers_ (datos muy alejados de lo \"normal\") para ver mejor el gráfico:"
   ]
  },
  {
   "cell_type": "code",
   "execution_count": 67,
   "metadata": {},
   "outputs": [
    {
     "data": {
      "text/plain": [
       "<AxesSubplot:xlabel='sup', ylabel='pobl'>"
      ]
     },
     "execution_count": 67,
     "metadata": {},
     "output_type": "execute_result"
    },
    {
     "data": {
      "image/png": "[encoded data removed]",
      "text/plain": [
       "<Figure size 432x288 with 1 Axes>"
      ]
     },
     "metadata": {
      "needs_background": "light"
     },
     "output_type": "display_data"
    }
   ],
   "source": [
    "com_frame[(com_frame['sup'] < 20000) & (com_frame['pobl'] < 50000)].plot.scatter(x='sup', y='pobl')"
   ]
  },
  {
   "cell_type": "markdown",
   "metadata": {},
   "source": [
    "También podemos calcular correlación entre las columnas que tengan valores numéricos:"
   ]
  },
  {
   "cell_type": "code",
   "execution_count": 68,
   "metadata": {},
   "outputs": [
    {
     "data": {
      "text/html": [
       "<div>\n",
       "<style scoped>\n",
       "    .dataframe tbody tr th:only-of-type {\n",
       "        vertical-align: middle;\n",
       "    }\n",
       "\n",
       "    .dataframe tbody tr th {\n",
       "        vertical-align: top;\n",
       "    }\n",
       "\n",
       "    .dataframe thead th {\n",
       "        text-align: right;\n",
       "    }\n",
       "</style>\n",
       "<table border=\"1\" class=\"dataframe\">\n",
       "  <thead>\n",
       "    <tr style=\"text-align: right;\">\n",
       "      <th></th>\n",
       "      <th>cod</th>\n",
       "      <th>sup</th>\n",
       "      <th>pobl</th>\n",
       "      <th>dens</th>\n",
       "      <th>idh</th>\n",
       "      <th>computed_density</th>\n",
       "    </tr>\n",
       "  </thead>\n",
       "  <tbody>\n",
       "    <tr>\n",
       "      <th>cod</th>\n",
       "      <td>1.000000</td>\n",
       "      <td>0.050524</td>\n",
       "      <td>0.181746</td>\n",
       "      <td>0.385462</td>\n",
       "      <td>0.025923</td>\n",
       "      <td>0.387854</td>\n",
       "    </tr>\n",
       "    <tr>\n",
       "      <th>sup</th>\n",
       "      <td>0.050524</td>\n",
       "      <td>1.000000</td>\n",
       "      <td>-0.033911</td>\n",
       "      <td>-0.028369</td>\n",
       "      <td>-0.162453</td>\n",
       "      <td>-0.028657</td>\n",
       "    </tr>\n",
       "    <tr>\n",
       "      <th>pobl</th>\n",
       "      <td>0.181746</td>\n",
       "      <td>-0.033911</td>\n",
       "      <td>1.000000</td>\n",
       "      <td>0.406379</td>\n",
       "      <td>0.136197</td>\n",
       "      <td>0.440883</td>\n",
       "    </tr>\n",
       "    <tr>\n",
       "      <th>dens</th>\n",
       "      <td>0.385462</td>\n",
       "      <td>-0.028369</td>\n",
       "      <td>0.406379</td>\n",
       "      <td>1.000000</td>\n",
       "      <td>0.128826</td>\n",
       "      <td>0.971773</td>\n",
       "    </tr>\n",
       "    <tr>\n",
       "      <th>idh</th>\n",
       "      <td>0.025923</td>\n",
       "      <td>-0.162453</td>\n",
       "      <td>0.136197</td>\n",
       "      <td>0.128826</td>\n",
       "      <td>1.000000</td>\n",
       "      <td>0.120413</td>\n",
       "    </tr>\n",
       "    <tr>\n",
       "      <th>computed_density</th>\n",
       "      <td>0.387854</td>\n",
       "      <td>-0.028657</td>\n",
       "      <td>0.440883</td>\n",
       "      <td>0.971773</td>\n",
       "      <td>0.120413</td>\n",
       "      <td>1.000000</td>\n",
       "    </tr>\n",
       "  </tbody>\n",
       "</table>\n",
       "</div>"
      ],
      "text/plain": [
       "                       cod       sup      pobl      dens       idh  \\\n",
       "cod               1.000000  0.050524  0.181746  0.385462  0.025923   \n",
       "sup               0.050524  1.000000 -0.033911 -0.028369 -0.162453   \n",
       "pobl              0.181746 -0.033911  1.000000  0.406379  0.136197   \n",
       "dens              0.385462 -0.028369  0.406379  1.000000  0.128826   \n",
       "idh               0.025923 -0.162453  0.136197  0.128826  1.000000   \n",
       "computed_density  0.387854 -0.028657  0.440883  0.971773  0.120413   \n",
       "\n",
       "                  computed_density  \n",
       "cod                       0.387854  \n",
       "sup                      -0.028657  \n",
       "pobl                      0.440883  \n",
       "dens                      0.971773  \n",
       "idh                       0.120413  \n",
       "computed_density          1.000000  "
      ]
     },
     "execution_count": 68,
     "metadata": {},
     "output_type": "execute_result"
    }
   ],
   "source": [
    "com_frame.corr()"
   ]
  },
  {
   "cell_type": "code",
   "execution_count": 69,
   "metadata": {},
   "outputs": [
    {
     "data": {
      "text/html": [
       "<div>\n",
       "<style scoped>\n",
       "    .dataframe tbody tr th:only-of-type {\n",
       "        vertical-align: middle;\n",
       "    }\n",
       "\n",
       "    .dataframe tbody tr th {\n",
       "        vertical-align: top;\n",
       "    }\n",
       "\n",
       "    .dataframe thead th {\n",
       "        text-align: right;\n",
       "    }\n",
       "</style>\n",
       "<table border=\"1\" class=\"dataframe\">\n",
       "  <thead>\n",
       "    <tr style=\"text-align: right;\">\n",
       "      <th></th>\n",
       "      <th>sup</th>\n",
       "      <th>pobl</th>\n",
       "    </tr>\n",
       "  </thead>\n",
       "  <tbody>\n",
       "    <tr>\n",
       "      <th>0</th>\n",
       "      <td>4799.4</td>\n",
       "      <td>210936</td>\n",
       "    </tr>\n",
       "    <tr>\n",
       "      <th>1</th>\n",
       "      <td>3927.0</td>\n",
       "      <td>679</td>\n",
       "    </tr>\n",
       "    <tr>\n",
       "      <th>2</th>\n",
       "      <td>5902.5</td>\n",
       "      <td>1462</td>\n",
       "    </tr>\n",
       "    <tr>\n",
       "      <th>3</th>\n",
       "      <td>2244.4</td>\n",
       "      <td>739</td>\n",
       "    </tr>\n",
       "    <tr>\n",
       "      <th>4</th>\n",
       "      <td>2242.1</td>\n",
       "      <td>184953</td>\n",
       "    </tr>\n",
       "    <tr>\n",
       "      <th>...</th>\n",
       "      <td>...</td>\n",
       "      <td>...</td>\n",
       "    </tr>\n",
       "    <tr>\n",
       "      <th>341</th>\n",
       "      <td>126.0</td>\n",
       "      <td>78887</td>\n",
       "    </tr>\n",
       "    <tr>\n",
       "      <th>342</th>\n",
       "      <td>118.0</td>\n",
       "      <td>32468</td>\n",
       "    </tr>\n",
       "    <tr>\n",
       "      <th>343</th>\n",
       "      <td>189.0</td>\n",
       "      <td>33723</td>\n",
       "    </tr>\n",
       "    <tr>\n",
       "      <th>344</th>\n",
       "      <td>80.8</td>\n",
       "      <td>50696</td>\n",
       "    </tr>\n",
       "    <tr>\n",
       "      <th>345</th>\n",
       "      <td>69.0</td>\n",
       "      <td>87741</td>\n",
       "    </tr>\n",
       "  </tbody>\n",
       "</table>\n",
       "<p>346 rows × 2 columns</p>\n",
       "</div>"
      ],
      "text/plain": [
       "        sup    pobl\n",
       "0    4799.4  210936\n",
       "1    3927.0     679\n",
       "2    5902.5    1462\n",
       "3    2244.4     739\n",
       "4    2242.1  184953\n",
       "..      ...     ...\n",
       "341   126.0   78887\n",
       "342   118.0   32468\n",
       "343   189.0   33723\n",
       "344    80.8   50696\n",
       "345    69.0   87741\n",
       "\n",
       "[346 rows x 2 columns]"
      ]
     },
     "execution_count": 69,
     "metadata": {},
     "output_type": "execute_result"
    }
   ],
   "source": [
    "com = com_frame[['sup', 'pobl']]\n",
    "com"
   ]
  },
  {
   "cell_type": "code",
   "execution_count": 70,
   "metadata": {},
   "outputs": [
    {
     "data": {
      "text/html": [
       "<div>\n",
       "<style scoped>\n",
       "    .dataframe tbody tr th:only-of-type {\n",
       "        vertical-align: middle;\n",
       "    }\n",
       "\n",
       "    .dataframe tbody tr th {\n",
       "        vertical-align: top;\n",
       "    }\n",
       "\n",
       "    .dataframe thead th {\n",
       "        text-align: right;\n",
       "    }\n",
       "</style>\n",
       "<table border=\"1\" class=\"dataframe\">\n",
       "  <thead>\n",
       "    <tr style=\"text-align: right;\">\n",
       "      <th></th>\n",
       "      <th>sup</th>\n",
       "      <th>pobl</th>\n",
       "    </tr>\n",
       "  </thead>\n",
       "  <tbody>\n",
       "    <tr>\n",
       "      <th>sup</th>\n",
       "      <td>1.000000</td>\n",
       "      <td>-0.033911</td>\n",
       "    </tr>\n",
       "    <tr>\n",
       "      <th>pobl</th>\n",
       "      <td>-0.033911</td>\n",
       "      <td>1.000000</td>\n",
       "    </tr>\n",
       "  </tbody>\n",
       "</table>\n",
       "</div>"
      ],
      "text/plain": [
       "           sup      pobl\n",
       "sup   1.000000 -0.033911\n",
       "pobl -0.033911  1.000000"
      ]
     },
     "execution_count": 70,
     "metadata": {},
     "output_type": "execute_result"
    }
   ],
   "source": [
    "com.corr()"
   ]
  }
 ],
 "metadata": {
  "kernelspec": {
   "display_name": "Python 3",
   "language": "python",
   "name": "python3"
  },
  "language_info": {
   "codemirror_mode": {
    "name": "ipython",
    "version": 3
   },
   "file_extension": ".py",
   "mimetype": "text/x-python",
   "name": "python",
   "nbconvert_exporter": "python",
   "pygments_lexer": "ipython3",
   "version": "3.9.2"
  }
 },
 "nbformat": 4,
 "nbformat_minor": 4
}
