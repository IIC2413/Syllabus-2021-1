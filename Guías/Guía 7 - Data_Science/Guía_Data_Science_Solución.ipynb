{
  "nbformat": 4,
  "nbformat_minor": 0,
  "metadata": {
    "kernelspec": {
      "display_name": "Python 3",
      "language": "python",
      "name": "python3"
    },
    "language_info": {
      "codemirror_mode": {
        "name": "ipython",
        "version": 3
      },
      "file_extension": ".py",
      "mimetype": "text/x-python",
      "name": "python",
      "nbconvert_exporter": "python",
      "pygments_lexer": "ipython3",
      "version": "3.8.4"
    },
    "colab": {
      "name": "Guía_Data_Science_Solución.ipynb",
      "provenance": []
    }
  },
  "cells": [
    {
      "cell_type": "markdown",
      "metadata": {
        "id": "N9C5JriUnBOV"
      },
      "source": [
        "# Guía Data Science\n",
        "\n",
        "Durante esta actividad trabajaremos con los datos del sistema nacional de información municipal del gobierno de Chile y una planilla de datos preliminares del plebiscito 20201. Tienes acceso a dos fuentes de datos.\n",
        "\n",
        "- Una base de datos en SQLite llamada ``municipios.db``, la que tiene información sobre el presupuesto municipal y la cantidad de personas de cada una de las comunas de Chile. Esos datos se almacenan en un esquema con tres tablas:\n",
        "\n",
        "    - ``Comuna(id, nombre)``: que asigna a cada comuna en Chile un identificador.\n",
        "    - ``Poblacion(cod, habitantes)``: que asigna a cada comuna la cantidad de habitantes. \n",
        "    - ``Presupuesto(id_comuna, municipio, plata)``: que contiene el presupuesto de dicha comuna.\n",
        "\n",
        "\n",
        "- Una archivo csv llamado ``Resultados_Pleb.csv``, que contiene la votación agregada de cada comuna para el plebiscito de Octubre.\n",
        "\n",
        "La idea de esta actividad es hacer un análisis de datos en torno a la siguiente problemática: **¿Cómo se relaciona el presupuesto de las comunas con su votación en el plebiscito?**\n",
        "\n"
      ]
    },
    {
      "cell_type": "markdown",
      "metadata": {
        "id": "686LDESQnBOZ"
      },
      "source": [
        "## Manejo de datos\n",
        "\n",
        "Para esta actividad asumimos que ya sabes trabajar con SQLite y con la librería pandas de python. Para trabajar tus datos, necesitas tener todo en pandas (tanto la información de municipios.db como la de Resultados_Plev.csv).\n",
        "\n",
        "Aquí tienes algunas opciones para trabajar tus datos: \n",
        "\n",
        "1. Cargar el csv directamente con pandas a una data frame y luego hacer consultas a la base de datos para hacer los dataframes del resto de la información.\n",
        "2. Importar los datos del csv a la base de datos utilizando Python. Una forma de hacer esto es la propuesta en [el siguente link](https://stackoverflow.com/questions/2887878/importing-a-csv-file-into-a-sqlite3-database-table-using-python). Luego hacer los dataframes realizando consultas a la base de datos.\n",
        "3. Importar los datos del csv a municipios.db directamente con SQLite3 (esta opción requiere que instales SQLite3 en tu computador. Luego hacer los dataframes realizando consultas a la base de datos.\n",
        "\n",
        "\n",
        "**Importante:** Nunca grabes un .csv desde excel, porque excel puede cambiar la codificación de esos archivos. En caso de problemas, siempre puedes volver a bajar el .csv desde la página del curso."
      ]
    },
    {
      "cell_type": "code",
      "metadata": {
        "colab": {
          "base_uri": "https://localhost:8080/"
        },
        "id": "Hi_O4mis7gyU",
        "outputId": "85fd50c3-9fda-4fb1-bfab-765677b73602"
      },
      "source": [
        "!wget https://raw.githubusercontent.com/IIC2413/Syllabus-2021-1/main/Gu%C3%ADas/Gu%C3%ADa%207%20-%20Data_Science/Resultados_Pleb.csv\n",
        "!wget https://github.com/IIC2413/Syllabus-2021-1/raw/main/Gu%C3%ADas/Gu%C3%ADa%207%20-%20Data_Science/municipios.db"
      ],
      "execution_count": 4,
      "outputs": [
        {
          "output_type": "stream",
          "text": [
            "--2021-06-16 22:28:16--  https://raw.githubusercontent.com/IIC2413/Syllabus-2021-1/main/Gu%C3%ADas/Gu%C3%ADa%207%20-%20Data_Science/Resultados_Pleb.csv\n",
            "Resolving raw.githubusercontent.com (raw.githubusercontent.com)... 185.199.108.133, 185.199.109.133, 185.199.110.133, ...\n",
            "Connecting to raw.githubusercontent.com (raw.githubusercontent.com)|185.199.108.133|:443... connected.\n",
            "HTTP request sent, awaiting response... 200 OK\n",
            "Length: 7787 (7.6K) [text/plain]\n",
            "Saving to: ‘Resultados_Pleb.csv.1’\n",
            "\n",
            "\rResultados_Pleb.csv   0%[                    ]       0  --.-KB/s               \rResultados_Pleb.csv 100%[===================>]   7.60K  --.-KB/s    in 0s      \n",
            "\n",
            "2021-06-16 22:28:16 (73.6 MB/s) - ‘Resultados_Pleb.csv.1’ saved [7787/7787]\n",
            "\n",
            "--2021-06-16 22:28:17--  https://github.com/IIC2413/Syllabus-2021-1/raw/main/Gu%C3%ADas/Gu%C3%ADa%207%20-%20Data_Science/municipios.db\n",
            "Resolving github.com (github.com)... 140.82.113.4\n",
            "Connecting to github.com (github.com)|140.82.113.4|:443... connected.\n",
            "HTTP request sent, awaiting response... 302 Found\n",
            "Location: https://raw.githubusercontent.com/IIC2413/Syllabus-2021-1/main/Gu%C3%ADas/Gu%C3%ADa%207%20-%20Data_Science/municipios.db [following]\n",
            "--2021-06-16 22:28:17--  https://raw.githubusercontent.com/IIC2413/Syllabus-2021-1/main/Gu%C3%ADas/Gu%C3%ADa%207%20-%20Data_Science/municipios.db\n",
            "Resolving raw.githubusercontent.com (raw.githubusercontent.com)... 185.199.108.133, 185.199.109.133, 185.199.110.133, ...\n",
            "Connecting to raw.githubusercontent.com (raw.githubusercontent.com)|185.199.108.133|:443... connected.\n",
            "HTTP request sent, awaiting response... 200 OK\n",
            "Length: 53248 (52K) [application/octet-stream]\n",
            "Saving to: ‘municipios.db.1’\n",
            "\n",
            "municipios.db.1     100%[===================>]  52.00K  --.-KB/s    in 0.01s   \n",
            "\n",
            "2021-06-16 22:28:17 (4.83 MB/s) - ‘municipios.db.1’ saved [53248/53248]\n",
            "\n"
          ],
          "name": "stdout"
        }
      ]
    },
    {
      "cell_type": "code",
      "metadata": {
        "id": "y8rBcc_3nBOa"
      },
      "source": [
        "import pandas as pd\n",
        "import numpy as np\n",
        "import sqlite3\n",
        "import matplotlib.pyplot as plt\n",
        "\n",
        "conn = sqlite3.connect('municipios.db')\n",
        "conn.text_factory = lambda x: str(x, 'latin1')\n",
        "curr = conn.cursor()"
      ],
      "execution_count": 5,
      "outputs": []
    },
    {
      "cell_type": "code",
      "metadata": {
        "id": "2TOH_msKnBOa"
      },
      "source": [
        "# Utiliza estas celdas para crear los dataframes de pandas"
      ],
      "execution_count": 6,
      "outputs": []
    },
    {
      "cell_type": "code",
      "metadata": {
        "id": "I9qTa_wpnBOb",
        "colab": {
          "base_uri": "https://localhost:8080/",
          "height": 419
        },
        "outputId": "a1e62ee8-9312-4d21-ed40-5a916e5c6e40"
      },
      "source": [
        "# Comunas\n",
        "curr.execute('''SELECT * from comuna''')\n",
        "df_comuna = pd.DataFrame(curr.fetchall())\n",
        "df_comuna.rename(columns = { 0: 'id', 1: 'nombre' }, inplace=True)\n",
        "df_comuna"
      ],
      "execution_count": 7,
      "outputs": [
        {
          "output_type": "execute_result",
          "data": {
            "text/html": [
              "<div>\n",
              "<style scoped>\n",
              "    .dataframe tbody tr th:only-of-type {\n",
              "        vertical-align: middle;\n",
              "    }\n",
              "\n",
              "    .dataframe tbody tr th {\n",
              "        vertical-align: top;\n",
              "    }\n",
              "\n",
              "    .dataframe thead th {\n",
              "        text-align: right;\n",
              "    }\n",
              "</style>\n",
              "<table border=\"1\" class=\"dataframe\">\n",
              "  <thead>\n",
              "    <tr style=\"text-align: right;\">\n",
              "      <th></th>\n",
              "      <th>id</th>\n",
              "      <th>nombre</th>\n",
              "    </tr>\n",
              "  </thead>\n",
              "  <tbody>\n",
              "    <tr>\n",
              "      <th>0</th>\n",
              "      <td>1101</td>\n",
              "      <td>IQUIQUE</td>\n",
              "    </tr>\n",
              "    <tr>\n",
              "      <th>1</th>\n",
              "      <td>1107</td>\n",
              "      <td>ALTO HOSPICIO</td>\n",
              "    </tr>\n",
              "    <tr>\n",
              "      <th>2</th>\n",
              "      <td>1401</td>\n",
              "      <td>POZO ALMONTE</td>\n",
              "    </tr>\n",
              "    <tr>\n",
              "      <th>3</th>\n",
              "      <td>1402</td>\n",
              "      <td>CAMIÑA</td>\n",
              "    </tr>\n",
              "    <tr>\n",
              "      <th>4</th>\n",
              "      <td>1403</td>\n",
              "      <td>COLCHANE</td>\n",
              "    </tr>\n",
              "    <tr>\n",
              "      <th>...</th>\n",
              "      <td>...</td>\n",
              "      <td>...</td>\n",
              "    </tr>\n",
              "    <tr>\n",
              "      <th>340</th>\n",
              "      <td>16301</td>\n",
              "      <td>SAN CARLOS</td>\n",
              "    </tr>\n",
              "    <tr>\n",
              "      <th>341</th>\n",
              "      <td>16302</td>\n",
              "      <td>COIHUECO</td>\n",
              "    </tr>\n",
              "    <tr>\n",
              "      <th>342</th>\n",
              "      <td>16303</td>\n",
              "      <td>ÑIQUÉN</td>\n",
              "    </tr>\n",
              "    <tr>\n",
              "      <th>343</th>\n",
              "      <td>16304</td>\n",
              "      <td>SAN FABIÁN</td>\n",
              "    </tr>\n",
              "    <tr>\n",
              "      <th>344</th>\n",
              "      <td>16305</td>\n",
              "      <td>SAN NICOLÁS</td>\n",
              "    </tr>\n",
              "  </tbody>\n",
              "</table>\n",
              "<p>345 rows × 2 columns</p>\n",
              "</div>"
            ],
            "text/plain": [
              "        id         nombre\n",
              "0     1101        IQUIQUE\n",
              "1     1107  ALTO HOSPICIO\n",
              "2     1401   POZO ALMONTE\n",
              "3     1402         CAMIÑA\n",
              "4     1403       COLCHANE\n",
              "..     ...            ...\n",
              "340  16301     SAN CARLOS\n",
              "341  16302       COIHUECO\n",
              "342  16303         ÑIQUÉN\n",
              "343  16304     SAN FABIÁN\n",
              "344  16305    SAN NICOLÁS\n",
              "\n",
              "[345 rows x 2 columns]"
            ]
          },
          "metadata": {
            "tags": []
          },
          "execution_count": 7
        }
      ]
    },
    {
      "cell_type": "code",
      "metadata": {
        "id": "iTAN5hmbnBOc",
        "colab": {
          "base_uri": "https://localhost:8080/",
          "height": 419
        },
        "outputId": "2869162b-e88c-4b15-a725-f876ab11b411"
      },
      "source": [
        "# Población \n",
        "curr.execute('''SELECT * from poblacion''')\n",
        "df_poblacion = pd.DataFrame(curr.fetchall())\n",
        "df_poblacion.rename(columns = { 0: 'cod', 1: 'habitantes' }, inplace=True)\n",
        "df_poblacion"
      ],
      "execution_count": 8,
      "outputs": [
        {
          "output_type": "execute_result",
          "data": {
            "text/html": [
              "<div>\n",
              "<style scoped>\n",
              "    .dataframe tbody tr th:only-of-type {\n",
              "        vertical-align: middle;\n",
              "    }\n",
              "\n",
              "    .dataframe tbody tr th {\n",
              "        vertical-align: top;\n",
              "    }\n",
              "\n",
              "    .dataframe thead th {\n",
              "        text-align: right;\n",
              "    }\n",
              "</style>\n",
              "<table border=\"1\" class=\"dataframe\">\n",
              "  <thead>\n",
              "    <tr style=\"text-align: right;\">\n",
              "      <th></th>\n",
              "      <th>cod</th>\n",
              "      <th>habitantes</th>\n",
              "    </tr>\n",
              "  </thead>\n",
              "  <tbody>\n",
              "    <tr>\n",
              "      <th>0</th>\n",
              "      <td>codigo</td>\n",
              "      <td>habitantes</td>\n",
              "    </tr>\n",
              "    <tr>\n",
              "      <th>1</th>\n",
              "      <td>15101</td>\n",
              "      <td>221364</td>\n",
              "    </tr>\n",
              "    <tr>\n",
              "      <th>2</th>\n",
              "      <td>15102</td>\n",
              "      <td>1255</td>\n",
              "    </tr>\n",
              "    <tr>\n",
              "      <th>3</th>\n",
              "      <td>15201</td>\n",
              "      <td>2765</td>\n",
              "    </tr>\n",
              "    <tr>\n",
              "      <th>4</th>\n",
              "      <td>15202</td>\n",
              "      <td>684</td>\n",
              "    </tr>\n",
              "    <tr>\n",
              "      <th>...</th>\n",
              "      <td>...</td>\n",
              "      <td>...</td>\n",
              "    </tr>\n",
              "    <tr>\n",
              "      <th>342</th>\n",
              "      <td>12301</td>\n",
              "      <td>6801</td>\n",
              "    </tr>\n",
              "    <tr>\n",
              "      <th>343</th>\n",
              "      <td>12302</td>\n",
              "      <td>1158</td>\n",
              "    </tr>\n",
              "    <tr>\n",
              "      <th>344</th>\n",
              "      <td>12303</td>\n",
              "      <td>405</td>\n",
              "    </tr>\n",
              "    <tr>\n",
              "      <th>345</th>\n",
              "      <td>12401</td>\n",
              "      <td>21477</td>\n",
              "    </tr>\n",
              "    <tr>\n",
              "      <th>346</th>\n",
              "      <td>12402</td>\n",
              "      <td>1209</td>\n",
              "    </tr>\n",
              "  </tbody>\n",
              "</table>\n",
              "<p>347 rows × 2 columns</p>\n",
              "</div>"
            ],
            "text/plain": [
              "        cod  habitantes\n",
              "0    codigo  habitantes\n",
              "1     15101      221364\n",
              "2     15102        1255\n",
              "3     15201        2765\n",
              "4     15202         684\n",
              "..      ...         ...\n",
              "342   12301        6801\n",
              "343   12302        1158\n",
              "344   12303         405\n",
              "345   12401       21477\n",
              "346   12402        1209\n",
              "\n",
              "[347 rows x 2 columns]"
            ]
          },
          "metadata": {
            "tags": []
          },
          "execution_count": 8
        }
      ]
    },
    {
      "cell_type": "code",
      "metadata": {
        "id": "ZhfrV3R3nBOd",
        "colab": {
          "base_uri": "https://localhost:8080/"
        },
        "outputId": "53c538ef-c744-4520-e4a1-dfe69cd29578"
      },
      "source": [
        "df_poblacion.dtypes"
      ],
      "execution_count": 9,
      "outputs": [
        {
          "output_type": "execute_result",
          "data": {
            "text/plain": [
              "cod           object\n",
              "habitantes    object\n",
              "dtype: object"
            ]
          },
          "metadata": {
            "tags": []
          },
          "execution_count": 9
        }
      ]
    },
    {
      "cell_type": "code",
      "metadata": {
        "id": "vk1zXeClnBOd",
        "colab": {
          "base_uri": "https://localhost:8080/",
          "height": 419
        },
        "outputId": "b3f768cf-5b58-4837-be0f-80877570a3eb"
      },
      "source": [
        "# Necesitamos eliminar el primera fila que dice codigo y habitantes\n",
        "df_poblacion = df_poblacion.drop(labels=0, axis=0)\n",
        "# Necesitamos habitantes como número\n",
        "df_poblacion['habitantes'] = df_poblacion['habitantes'].astype(float)\n",
        "df_poblacion"
      ],
      "execution_count": 10,
      "outputs": [
        {
          "output_type": "execute_result",
          "data": {
            "text/html": [
              "<div>\n",
              "<style scoped>\n",
              "    .dataframe tbody tr th:only-of-type {\n",
              "        vertical-align: middle;\n",
              "    }\n",
              "\n",
              "    .dataframe tbody tr th {\n",
              "        vertical-align: top;\n",
              "    }\n",
              "\n",
              "    .dataframe thead th {\n",
              "        text-align: right;\n",
              "    }\n",
              "</style>\n",
              "<table border=\"1\" class=\"dataframe\">\n",
              "  <thead>\n",
              "    <tr style=\"text-align: right;\">\n",
              "      <th></th>\n",
              "      <th>cod</th>\n",
              "      <th>habitantes</th>\n",
              "    </tr>\n",
              "  </thead>\n",
              "  <tbody>\n",
              "    <tr>\n",
              "      <th>1</th>\n",
              "      <td>15101</td>\n",
              "      <td>221364.0</td>\n",
              "    </tr>\n",
              "    <tr>\n",
              "      <th>2</th>\n",
              "      <td>15102</td>\n",
              "      <td>1255.0</td>\n",
              "    </tr>\n",
              "    <tr>\n",
              "      <th>3</th>\n",
              "      <td>15201</td>\n",
              "      <td>2765.0</td>\n",
              "    </tr>\n",
              "    <tr>\n",
              "      <th>4</th>\n",
              "      <td>15202</td>\n",
              "      <td>684.0</td>\n",
              "    </tr>\n",
              "    <tr>\n",
              "      <th>5</th>\n",
              "      <td>1101</td>\n",
              "      <td>191468.0</td>\n",
              "    </tr>\n",
              "    <tr>\n",
              "      <th>...</th>\n",
              "      <td>...</td>\n",
              "      <td>...</td>\n",
              "    </tr>\n",
              "    <tr>\n",
              "      <th>342</th>\n",
              "      <td>12301</td>\n",
              "      <td>6801.0</td>\n",
              "    </tr>\n",
              "    <tr>\n",
              "      <th>343</th>\n",
              "      <td>12302</td>\n",
              "      <td>1158.0</td>\n",
              "    </tr>\n",
              "    <tr>\n",
              "      <th>344</th>\n",
              "      <td>12303</td>\n",
              "      <td>405.0</td>\n",
              "    </tr>\n",
              "    <tr>\n",
              "      <th>345</th>\n",
              "      <td>12401</td>\n",
              "      <td>21477.0</td>\n",
              "    </tr>\n",
              "    <tr>\n",
              "      <th>346</th>\n",
              "      <td>12402</td>\n",
              "      <td>1209.0</td>\n",
              "    </tr>\n",
              "  </tbody>\n",
              "</table>\n",
              "<p>346 rows × 2 columns</p>\n",
              "</div>"
            ],
            "text/plain": [
              "       cod  habitantes\n",
              "1    15101    221364.0\n",
              "2    15102      1255.0\n",
              "3    15201      2765.0\n",
              "4    15202       684.0\n",
              "5     1101    191468.0\n",
              "..     ...         ...\n",
              "342  12301      6801.0\n",
              "343  12302      1158.0\n",
              "344  12303       405.0\n",
              "345  12401     21477.0\n",
              "346  12402      1209.0\n",
              "\n",
              "[346 rows x 2 columns]"
            ]
          },
          "metadata": {
            "tags": []
          },
          "execution_count": 10
        }
      ]
    },
    {
      "cell_type": "code",
      "metadata": {
        "id": "wYvsWrBinBOd",
        "colab": {
          "base_uri": "https://localhost:8080/",
          "height": 419
        },
        "outputId": "584e242a-0895-4a5a-c637-5617d870cc97"
      },
      "source": [
        "# Presupuesto\n",
        "curr.execute('''SELECT * from presupuesto''')\n",
        "df_presupuesto = pd.DataFrame(curr.fetchall())\n",
        "df_presupuesto.rename(columns = { 0: 'id_comuna', 1: 'municipio', 2: 'plata' }, inplace=True)\n",
        "df_presupuesto"
      ],
      "execution_count": 11,
      "outputs": [
        {
          "output_type": "execute_result",
          "data": {
            "text/html": [
              "<div>\n",
              "<style scoped>\n",
              "    .dataframe tbody tr th:only-of-type {\n",
              "        vertical-align: middle;\n",
              "    }\n",
              "\n",
              "    .dataframe tbody tr th {\n",
              "        vertical-align: top;\n",
              "    }\n",
              "\n",
              "    .dataframe thead th {\n",
              "        text-align: right;\n",
              "    }\n",
              "</style>\n",
              "<table border=\"1\" class=\"dataframe\">\n",
              "  <thead>\n",
              "    <tr style=\"text-align: right;\">\n",
              "      <th></th>\n",
              "      <th>id_comuna</th>\n",
              "      <th>municipio</th>\n",
              "      <th>plata</th>\n",
              "    </tr>\n",
              "  </thead>\n",
              "  <tbody>\n",
              "    <tr>\n",
              "      <th>0</th>\n",
              "      <td>1101</td>\n",
              "      <td>IQUIQUE</td>\n",
              "      <td>59072234</td>\n",
              "    </tr>\n",
              "    <tr>\n",
              "      <th>1</th>\n",
              "      <td>1107</td>\n",
              "      <td>ALTO HOSPICIO</td>\n",
              "      <td>13984404</td>\n",
              "    </tr>\n",
              "    <tr>\n",
              "      <th>2</th>\n",
              "      <td>1401</td>\n",
              "      <td>POZO ALMONTE</td>\n",
              "      <td>7613962</td>\n",
              "    </tr>\n",
              "    <tr>\n",
              "      <th>3</th>\n",
              "      <td>1402</td>\n",
              "      <td>CAMIÑA</td>\n",
              "      <td>1584008</td>\n",
              "    </tr>\n",
              "    <tr>\n",
              "      <th>4</th>\n",
              "      <td>1403</td>\n",
              "      <td>COLCHANE</td>\n",
              "      <td>2500000</td>\n",
              "    </tr>\n",
              "    <tr>\n",
              "      <th>...</th>\n",
              "      <td>...</td>\n",
              "      <td>...</td>\n",
              "      <td>...</td>\n",
              "    </tr>\n",
              "    <tr>\n",
              "      <th>333</th>\n",
              "      <td>16301</td>\n",
              "      <td>SAN CARLOS</td>\n",
              "      <td>10459701</td>\n",
              "    </tr>\n",
              "    <tr>\n",
              "      <th>334</th>\n",
              "      <td>16302</td>\n",
              "      <td>COIHUECO</td>\n",
              "      <td>5001190</td>\n",
              "    </tr>\n",
              "    <tr>\n",
              "      <th>335</th>\n",
              "      <td>16303</td>\n",
              "      <td>ÑIQUÉN</td>\n",
              "      <td>3386698</td>\n",
              "    </tr>\n",
              "    <tr>\n",
              "      <th>336</th>\n",
              "      <td>16304</td>\n",
              "      <td>SAN FABIÁN</td>\n",
              "      <td>1798500</td>\n",
              "    </tr>\n",
              "    <tr>\n",
              "      <th>337</th>\n",
              "      <td>16305</td>\n",
              "      <td>SAN NICOLÁS</td>\n",
              "      <td>3979700</td>\n",
              "    </tr>\n",
              "  </tbody>\n",
              "</table>\n",
              "<p>338 rows × 3 columns</p>\n",
              "</div>"
            ],
            "text/plain": [
              "     id_comuna      municipio     plata\n",
              "0         1101        IQUIQUE  59072234\n",
              "1         1107  ALTO HOSPICIO  13984404\n",
              "2         1401   POZO ALMONTE   7613962\n",
              "3         1402         CAMIÑA   1584008\n",
              "4         1403       COLCHANE   2500000\n",
              "..         ...            ...       ...\n",
              "333      16301     SAN CARLOS  10459701\n",
              "334      16302       COIHUECO   5001190\n",
              "335      16303         ÑIQUÉN   3386698\n",
              "336      16304     SAN FABIÁN   1798500\n",
              "337      16305    SAN NICOLÁS   3979700\n",
              "\n",
              "[338 rows x 3 columns]"
            ]
          },
          "metadata": {
            "tags": []
          },
          "execution_count": 11
        }
      ]
    },
    {
      "cell_type": "code",
      "metadata": {
        "id": "zvLz4tYQnBOe",
        "colab": {
          "base_uri": "https://localhost:8080/",
          "height": 419
        },
        "outputId": "2ead2b37-d793-405e-9086-fd3036a512e3"
      },
      "source": [
        "#OPCIÓN 1 Plebiscito:\n",
        "df_pleb = pd.read_csv('Resultados_Pleb.csv') \n",
        "df_pleb"
      ],
      "execution_count": 12,
      "outputs": [
        {
          "output_type": "execute_result",
          "data": {
            "text/html": [
              "<div>\n",
              "<style scoped>\n",
              "    .dataframe tbody tr th:only-of-type {\n",
              "        vertical-align: middle;\n",
              "    }\n",
              "\n",
              "    .dataframe tbody tr th {\n",
              "        vertical-align: top;\n",
              "    }\n",
              "\n",
              "    .dataframe thead th {\n",
              "        text-align: right;\n",
              "    }\n",
              "</style>\n",
              "<table border=\"1\" class=\"dataframe\">\n",
              "  <thead>\n",
              "    <tr style=\"text-align: right;\">\n",
              "      <th></th>\n",
              "      <th>cod_com</th>\n",
              "      <th>Apruebo</th>\n",
              "      <th>Rechazo</th>\n",
              "      <th>Blancos</th>\n",
              "      <th>Nulos</th>\n",
              "    </tr>\n",
              "  </thead>\n",
              "  <tbody>\n",
              "    <tr>\n",
              "      <th>0</th>\n",
              "      <td>1101</td>\n",
              "      <td>60976</td>\n",
              "      <td>18855</td>\n",
              "      <td>114</td>\n",
              "      <td>275</td>\n",
              "    </tr>\n",
              "    <tr>\n",
              "      <th>1</th>\n",
              "      <td>1107</td>\n",
              "      <td>21373</td>\n",
              "      <td>4608</td>\n",
              "      <td>46</td>\n",
              "      <td>102</td>\n",
              "    </tr>\n",
              "    <tr>\n",
              "      <th>2</th>\n",
              "      <td>1401</td>\n",
              "      <td>3730</td>\n",
              "      <td>1076</td>\n",
              "      <td>8</td>\n",
              "      <td>29</td>\n",
              "    </tr>\n",
              "    <tr>\n",
              "      <th>3</th>\n",
              "      <td>1402</td>\n",
              "      <td>293</td>\n",
              "      <td>207</td>\n",
              "      <td>2</td>\n",
              "      <td>11</td>\n",
              "    </tr>\n",
              "    <tr>\n",
              "      <th>4</th>\n",
              "      <td>1403</td>\n",
              "      <td>131</td>\n",
              "      <td>374</td>\n",
              "      <td>3</td>\n",
              "      <td>16</td>\n",
              "    </tr>\n",
              "    <tr>\n",
              "      <th>...</th>\n",
              "      <td>...</td>\n",
              "      <td>...</td>\n",
              "      <td>...</td>\n",
              "      <td>...</td>\n",
              "      <td>...</td>\n",
              "    </tr>\n",
              "    <tr>\n",
              "      <th>341</th>\n",
              "      <td>16301</td>\n",
              "      <td>12268</td>\n",
              "      <td>5729</td>\n",
              "      <td>42</td>\n",
              "      <td>89</td>\n",
              "    </tr>\n",
              "    <tr>\n",
              "      <th>342</th>\n",
              "      <td>16302</td>\n",
              "      <td>4420</td>\n",
              "      <td>2737</td>\n",
              "      <td>25</td>\n",
              "      <td>47</td>\n",
              "    </tr>\n",
              "    <tr>\n",
              "      <th>343</th>\n",
              "      <td>16303</td>\n",
              "      <td>2003</td>\n",
              "      <td>1228</td>\n",
              "      <td>10</td>\n",
              "      <td>17</td>\n",
              "    </tr>\n",
              "    <tr>\n",
              "      <th>344</th>\n",
              "      <td>16304</td>\n",
              "      <td>1364</td>\n",
              "      <td>516</td>\n",
              "      <td>7</td>\n",
              "      <td>12</td>\n",
              "    </tr>\n",
              "    <tr>\n",
              "      <th>345</th>\n",
              "      <td>16305</td>\n",
              "      <td>3334</td>\n",
              "      <td>1352</td>\n",
              "      <td>21</td>\n",
              "      <td>34</td>\n",
              "    </tr>\n",
              "  </tbody>\n",
              "</table>\n",
              "<p>346 rows × 5 columns</p>\n",
              "</div>"
            ],
            "text/plain": [
              "     cod_com  Apruebo  Rechazo  Blancos  Nulos\n",
              "0       1101    60976    18855      114    275\n",
              "1       1107    21373     4608       46    102\n",
              "2       1401     3730     1076        8     29\n",
              "3       1402      293      207        2     11\n",
              "4       1403      131      374        3     16\n",
              "..       ...      ...      ...      ...    ...\n",
              "341    16301    12268     5729       42     89\n",
              "342    16302     4420     2737       25     47\n",
              "343    16303     2003     1228       10     17\n",
              "344    16304     1364      516        7     12\n",
              "345    16305     3334     1352       21     34\n",
              "\n",
              "[346 rows x 5 columns]"
            ]
          },
          "metadata": {
            "tags": []
          },
          "execution_count": 12
        }
      ]
    },
    {
      "cell_type": "code",
      "metadata": {
        "id": "GjdhL-punBOe"
      },
      "source": [
        "#OPCIÓN 2 Plebiscito:\n",
        "# curr.execute(\"CREATE TABLE pleb (cod_com int, Apruebo int, Rechazo int, Blancos int, Nulos int);\") \n",
        "# with open('Resultados_Pleb.csv','r') as pleb_file:\n",
        "#     dr = csv.DictReader(pleb_file) # comma is default delimiter\n",
        "#     to_db = [(i['cod_com'], i['Apruebo'], i['Rechazo'], i['Blancos'], i['Nulos']) for i in dr]\n",
        "\n",
        "# curr.executemany(\"INSERT INTO pleb (cod_com, Apruebo, Rechazo, Blancos, Nulos) VALUES (?, ?, ?, ?, ?);\", to_db)\n",
        "# conn.commit()"
      ],
      "execution_count": 13,
      "outputs": []
    },
    {
      "cell_type": "code",
      "metadata": {
        "id": "sutj_jNYnBOf",
        "colab": {
          "base_uri": "https://localhost:8080/"
        },
        "outputId": "5cddb559-62fc-4ead-87ed-f13c5250d1b9"
      },
      "source": [
        "df_comuna.dtypes"
      ],
      "execution_count": 14,
      "outputs": [
        {
          "output_type": "execute_result",
          "data": {
            "text/plain": [
              "id         int64\n",
              "nombre    object\n",
              "dtype: object"
            ]
          },
          "metadata": {
            "tags": []
          },
          "execution_count": 14
        }
      ]
    },
    {
      "cell_type": "code",
      "metadata": {
        "id": "6BC3KZCenBOf",
        "colab": {
          "base_uri": "https://localhost:8080/"
        },
        "outputId": "f502d65f-a79d-4296-edee-af9f6c265553"
      },
      "source": [
        "df_poblacion.dtypes"
      ],
      "execution_count": 15,
      "outputs": [
        {
          "output_type": "execute_result",
          "data": {
            "text/plain": [
              "cod            object\n",
              "habitantes    float64\n",
              "dtype: object"
            ]
          },
          "metadata": {
            "tags": []
          },
          "execution_count": 15
        }
      ]
    },
    {
      "cell_type": "code",
      "metadata": {
        "id": "OtBK0HeAnBOg",
        "colab": {
          "base_uri": "https://localhost:8080/"
        },
        "outputId": "060967d2-7198-455f-fb3d-025b03271358"
      },
      "source": [
        "df_presupuesto.dtypes"
      ],
      "execution_count": 16,
      "outputs": [
        {
          "output_type": "execute_result",
          "data": {
            "text/plain": [
              "id_comuna     int64\n",
              "municipio    object\n",
              "plata         int64\n",
              "dtype: object"
            ]
          },
          "metadata": {
            "tags": []
          },
          "execution_count": 16
        }
      ]
    },
    {
      "cell_type": "code",
      "metadata": {
        "id": "2NawrDgAnBOg",
        "colab": {
          "base_uri": "https://localhost:8080/"
        },
        "outputId": "34d69a52-e031-415e-ac99-f6c94052cbae"
      },
      "source": [
        "df_pleb.dtypes"
      ],
      "execution_count": 17,
      "outputs": [
        {
          "output_type": "execute_result",
          "data": {
            "text/plain": [
              "cod_com    int64\n",
              "Apruebo    int64\n",
              "Rechazo    int64\n",
              "Blancos    int64\n",
              "Nulos      int64\n",
              "dtype: object"
            ]
          },
          "metadata": {
            "tags": []
          },
          "execution_count": 17
        }
      ]
    },
    {
      "cell_type": "markdown",
      "metadata": {
        "id": "Abz-GqaJnBOg"
      },
      "source": [
        "## Tareas a realizar"
      ]
    },
    {
      "cell_type": "markdown",
      "metadata": {
        "id": "pHxRrzqlnBOh"
      },
      "source": [
        "1. Puede ser que los datos estén sucios, pues son llenados por humanos. Para las siguientes tareas no debes tomar en cuenta datos nulos o que no han sido reportados (aunque eso signifique dejar fuera algunas comunas), así que tu primera misión es verificar que no hayan nulos en los dataframe y limpiarlos en caso de que hayan."
      ]
    },
    {
      "cell_type": "code",
      "metadata": {
        "id": "bqrlzs_qnBOh",
        "colab": {
          "base_uri": "https://localhost:8080/",
          "height": 49
        },
        "outputId": "ea46569f-cfdc-40f7-c5b7-cf8fd23fb192"
      },
      "source": [
        "df_comuna[df_comuna.isnull().any(axis=1)]"
      ],
      "execution_count": 18,
      "outputs": [
        {
          "output_type": "execute_result",
          "data": {
            "text/html": [
              "<div>\n",
              "<style scoped>\n",
              "    .dataframe tbody tr th:only-of-type {\n",
              "        vertical-align: middle;\n",
              "    }\n",
              "\n",
              "    .dataframe tbody tr th {\n",
              "        vertical-align: top;\n",
              "    }\n",
              "\n",
              "    .dataframe thead th {\n",
              "        text-align: right;\n",
              "    }\n",
              "</style>\n",
              "<table border=\"1\" class=\"dataframe\">\n",
              "  <thead>\n",
              "    <tr style=\"text-align: right;\">\n",
              "      <th></th>\n",
              "      <th>id</th>\n",
              "      <th>nombre</th>\n",
              "    </tr>\n",
              "  </thead>\n",
              "  <tbody>\n",
              "  </tbody>\n",
              "</table>\n",
              "</div>"
            ],
            "text/plain": [
              "Empty DataFrame\n",
              "Columns: [id, nombre]\n",
              "Index: []"
            ]
          },
          "metadata": {
            "tags": []
          },
          "execution_count": 18
        }
      ]
    },
    {
      "cell_type": "code",
      "metadata": {
        "id": "PxT5eGWcnBOh",
        "colab": {
          "base_uri": "https://localhost:8080/",
          "height": 49
        },
        "outputId": "5a6c212d-98e5-448e-c124-a92884a6758e"
      },
      "source": [
        "df_poblacion[df_poblacion.isnull().any(axis=1)]"
      ],
      "execution_count": 19,
      "outputs": [
        {
          "output_type": "execute_result",
          "data": {
            "text/html": [
              "<div>\n",
              "<style scoped>\n",
              "    .dataframe tbody tr th:only-of-type {\n",
              "        vertical-align: middle;\n",
              "    }\n",
              "\n",
              "    .dataframe tbody tr th {\n",
              "        vertical-align: top;\n",
              "    }\n",
              "\n",
              "    .dataframe thead th {\n",
              "        text-align: right;\n",
              "    }\n",
              "</style>\n",
              "<table border=\"1\" class=\"dataframe\">\n",
              "  <thead>\n",
              "    <tr style=\"text-align: right;\">\n",
              "      <th></th>\n",
              "      <th>cod</th>\n",
              "      <th>habitantes</th>\n",
              "    </tr>\n",
              "  </thead>\n",
              "  <tbody>\n",
              "  </tbody>\n",
              "</table>\n",
              "</div>"
            ],
            "text/plain": [
              "Empty DataFrame\n",
              "Columns: [cod, habitantes]\n",
              "Index: []"
            ]
          },
          "metadata": {
            "tags": []
          },
          "execution_count": 19
        }
      ]
    },
    {
      "cell_type": "code",
      "metadata": {
        "id": "9zkZrYfynBOi",
        "colab": {
          "base_uri": "https://localhost:8080/",
          "height": 49
        },
        "outputId": "3c9cf65f-899c-4400-d815-c36b5492fd64"
      },
      "source": [
        "df_presupuesto[df_presupuesto.isnull().any(axis=1)]"
      ],
      "execution_count": 20,
      "outputs": [
        {
          "output_type": "execute_result",
          "data": {
            "text/html": [
              "<div>\n",
              "<style scoped>\n",
              "    .dataframe tbody tr th:only-of-type {\n",
              "        vertical-align: middle;\n",
              "    }\n",
              "\n",
              "    .dataframe tbody tr th {\n",
              "        vertical-align: top;\n",
              "    }\n",
              "\n",
              "    .dataframe thead th {\n",
              "        text-align: right;\n",
              "    }\n",
              "</style>\n",
              "<table border=\"1\" class=\"dataframe\">\n",
              "  <thead>\n",
              "    <tr style=\"text-align: right;\">\n",
              "      <th></th>\n",
              "      <th>id_comuna</th>\n",
              "      <th>municipio</th>\n",
              "      <th>plata</th>\n",
              "    </tr>\n",
              "  </thead>\n",
              "  <tbody>\n",
              "  </tbody>\n",
              "</table>\n",
              "</div>"
            ],
            "text/plain": [
              "Empty DataFrame\n",
              "Columns: [id_comuna, municipio, plata]\n",
              "Index: []"
            ]
          },
          "metadata": {
            "tags": []
          },
          "execution_count": 20
        }
      ]
    },
    {
      "cell_type": "code",
      "metadata": {
        "id": "3JllktuanBOi",
        "colab": {
          "base_uri": "https://localhost:8080/",
          "height": 49
        },
        "outputId": "8296043f-72da-4861-8e57-5df3881ba7d3"
      },
      "source": [
        "df_pleb[df_pleb.isnull().any(axis=1)]"
      ],
      "execution_count": 21,
      "outputs": [
        {
          "output_type": "execute_result",
          "data": {
            "text/html": [
              "<div>\n",
              "<style scoped>\n",
              "    .dataframe tbody tr th:only-of-type {\n",
              "        vertical-align: middle;\n",
              "    }\n",
              "\n",
              "    .dataframe tbody tr th {\n",
              "        vertical-align: top;\n",
              "    }\n",
              "\n",
              "    .dataframe thead th {\n",
              "        text-align: right;\n",
              "    }\n",
              "</style>\n",
              "<table border=\"1\" class=\"dataframe\">\n",
              "  <thead>\n",
              "    <tr style=\"text-align: right;\">\n",
              "      <th></th>\n",
              "      <th>cod_com</th>\n",
              "      <th>Apruebo</th>\n",
              "      <th>Rechazo</th>\n",
              "      <th>Blancos</th>\n",
              "      <th>Nulos</th>\n",
              "    </tr>\n",
              "  </thead>\n",
              "  <tbody>\n",
              "  </tbody>\n",
              "</table>\n",
              "</div>"
            ],
            "text/plain": [
              "Empty DataFrame\n",
              "Columns: [cod_com, Apruebo, Rechazo, Blancos, Nulos]\n",
              "Index: []"
            ]
          },
          "metadata": {
            "tags": []
          },
          "execution_count": 21
        }
      ]
    },
    {
      "cell_type": "markdown",
      "metadata": {
        "id": "QUZe1etSnBOj"
      },
      "source": [
        "2. Crea un gráfico de puntos para visualizar la correlación entre el presupuesto de las comunas y la cantidad de habitantes de esa comuna."
      ]
    },
    {
      "cell_type": "code",
      "metadata": {
        "id": "9ixoSdpanBOj",
        "colab": {
          "base_uri": "https://localhost:8080/",
          "height": 419
        },
        "outputId": "013da62b-3860-48a0-80f9-2fe6ddc2b1ef"
      },
      "source": [
        "# OPCIÓN 1 - Consulta JOIN\n",
        "curr.execute('''SELECT presupuesto.id_comuna, presupuesto.municipio, poblacion.habitantes, presupuesto.plata\n",
        "FROM presupuesto, poblacion WHERE presupuesto.id_comuna = poblacion.cod''')\n",
        "habitantes_presupuesto = pd.DataFrame(curr.fetchall())\n",
        "habitantes_presupuesto.rename(columns = { 0: 'id_comuna', 1: 'municipio', 2: 'habitantes', 3: 'presupuesto' }, inplace=True)\n",
        "habitantes_presupuesto"
      ],
      "execution_count": 22,
      "outputs": [
        {
          "output_type": "execute_result",
          "data": {
            "text/html": [
              "<div>\n",
              "<style scoped>\n",
              "    .dataframe tbody tr th:only-of-type {\n",
              "        vertical-align: middle;\n",
              "    }\n",
              "\n",
              "    .dataframe tbody tr th {\n",
              "        vertical-align: top;\n",
              "    }\n",
              "\n",
              "    .dataframe thead th {\n",
              "        text-align: right;\n",
              "    }\n",
              "</style>\n",
              "<table border=\"1\" class=\"dataframe\">\n",
              "  <thead>\n",
              "    <tr style=\"text-align: right;\">\n",
              "      <th></th>\n",
              "      <th>id_comuna</th>\n",
              "      <th>municipio</th>\n",
              "      <th>habitantes</th>\n",
              "      <th>presupuesto</th>\n",
              "    </tr>\n",
              "  </thead>\n",
              "  <tbody>\n",
              "    <tr>\n",
              "      <th>0</th>\n",
              "      <td>1101</td>\n",
              "      <td>IQUIQUE</td>\n",
              "      <td>191468</td>\n",
              "      <td>59072234</td>\n",
              "    </tr>\n",
              "    <tr>\n",
              "      <th>1</th>\n",
              "      <td>1107</td>\n",
              "      <td>ALTO HOSPICIO</td>\n",
              "      <td>108375</td>\n",
              "      <td>13984404</td>\n",
              "    </tr>\n",
              "    <tr>\n",
              "      <th>2</th>\n",
              "      <td>1401</td>\n",
              "      <td>POZO ALMONTE</td>\n",
              "      <td>15711</td>\n",
              "      <td>7613962</td>\n",
              "    </tr>\n",
              "    <tr>\n",
              "      <th>3</th>\n",
              "      <td>1402</td>\n",
              "      <td>CAMIÑA</td>\n",
              "      <td>1250</td>\n",
              "      <td>1584008</td>\n",
              "    </tr>\n",
              "    <tr>\n",
              "      <th>4</th>\n",
              "      <td>1403</td>\n",
              "      <td>COLCHANE</td>\n",
              "      <td>1728</td>\n",
              "      <td>2500000</td>\n",
              "    </tr>\n",
              "    <tr>\n",
              "      <th>...</th>\n",
              "      <td>...</td>\n",
              "      <td>...</td>\n",
              "      <td>...</td>\n",
              "      <td>...</td>\n",
              "    </tr>\n",
              "    <tr>\n",
              "      <th>312</th>\n",
              "      <td>14204</td>\n",
              "      <td>RÍO BUENO</td>\n",
              "      <td>31372</td>\n",
              "      <td>5771272</td>\n",
              "    </tr>\n",
              "    <tr>\n",
              "      <th>313</th>\n",
              "      <td>15101</td>\n",
              "      <td>ARICA</td>\n",
              "      <td>221364</td>\n",
              "      <td>37808221</td>\n",
              "    </tr>\n",
              "    <tr>\n",
              "      <th>314</th>\n",
              "      <td>15102</td>\n",
              "      <td>CAMARONES</td>\n",
              "      <td>1255</td>\n",
              "      <td>2478356</td>\n",
              "    </tr>\n",
              "    <tr>\n",
              "      <th>315</th>\n",
              "      <td>15201</td>\n",
              "      <td>PUTRE</td>\n",
              "      <td>2765</td>\n",
              "      <td>2664568</td>\n",
              "    </tr>\n",
              "    <tr>\n",
              "      <th>316</th>\n",
              "      <td>15202</td>\n",
              "      <td>GENERAL LAGOS</td>\n",
              "      <td>684</td>\n",
              "      <td>1438262</td>\n",
              "    </tr>\n",
              "  </tbody>\n",
              "</table>\n",
              "<p>317 rows × 4 columns</p>\n",
              "</div>"
            ],
            "text/plain": [
              "     id_comuna      municipio  habitantes  presupuesto\n",
              "0         1101        IQUIQUE      191468     59072234\n",
              "1         1107  ALTO HOSPICIO      108375     13984404\n",
              "2         1401   POZO ALMONTE       15711      7613962\n",
              "3         1402         CAMIÑA        1250      1584008\n",
              "4         1403       COLCHANE        1728      2500000\n",
              "..         ...            ...         ...          ...\n",
              "312      14204      RÍO BUENO       31372      5771272\n",
              "313      15101          ARICA      221364     37808221\n",
              "314      15102      CAMARONES        1255      2478356\n",
              "315      15201          PUTRE        2765      2664568\n",
              "316      15202  GENERAL LAGOS         684      1438262\n",
              "\n",
              "[317 rows x 4 columns]"
            ]
          },
          "metadata": {
            "tags": []
          },
          "execution_count": 22
        }
      ]
    },
    {
      "cell_type": "code",
      "metadata": {
        "id": "Hp0dyn-1nBOj",
        "colab": {
          "base_uri": "https://localhost:8080/",
          "height": 419
        },
        "outputId": "205b9347-012f-44c5-df5c-d4da99370634"
      },
      "source": [
        "# OPCIÓN 2 - MERGE de Pandas\n",
        "habitantes_presupuesto = df_presupuesto.merge(df_poblacion, left_on='id_comuna', right_on='cod')\n",
        "habitantes_presupuesto"
      ],
      "execution_count": 23,
      "outputs": [
        {
          "output_type": "execute_result",
          "data": {
            "text/html": [
              "<div>\n",
              "<style scoped>\n",
              "    .dataframe tbody tr th:only-of-type {\n",
              "        vertical-align: middle;\n",
              "    }\n",
              "\n",
              "    .dataframe tbody tr th {\n",
              "        vertical-align: top;\n",
              "    }\n",
              "\n",
              "    .dataframe thead th {\n",
              "        text-align: right;\n",
              "    }\n",
              "</style>\n",
              "<table border=\"1\" class=\"dataframe\">\n",
              "  <thead>\n",
              "    <tr style=\"text-align: right;\">\n",
              "      <th></th>\n",
              "      <th>id_comuna</th>\n",
              "      <th>municipio</th>\n",
              "      <th>plata</th>\n",
              "      <th>cod</th>\n",
              "      <th>habitantes</th>\n",
              "    </tr>\n",
              "  </thead>\n",
              "  <tbody>\n",
              "    <tr>\n",
              "      <th>0</th>\n",
              "      <td>1101</td>\n",
              "      <td>IQUIQUE</td>\n",
              "      <td>59072234</td>\n",
              "      <td>1101</td>\n",
              "      <td>191468.0</td>\n",
              "    </tr>\n",
              "    <tr>\n",
              "      <th>1</th>\n",
              "      <td>1107</td>\n",
              "      <td>ALTO HOSPICIO</td>\n",
              "      <td>13984404</td>\n",
              "      <td>1107</td>\n",
              "      <td>108375.0</td>\n",
              "    </tr>\n",
              "    <tr>\n",
              "      <th>2</th>\n",
              "      <td>1401</td>\n",
              "      <td>POZO ALMONTE</td>\n",
              "      <td>7613962</td>\n",
              "      <td>1401</td>\n",
              "      <td>15711.0</td>\n",
              "    </tr>\n",
              "    <tr>\n",
              "      <th>3</th>\n",
              "      <td>1402</td>\n",
              "      <td>CAMIÑA</td>\n",
              "      <td>1584008</td>\n",
              "      <td>1402</td>\n",
              "      <td>1250.0</td>\n",
              "    </tr>\n",
              "    <tr>\n",
              "      <th>4</th>\n",
              "      <td>1403</td>\n",
              "      <td>COLCHANE</td>\n",
              "      <td>2500000</td>\n",
              "      <td>1403</td>\n",
              "      <td>1728.0</td>\n",
              "    </tr>\n",
              "    <tr>\n",
              "      <th>...</th>\n",
              "      <td>...</td>\n",
              "      <td>...</td>\n",
              "      <td>...</td>\n",
              "      <td>...</td>\n",
              "      <td>...</td>\n",
              "    </tr>\n",
              "    <tr>\n",
              "      <th>312</th>\n",
              "      <td>14204</td>\n",
              "      <td>RÍO BUENO</td>\n",
              "      <td>5771272</td>\n",
              "      <td>14204</td>\n",
              "      <td>31372.0</td>\n",
              "    </tr>\n",
              "    <tr>\n",
              "      <th>313</th>\n",
              "      <td>15101</td>\n",
              "      <td>ARICA</td>\n",
              "      <td>37808221</td>\n",
              "      <td>15101</td>\n",
              "      <td>221364.0</td>\n",
              "    </tr>\n",
              "    <tr>\n",
              "      <th>314</th>\n",
              "      <td>15102</td>\n",
              "      <td>CAMARONES</td>\n",
              "      <td>2478356</td>\n",
              "      <td>15102</td>\n",
              "      <td>1255.0</td>\n",
              "    </tr>\n",
              "    <tr>\n",
              "      <th>315</th>\n",
              "      <td>15201</td>\n",
              "      <td>PUTRE</td>\n",
              "      <td>2664568</td>\n",
              "      <td>15201</td>\n",
              "      <td>2765.0</td>\n",
              "    </tr>\n",
              "    <tr>\n",
              "      <th>316</th>\n",
              "      <td>15202</td>\n",
              "      <td>GENERAL LAGOS</td>\n",
              "      <td>1438262</td>\n",
              "      <td>15202</td>\n",
              "      <td>684.0</td>\n",
              "    </tr>\n",
              "  </tbody>\n",
              "</table>\n",
              "<p>317 rows × 5 columns</p>\n",
              "</div>"
            ],
            "text/plain": [
              "    id_comuna      municipio     plata    cod  habitantes\n",
              "0        1101        IQUIQUE  59072234   1101    191468.0\n",
              "1        1107  ALTO HOSPICIO  13984404   1107    108375.0\n",
              "2        1401   POZO ALMONTE   7613962   1401     15711.0\n",
              "3        1402         CAMIÑA   1584008   1402      1250.0\n",
              "4        1403       COLCHANE   2500000   1403      1728.0\n",
              "..        ...            ...       ...    ...         ...\n",
              "312     14204      RÍO BUENO   5771272  14204     31372.0\n",
              "313     15101          ARICA  37808221  15101    221364.0\n",
              "314     15102      CAMARONES   2478356  15102      1255.0\n",
              "315     15201          PUTRE   2664568  15201      2765.0\n",
              "316     15202  GENERAL LAGOS   1438262  15202       684.0\n",
              "\n",
              "[317 rows x 5 columns]"
            ]
          },
          "metadata": {
            "tags": []
          },
          "execution_count": 23
        }
      ]
    },
    {
      "cell_type": "code",
      "metadata": {
        "id": "X6UP5ksjnBOk",
        "colab": {
          "base_uri": "https://localhost:8080/",
          "height": 111
        },
        "outputId": "d95e88c7-e0de-49c4-aa98-02e4a00a218e"
      },
      "source": [
        "#Correlation\n",
        "habitantes_presupuesto.corr()"
      ],
      "execution_count": 24,
      "outputs": [
        {
          "output_type": "execute_result",
          "data": {
            "text/html": [
              "<div>\n",
              "<style scoped>\n",
              "    .dataframe tbody tr th:only-of-type {\n",
              "        vertical-align: middle;\n",
              "    }\n",
              "\n",
              "    .dataframe tbody tr th {\n",
              "        vertical-align: top;\n",
              "    }\n",
              "\n",
              "    .dataframe thead th {\n",
              "        text-align: right;\n",
              "    }\n",
              "</style>\n",
              "<table border=\"1\" class=\"dataframe\">\n",
              "  <thead>\n",
              "    <tr style=\"text-align: right;\">\n",
              "      <th></th>\n",
              "      <th>plata</th>\n",
              "      <th>habitantes</th>\n",
              "    </tr>\n",
              "  </thead>\n",
              "  <tbody>\n",
              "    <tr>\n",
              "      <th>plata</th>\n",
              "      <td>1.000000</td>\n",
              "      <td>0.772068</td>\n",
              "    </tr>\n",
              "    <tr>\n",
              "      <th>habitantes</th>\n",
              "      <td>0.772068</td>\n",
              "      <td>1.000000</td>\n",
              "    </tr>\n",
              "  </tbody>\n",
              "</table>\n",
              "</div>"
            ],
            "text/plain": [
              "               plata  habitantes\n",
              "plata       1.000000    0.772068\n",
              "habitantes  0.772068    1.000000"
            ]
          },
          "metadata": {
            "tags": []
          },
          "execution_count": 24
        }
      ]
    },
    {
      "cell_type": "code",
      "metadata": {
        "id": "bzg_yY_WnBOk",
        "colab": {
          "base_uri": "https://localhost:8080/",
          "height": 307
        },
        "outputId": "bd171f47-8186-4dd9-a4aa-e2a1fb225443"
      },
      "source": [
        "#Plot\n",
        "habitantes_presupuesto.plot.scatter(x='habitantes', y='plata')"
      ],
      "execution_count": 25,
      "outputs": [
        {
          "output_type": "execute_result",
          "data": {
            "text/plain": [
              "<matplotlib.axes._subplots.AxesSubplot at 0x7f7f13315ed0>"
            ]
          },
          "metadata": {
            "tags": []
          },
          "execution_count": 25
        },
        {
          "output_type": "display_data",
          "data": {
            "image/png": "[encoded data removed]",
            "text/plain": [
              "<Figure size 432x288 with 1 Axes>"
            ]
          },
          "metadata": {
            "tags": [],
            "needs_background": "light"
          }
        }
      ]
    },
    {
      "cell_type": "markdown",
      "metadata": {
        "id": "fMRfip2GnBOk"
      },
      "source": [
        "3. Observa que la correlación es ligeramente positiva (como es de esperar). Sin embargo, hay un outlier cuyo presupuesto se escapa. ¿Puedes ver qué comuna es?"
      ]
    },
    {
      "cell_type": "code",
      "metadata": {
        "id": "2XNO3FvXnBOk",
        "colab": {
          "base_uri": "https://localhost:8080/"
        },
        "outputId": "fb7578c4-8a2b-4524-9b1c-58065d9194ce"
      },
      "source": [
        "#A partir del gráfico se obtiene que el outlier es el que tiene el máximo presupuesto, por lo que se busca:\n",
        "habitantes_presupuesto[\"plata\"].idxmax()"
      ],
      "execution_count": 26,
      "outputs": [
        {
          "output_type": "execute_result",
          "data": {
            "text/plain": [
              "263"
            ]
          },
          "metadata": {
            "tags": []
          },
          "execution_count": 26
        }
      ]
    },
    {
      "cell_type": "code",
      "metadata": {
        "id": "7NnyDqGLnBOl",
        "colab": {
          "base_uri": "https://localhost:8080/"
        },
        "outputId": "d405c458-5c86-4aaf-f1a5-0d570928b353"
      },
      "source": [
        "habitantes_presupuesto.iloc[263]"
      ],
      "execution_count": 27,
      "outputs": [
        {
          "output_type": "execute_result",
          "data": {
            "text/plain": [
              "id_comuna          13114\n",
              "municipio     LAS CONDES\n",
              "plata          339980450\n",
              "cod                13114\n",
              "habitantes        294838\n",
              "Name: 263, dtype: object"
            ]
          },
          "metadata": {
            "tags": []
          },
          "execution_count": 27
        }
      ]
    },
    {
      "cell_type": "code",
      "metadata": {
        "id": "fzUAlwRznBOl",
        "colab": {
          "base_uri": "https://localhost:8080/",
          "height": 80
        },
        "outputId": "c208ef6f-f4a8-445c-e19c-d778778b0121"
      },
      "source": [
        "# Otra opción para encontrar la comuna:\n",
        "habitantes_presupuesto[habitantes_presupuesto['plata'] > 300000000]"
      ],
      "execution_count": 28,
      "outputs": [
        {
          "output_type": "execute_result",
          "data": {
            "text/html": [
              "<div>\n",
              "<style scoped>\n",
              "    .dataframe tbody tr th:only-of-type {\n",
              "        vertical-align: middle;\n",
              "    }\n",
              "\n",
              "    .dataframe tbody tr th {\n",
              "        vertical-align: top;\n",
              "    }\n",
              "\n",
              "    .dataframe thead th {\n",
              "        text-align: right;\n",
              "    }\n",
              "</style>\n",
              "<table border=\"1\" class=\"dataframe\">\n",
              "  <thead>\n",
              "    <tr style=\"text-align: right;\">\n",
              "      <th></th>\n",
              "      <th>id_comuna</th>\n",
              "      <th>municipio</th>\n",
              "      <th>plata</th>\n",
              "      <th>cod</th>\n",
              "      <th>habitantes</th>\n",
              "    </tr>\n",
              "  </thead>\n",
              "  <tbody>\n",
              "    <tr>\n",
              "      <th>263</th>\n",
              "      <td>13114</td>\n",
              "      <td>LAS CONDES</td>\n",
              "      <td>339980450</td>\n",
              "      <td>13114</td>\n",
              "      <td>294838.0</td>\n",
              "    </tr>\n",
              "  </tbody>\n",
              "</table>\n",
              "</div>"
            ],
            "text/plain": [
              "    id_comuna   municipio      plata    cod  habitantes\n",
              "263     13114  LAS CONDES  339980450  13114    294838.0"
            ]
          },
          "metadata": {
            "tags": []
          },
          "execution_count": 28
        }
      ]
    },
    {
      "cell_type": "markdown",
      "metadata": {
        "id": "bY-rNZWrnBOl"
      },
      "source": [
        "4. Ahora vamos a refinar un poco la tabla comunas que vamos a utilizar, descartando ciertos outliers. Crea un dataframe llamado  ``comuna_limpia`` que contenga todas las comunas, excepto (i) el outlier que identificaste en el apartado anterior y (ii) todas las comunas que tengan 5000 habitantes o menos. Esta vista debería tener 286 comunas."
      ]
    },
    {
      "cell_type": "code",
      "metadata": {
        "id": "SyS5sw01nBOm",
        "colab": {
          "base_uri": "https://localhost:8080/",
          "height": 419
        },
        "outputId": "1a1feeee-10bf-403a-fe81-ba8f59ec343d"
      },
      "source": [
        "#Opción con pandas\n",
        "comuna_limpia = df_comuna[df_comuna['nombre'] != 'LAS CONDES'].merge(df_poblacion[df_poblacion['habitantes'] > 5000], left_on='id', right_on='cod')\n",
        "comuna_limpia"
      ],
      "execution_count": 29,
      "outputs": [
        {
          "output_type": "execute_result",
          "data": {
            "text/html": [
              "<div>\n",
              "<style scoped>\n",
              "    .dataframe tbody tr th:only-of-type {\n",
              "        vertical-align: middle;\n",
              "    }\n",
              "\n",
              "    .dataframe tbody tr th {\n",
              "        vertical-align: top;\n",
              "    }\n",
              "\n",
              "    .dataframe thead th {\n",
              "        text-align: right;\n",
              "    }\n",
              "</style>\n",
              "<table border=\"1\" class=\"dataframe\">\n",
              "  <thead>\n",
              "    <tr style=\"text-align: right;\">\n",
              "      <th></th>\n",
              "      <th>id</th>\n",
              "      <th>nombre</th>\n",
              "      <th>cod</th>\n",
              "      <th>habitantes</th>\n",
              "    </tr>\n",
              "  </thead>\n",
              "  <tbody>\n",
              "    <tr>\n",
              "      <th>0</th>\n",
              "      <td>1101</td>\n",
              "      <td>IQUIQUE</td>\n",
              "      <td>1101</td>\n",
              "      <td>191468.0</td>\n",
              "    </tr>\n",
              "    <tr>\n",
              "      <th>1</th>\n",
              "      <td>1107</td>\n",
              "      <td>ALTO HOSPICIO</td>\n",
              "      <td>1107</td>\n",
              "      <td>108375.0</td>\n",
              "    </tr>\n",
              "    <tr>\n",
              "      <th>2</th>\n",
              "      <td>1401</td>\n",
              "      <td>POZO ALMONTE</td>\n",
              "      <td>1401</td>\n",
              "      <td>15711.0</td>\n",
              "    </tr>\n",
              "    <tr>\n",
              "      <th>3</th>\n",
              "      <td>1405</td>\n",
              "      <td>PICA</td>\n",
              "      <td>1405</td>\n",
              "      <td>9296.0</td>\n",
              "    </tr>\n",
              "    <tr>\n",
              "      <th>4</th>\n",
              "      <td>2101</td>\n",
              "      <td>ANTOFAGASTA</td>\n",
              "      <td>2101</td>\n",
              "      <td>361873.0</td>\n",
              "    </tr>\n",
              "    <tr>\n",
              "      <th>...</th>\n",
              "      <td>...</td>\n",
              "      <td>...</td>\n",
              "      <td>...</td>\n",
              "      <td>...</td>\n",
              "    </tr>\n",
              "    <tr>\n",
              "      <th>281</th>\n",
              "      <td>14201</td>\n",
              "      <td>LA UNIÓN</td>\n",
              "      <td>14201</td>\n",
              "      <td>38036.0</td>\n",
              "    </tr>\n",
              "    <tr>\n",
              "      <th>282</th>\n",
              "      <td>14202</td>\n",
              "      <td>FUTRONO</td>\n",
              "      <td>14202</td>\n",
              "      <td>14665.0</td>\n",
              "    </tr>\n",
              "    <tr>\n",
              "      <th>283</th>\n",
              "      <td>14203</td>\n",
              "      <td>LAGO RANCO</td>\n",
              "      <td>14203</td>\n",
              "      <td>9896.0</td>\n",
              "    </tr>\n",
              "    <tr>\n",
              "      <th>284</th>\n",
              "      <td>14204</td>\n",
              "      <td>RÍO BUENO</td>\n",
              "      <td>14204</td>\n",
              "      <td>31372.0</td>\n",
              "    </tr>\n",
              "    <tr>\n",
              "      <th>285</th>\n",
              "      <td>15101</td>\n",
              "      <td>ARICA</td>\n",
              "      <td>15101</td>\n",
              "      <td>221364.0</td>\n",
              "    </tr>\n",
              "  </tbody>\n",
              "</table>\n",
              "<p>286 rows × 4 columns</p>\n",
              "</div>"
            ],
            "text/plain": [
              "        id         nombre    cod  habitantes\n",
              "0     1101        IQUIQUE   1101    191468.0\n",
              "1     1107  ALTO HOSPICIO   1107    108375.0\n",
              "2     1401   POZO ALMONTE   1401     15711.0\n",
              "3     1405           PICA   1405      9296.0\n",
              "4     2101    ANTOFAGASTA   2101    361873.0\n",
              "..     ...            ...    ...         ...\n",
              "281  14201       LA UNIÓN  14201     38036.0\n",
              "282  14202        FUTRONO  14202     14665.0\n",
              "283  14203     LAGO RANCO  14203      9896.0\n",
              "284  14204      RÍO BUENO  14204     31372.0\n",
              "285  15101          ARICA  15101    221364.0\n",
              "\n",
              "[286 rows x 4 columns]"
            ]
          },
          "metadata": {
            "tags": []
          },
          "execution_count": 29
        }
      ]
    },
    {
      "cell_type": "code",
      "metadata": {
        "id": "VhHHcwCxnBOm"
      },
      "source": [
        "#Opción en sql\n",
        "# curr.execute('''CREATE TABLE ComunaLimpia AS\n",
        "# SELECT COMUNA.id AS id, COMUNA.nombre as nombre\n",
        "# FROM COMUNA JOIN poblacion ON COMUNA.id = poblacion.cod\n",
        "# WHERE COMUNA.id != 13114\n",
        "# AND poblacion.habitantes > 5000''')\n",
        "\n",
        "#Pasarlo a dataframe con pandas read_sql_query\n",
        "#comuna_limpia = pd.read_sql_query(\"SELECT * FROM ComunaLimpia\", conn)\n",
        "\n",
        "#Pasarlo a dataframe haciendo fetch\n",
        "# curr.execute('''SELECT * FROM ComunaLimpia''')\n",
        "# df_comuna = pd.DataFrame(curr.fetchall())"
      ],
      "execution_count": 30,
      "outputs": []
    },
    {
      "cell_type": "markdown",
      "metadata": {
        "id": "rYxrFb7knBOm"
      },
      "source": [
        "5. Crea un gráfico de puntos para visualizar la correlación entre el presupuesto de las comunas y el porcentaje de votos apruebo (sobre el total de votos) en esas comunas. Anota el coeficiente de correlación. ¿Puedes inferir algo?"
      ]
    },
    {
      "cell_type": "code",
      "metadata": {
        "id": "fFZUuSlhnBOm",
        "colab": {
          "base_uri": "https://localhost:8080/",
          "height": 419
        },
        "outputId": "b1ec182f-be86-42a6-c9c8-57f4a667205b"
      },
      "source": [
        "pres_pleb = df_presupuesto.merge(df_pleb, left_on='id_comuna', right_on='cod_com')\n",
        "pres_pleb"
      ],
      "execution_count": 31,
      "outputs": [
        {
          "output_type": "execute_result",
          "data": {
            "text/html": [
              "<div>\n",
              "<style scoped>\n",
              "    .dataframe tbody tr th:only-of-type {\n",
              "        vertical-align: middle;\n",
              "    }\n",
              "\n",
              "    .dataframe tbody tr th {\n",
              "        vertical-align: top;\n",
              "    }\n",
              "\n",
              "    .dataframe thead th {\n",
              "        text-align: right;\n",
              "    }\n",
              "</style>\n",
              "<table border=\"1\" class=\"dataframe\">\n",
              "  <thead>\n",
              "    <tr style=\"text-align: right;\">\n",
              "      <th></th>\n",
              "      <th>id_comuna</th>\n",
              "      <th>municipio</th>\n",
              "      <th>plata</th>\n",
              "      <th>cod_com</th>\n",
              "      <th>Apruebo</th>\n",
              "      <th>Rechazo</th>\n",
              "      <th>Blancos</th>\n",
              "      <th>Nulos</th>\n",
              "    </tr>\n",
              "  </thead>\n",
              "  <tbody>\n",
              "    <tr>\n",
              "      <th>0</th>\n",
              "      <td>1101</td>\n",
              "      <td>IQUIQUE</td>\n",
              "      <td>59072234</td>\n",
              "      <td>1101</td>\n",
              "      <td>60976</td>\n",
              "      <td>18855</td>\n",
              "      <td>114</td>\n",
              "      <td>275</td>\n",
              "    </tr>\n",
              "    <tr>\n",
              "      <th>1</th>\n",
              "      <td>1107</td>\n",
              "      <td>ALTO HOSPICIO</td>\n",
              "      <td>13984404</td>\n",
              "      <td>1107</td>\n",
              "      <td>21373</td>\n",
              "      <td>4608</td>\n",
              "      <td>46</td>\n",
              "      <td>102</td>\n",
              "    </tr>\n",
              "    <tr>\n",
              "      <th>2</th>\n",
              "      <td>1401</td>\n",
              "      <td>POZO ALMONTE</td>\n",
              "      <td>7613962</td>\n",
              "      <td>1401</td>\n",
              "      <td>3730</td>\n",
              "      <td>1076</td>\n",
              "      <td>8</td>\n",
              "      <td>29</td>\n",
              "    </tr>\n",
              "    <tr>\n",
              "      <th>3</th>\n",
              "      <td>1402</td>\n",
              "      <td>CAMIÑA</td>\n",
              "      <td>1584008</td>\n",
              "      <td>1402</td>\n",
              "      <td>293</td>\n",
              "      <td>207</td>\n",
              "      <td>2</td>\n",
              "      <td>11</td>\n",
              "    </tr>\n",
              "    <tr>\n",
              "      <th>4</th>\n",
              "      <td>1403</td>\n",
              "      <td>COLCHANE</td>\n",
              "      <td>2500000</td>\n",
              "      <td>1403</td>\n",
              "      <td>131</td>\n",
              "      <td>374</td>\n",
              "      <td>3</td>\n",
              "      <td>16</td>\n",
              "    </tr>\n",
              "    <tr>\n",
              "      <th>...</th>\n",
              "      <td>...</td>\n",
              "      <td>...</td>\n",
              "      <td>...</td>\n",
              "      <td>...</td>\n",
              "      <td>...</td>\n",
              "      <td>...</td>\n",
              "      <td>...</td>\n",
              "      <td>...</td>\n",
              "    </tr>\n",
              "    <tr>\n",
              "      <th>333</th>\n",
              "      <td>16301</td>\n",
              "      <td>SAN CARLOS</td>\n",
              "      <td>10459701</td>\n",
              "      <td>16301</td>\n",
              "      <td>12268</td>\n",
              "      <td>5729</td>\n",
              "      <td>42</td>\n",
              "      <td>89</td>\n",
              "    </tr>\n",
              "    <tr>\n",
              "      <th>334</th>\n",
              "      <td>16302</td>\n",
              "      <td>COIHUECO</td>\n",
              "      <td>5001190</td>\n",
              "      <td>16302</td>\n",
              "      <td>4420</td>\n",
              "      <td>2737</td>\n",
              "      <td>25</td>\n",
              "      <td>47</td>\n",
              "    </tr>\n",
              "    <tr>\n",
              "      <th>335</th>\n",
              "      <td>16303</td>\n",
              "      <td>ÑIQUÉN</td>\n",
              "      <td>3386698</td>\n",
              "      <td>16303</td>\n",
              "      <td>2003</td>\n",
              "      <td>1228</td>\n",
              "      <td>10</td>\n",
              "      <td>17</td>\n",
              "    </tr>\n",
              "    <tr>\n",
              "      <th>336</th>\n",
              "      <td>16304</td>\n",
              "      <td>SAN FABIÁN</td>\n",
              "      <td>1798500</td>\n",
              "      <td>16304</td>\n",
              "      <td>1364</td>\n",
              "      <td>516</td>\n",
              "      <td>7</td>\n",
              "      <td>12</td>\n",
              "    </tr>\n",
              "    <tr>\n",
              "      <th>337</th>\n",
              "      <td>16305</td>\n",
              "      <td>SAN NICOLÁS</td>\n",
              "      <td>3979700</td>\n",
              "      <td>16305</td>\n",
              "      <td>3334</td>\n",
              "      <td>1352</td>\n",
              "      <td>21</td>\n",
              "      <td>34</td>\n",
              "    </tr>\n",
              "  </tbody>\n",
              "</table>\n",
              "<p>338 rows × 8 columns</p>\n",
              "</div>"
            ],
            "text/plain": [
              "     id_comuna      municipio     plata  ...  Rechazo  Blancos  Nulos\n",
              "0         1101        IQUIQUE  59072234  ...    18855      114    275\n",
              "1         1107  ALTO HOSPICIO  13984404  ...     4608       46    102\n",
              "2         1401   POZO ALMONTE   7613962  ...     1076        8     29\n",
              "3         1402         CAMIÑA   1584008  ...      207        2     11\n",
              "4         1403       COLCHANE   2500000  ...      374        3     16\n",
              "..         ...            ...       ...  ...      ...      ...    ...\n",
              "333      16301     SAN CARLOS  10459701  ...     5729       42     89\n",
              "334      16302       COIHUECO   5001190  ...     2737       25     47\n",
              "335      16303         ÑIQUÉN   3386698  ...     1228       10     17\n",
              "336      16304     SAN FABIÁN   1798500  ...      516        7     12\n",
              "337      16305    SAN NICOLÁS   3979700  ...     1352       21     34\n",
              "\n",
              "[338 rows x 8 columns]"
            ]
          },
          "metadata": {
            "tags": []
          },
          "execution_count": 31
        }
      ]
    },
    {
      "cell_type": "code",
      "metadata": {
        "id": "4t-0_gJ-nBOn",
        "colab": {
          "base_uri": "https://localhost:8080/",
          "height": 419
        },
        "outputId": "e3daecc4-2f3f-4b50-c5a4-aecf076f345c"
      },
      "source": [
        "#Calculamos el porcentaje de aprobación\n",
        "# total_votos = pres_pleb['Apruebo'] + pres_pleb['Rechazo'] + pres_pleb['Nulos'] + pres_pleb['Blancos']\n",
        "# porcentaje = pres_pleb['Apruebo']/total_votos\n",
        "\n",
        "# presupuesto_aprobacion = pres_pleb[['plata']]\n",
        "# presupuesto_aprobacion['aprobacion'] = porcentaje\n",
        "\n",
        "#Solución más elegante\n",
        "#https://stackoverflow.com/questions/26886653/pandas-create-new-column-based-on-values-from-other-columns-apply-a-function-o\n",
        "pres_pleb[\"porcentaje_aprob\"] = pres_pleb.apply(lambda row: (row.Apruebo)/(row.Apruebo + row.Rechazo + row.Blancos + row.Nulos), axis=1)\n",
        "pres_pleb = pres_pleb[['id_comuna', 'plata', 'porcentaje_aprob']]\n",
        "pres_pleb"
      ],
      "execution_count": 32,
      "outputs": [
        {
          "output_type": "execute_result",
          "data": {
            "text/html": [
              "<div>\n",
              "<style scoped>\n",
              "    .dataframe tbody tr th:only-of-type {\n",
              "        vertical-align: middle;\n",
              "    }\n",
              "\n",
              "    .dataframe tbody tr th {\n",
              "        vertical-align: top;\n",
              "    }\n",
              "\n",
              "    .dataframe thead th {\n",
              "        text-align: right;\n",
              "    }\n",
              "</style>\n",
              "<table border=\"1\" class=\"dataframe\">\n",
              "  <thead>\n",
              "    <tr style=\"text-align: right;\">\n",
              "      <th></th>\n",
              "      <th>id_comuna</th>\n",
              "      <th>plata</th>\n",
              "      <th>porcentaje_aprob</th>\n",
              "    </tr>\n",
              "  </thead>\n",
              "  <tbody>\n",
              "    <tr>\n",
              "      <th>0</th>\n",
              "      <td>1101</td>\n",
              "      <td>59072234</td>\n",
              "      <td>0.760110</td>\n",
              "    </tr>\n",
              "    <tr>\n",
              "      <th>1</th>\n",
              "      <td>1107</td>\n",
              "      <td>13984404</td>\n",
              "      <td>0.817980</td>\n",
              "    </tr>\n",
              "    <tr>\n",
              "      <th>2</th>\n",
              "      <td>1401</td>\n",
              "      <td>7613962</td>\n",
              "      <td>0.770184</td>\n",
              "    </tr>\n",
              "    <tr>\n",
              "      <th>3</th>\n",
              "      <td>1402</td>\n",
              "      <td>1584008</td>\n",
              "      <td>0.571150</td>\n",
              "    </tr>\n",
              "    <tr>\n",
              "      <th>4</th>\n",
              "      <td>1403</td>\n",
              "      <td>2500000</td>\n",
              "      <td>0.250000</td>\n",
              "    </tr>\n",
              "    <tr>\n",
              "      <th>...</th>\n",
              "      <td>...</td>\n",
              "      <td>...</td>\n",
              "      <td>...</td>\n",
              "    </tr>\n",
              "    <tr>\n",
              "      <th>333</th>\n",
              "      <td>16301</td>\n",
              "      <td>10459701</td>\n",
              "      <td>0.676743</td>\n",
              "    </tr>\n",
              "    <tr>\n",
              "      <th>334</th>\n",
              "      <td>16302</td>\n",
              "      <td>5001190</td>\n",
              "      <td>0.611426</td>\n",
              "    </tr>\n",
              "    <tr>\n",
              "      <th>335</th>\n",
              "      <td>16303</td>\n",
              "      <td>3386698</td>\n",
              "      <td>0.614794</td>\n",
              "    </tr>\n",
              "    <tr>\n",
              "      <th>336</th>\n",
              "      <td>16304</td>\n",
              "      <td>1798500</td>\n",
              "      <td>0.718273</td>\n",
              "    </tr>\n",
              "    <tr>\n",
              "      <th>337</th>\n",
              "      <td>16305</td>\n",
              "      <td>3979700</td>\n",
              "      <td>0.703227</td>\n",
              "    </tr>\n",
              "  </tbody>\n",
              "</table>\n",
              "<p>338 rows × 3 columns</p>\n",
              "</div>"
            ],
            "text/plain": [
              "     id_comuna     plata  porcentaje_aprob\n",
              "0         1101  59072234          0.760110\n",
              "1         1107  13984404          0.817980\n",
              "2         1401   7613962          0.770184\n",
              "3         1402   1584008          0.571150\n",
              "4         1403   2500000          0.250000\n",
              "..         ...       ...               ...\n",
              "333      16301  10459701          0.676743\n",
              "334      16302   5001190          0.611426\n",
              "335      16303   3386698          0.614794\n",
              "336      16304   1798500          0.718273\n",
              "337      16305   3979700          0.703227\n",
              "\n",
              "[338 rows x 3 columns]"
            ]
          },
          "metadata": {
            "tags": []
          },
          "execution_count": 32
        }
      ]
    },
    {
      "cell_type": "code",
      "metadata": {
        "id": "ncc53IB1nBOn",
        "colab": {
          "base_uri": "https://localhost:8080/",
          "height": 142
        },
        "outputId": "8992d0e0-cc4d-4ba5-c14b-09d00b04aaed"
      },
      "source": [
        "pres_pleb.corr()"
      ],
      "execution_count": 33,
      "outputs": [
        {
          "output_type": "execute_result",
          "data": {
            "text/html": [
              "<div>\n",
              "<style scoped>\n",
              "    .dataframe tbody tr th:only-of-type {\n",
              "        vertical-align: middle;\n",
              "    }\n",
              "\n",
              "    .dataframe tbody tr th {\n",
              "        vertical-align: top;\n",
              "    }\n",
              "\n",
              "    .dataframe thead th {\n",
              "        text-align: right;\n",
              "    }\n",
              "</style>\n",
              "<table border=\"1\" class=\"dataframe\">\n",
              "  <thead>\n",
              "    <tr style=\"text-align: right;\">\n",
              "      <th></th>\n",
              "      <th>id_comuna</th>\n",
              "      <th>plata</th>\n",
              "      <th>porcentaje_aprob</th>\n",
              "    </tr>\n",
              "  </thead>\n",
              "  <tbody>\n",
              "    <tr>\n",
              "      <th>id_comuna</th>\n",
              "      <td>1.000000</td>\n",
              "      <td>0.129685</td>\n",
              "      <td>-0.229909</td>\n",
              "    </tr>\n",
              "    <tr>\n",
              "      <th>plata</th>\n",
              "      <td>0.129685</td>\n",
              "      <td>1.000000</td>\n",
              "      <td>-0.070008</td>\n",
              "    </tr>\n",
              "    <tr>\n",
              "      <th>porcentaje_aprob</th>\n",
              "      <td>-0.229909</td>\n",
              "      <td>-0.070008</td>\n",
              "      <td>1.000000</td>\n",
              "    </tr>\n",
              "  </tbody>\n",
              "</table>\n",
              "</div>"
            ],
            "text/plain": [
              "                  id_comuna     plata  porcentaje_aprob\n",
              "id_comuna          1.000000  0.129685         -0.229909\n",
              "plata              0.129685  1.000000         -0.070008\n",
              "porcentaje_aprob  -0.229909 -0.070008          1.000000"
            ]
          },
          "metadata": {
            "tags": []
          },
          "execution_count": 33
        }
      ]
    },
    {
      "cell_type": "code",
      "metadata": {
        "id": "eRw2SLEbnBOn",
        "colab": {
          "base_uri": "https://localhost:8080/",
          "height": 296
        },
        "outputId": "d27ca987-a1f9-4d41-b7b1-eef03fa2ed6d"
      },
      "source": [
        "#Plot\n",
        "pres_pleb.plot.scatter(x='plata', y='porcentaje_aprob')"
      ],
      "execution_count": 34,
      "outputs": [
        {
          "output_type": "execute_result",
          "data": {
            "text/plain": [
              "<matplotlib.axes._subplots.AxesSubplot at 0x7f7f12b49790>"
            ]
          },
          "metadata": {
            "tags": []
          },
          "execution_count": 34
        },
        {
          "output_type": "display_data",
          "data": {
            "image/png": "[encoded data removed]",
            "text/plain": [
              "<Figure size 432x288 with 1 Axes>"
            ]
          },
          "metadata": {
            "tags": [],
            "needs_background": "light"
          }
        }
      ]
    },
    {
      "cell_type": "markdown",
      "metadata": {
        "id": "dzJ1uo5DnBOo"
      },
      "source": [
        "6. Ahora visualiza el mismo gráfico, pero utilizando solo aquellas comunas que estén en la vista ``ComunaLimpia``. Vuelve a anotar el coeficiente de correlación."
      ]
    },
    {
      "cell_type": "code",
      "metadata": {
        "id": "uM7h5q1CnBOo",
        "colab": {
          "base_uri": "https://localhost:8080/",
          "height": 419
        },
        "outputId": "252dc856-1f68-4229-b8db-4bd21fc6bc6f"
      },
      "source": [
        "pres_pleb_limpias = pres_pleb.merge(comuna_limpia, left_on='id_comuna', right_on='cod')[['plata', 'porcentaje_aprob']]\n",
        "pres_pleb_limpias"
      ],
      "execution_count": 35,
      "outputs": [
        {
          "output_type": "execute_result",
          "data": {
            "text/html": [
              "<div>\n",
              "<style scoped>\n",
              "    .dataframe tbody tr th:only-of-type {\n",
              "        vertical-align: middle;\n",
              "    }\n",
              "\n",
              "    .dataframe tbody tr th {\n",
              "        vertical-align: top;\n",
              "    }\n",
              "\n",
              "    .dataframe thead th {\n",
              "        text-align: right;\n",
              "    }\n",
              "</style>\n",
              "<table border=\"1\" class=\"dataframe\">\n",
              "  <thead>\n",
              "    <tr style=\"text-align: right;\">\n",
              "      <th></th>\n",
              "      <th>plata</th>\n",
              "      <th>porcentaje_aprob</th>\n",
              "    </tr>\n",
              "  </thead>\n",
              "  <tbody>\n",
              "    <tr>\n",
              "      <th>0</th>\n",
              "      <td>59072234</td>\n",
              "      <td>0.760110</td>\n",
              "    </tr>\n",
              "    <tr>\n",
              "      <th>1</th>\n",
              "      <td>13984404</td>\n",
              "      <td>0.817980</td>\n",
              "    </tr>\n",
              "    <tr>\n",
              "      <th>2</th>\n",
              "      <td>7613962</td>\n",
              "      <td>0.770184</td>\n",
              "    </tr>\n",
              "    <tr>\n",
              "      <th>3</th>\n",
              "      <td>5887820</td>\n",
              "      <td>0.726489</td>\n",
              "    </tr>\n",
              "    <tr>\n",
              "      <th>4</th>\n",
              "      <td>100635302</td>\n",
              "      <td>0.832786</td>\n",
              "    </tr>\n",
              "    <tr>\n",
              "      <th>...</th>\n",
              "      <td>...</td>\n",
              "      <td>...</td>\n",
              "    </tr>\n",
              "    <tr>\n",
              "      <th>276</th>\n",
              "      <td>6839300</td>\n",
              "      <td>0.721004</td>\n",
              "    </tr>\n",
              "    <tr>\n",
              "      <th>277</th>\n",
              "      <td>3486415</td>\n",
              "      <td>0.606443</td>\n",
              "    </tr>\n",
              "    <tr>\n",
              "      <th>278</th>\n",
              "      <td>3135370</td>\n",
              "      <td>0.625149</td>\n",
              "    </tr>\n",
              "    <tr>\n",
              "      <th>279</th>\n",
              "      <td>5771272</td>\n",
              "      <td>0.681408</td>\n",
              "    </tr>\n",
              "    <tr>\n",
              "      <th>280</th>\n",
              "      <td>37808221</td>\n",
              "      <td>0.758970</td>\n",
              "    </tr>\n",
              "  </tbody>\n",
              "</table>\n",
              "<p>281 rows × 2 columns</p>\n",
              "</div>"
            ],
            "text/plain": [
              "         plata  porcentaje_aprob\n",
              "0     59072234          0.760110\n",
              "1     13984404          0.817980\n",
              "2      7613962          0.770184\n",
              "3      5887820          0.726489\n",
              "4    100635302          0.832786\n",
              "..         ...               ...\n",
              "276    6839300          0.721004\n",
              "277    3486415          0.606443\n",
              "278    3135370          0.625149\n",
              "279    5771272          0.681408\n",
              "280   37808221          0.758970\n",
              "\n",
              "[281 rows x 2 columns]"
            ]
          },
          "metadata": {
            "tags": []
          },
          "execution_count": 35
        }
      ]
    },
    {
      "cell_type": "code",
      "metadata": {
        "id": "rxdXrT2FnBOo",
        "colab": {
          "base_uri": "https://localhost:8080/",
          "height": 111
        },
        "outputId": "95160810-d389-40a2-dae0-61f4a002cb70"
      },
      "source": [
        "pres_pleb_limpias.corr()"
      ],
      "execution_count": 36,
      "outputs": [
        {
          "output_type": "execute_result",
          "data": {
            "text/html": [
              "<div>\n",
              "<style scoped>\n",
              "    .dataframe tbody tr th:only-of-type {\n",
              "        vertical-align: middle;\n",
              "    }\n",
              "\n",
              "    .dataframe tbody tr th {\n",
              "        vertical-align: top;\n",
              "    }\n",
              "\n",
              "    .dataframe thead th {\n",
              "        text-align: right;\n",
              "    }\n",
              "</style>\n",
              "<table border=\"1\" class=\"dataframe\">\n",
              "  <thead>\n",
              "    <tr style=\"text-align: right;\">\n",
              "      <th></th>\n",
              "      <th>plata</th>\n",
              "      <th>porcentaje_aprob</th>\n",
              "    </tr>\n",
              "  </thead>\n",
              "  <tbody>\n",
              "    <tr>\n",
              "      <th>plata</th>\n",
              "      <td>1.000000</td>\n",
              "      <td>0.013928</td>\n",
              "    </tr>\n",
              "    <tr>\n",
              "      <th>porcentaje_aprob</th>\n",
              "      <td>0.013928</td>\n",
              "      <td>1.000000</td>\n",
              "    </tr>\n",
              "  </tbody>\n",
              "</table>\n",
              "</div>"
            ],
            "text/plain": [
              "                     plata  porcentaje_aprob\n",
              "plata             1.000000          0.013928\n",
              "porcentaje_aprob  0.013928          1.000000"
            ]
          },
          "metadata": {
            "tags": []
          },
          "execution_count": 36
        }
      ]
    },
    {
      "cell_type": "code",
      "metadata": {
        "id": "ogj-wxaOnBOo",
        "colab": {
          "base_uri": "https://localhost:8080/",
          "height": 296
        },
        "outputId": "30a55937-48b6-4da5-aa46-c0a2cc4d5f57"
      },
      "source": [
        "#Plot\n",
        "pres_pleb_limpias.plot.scatter(x='plata', y='porcentaje_aprob')"
      ],
      "execution_count": 37,
      "outputs": [
        {
          "output_type": "execute_result",
          "data": {
            "text/plain": [
              "<matplotlib.axes._subplots.AxesSubplot at 0x7f7f12abedd0>"
            ]
          },
          "metadata": {
            "tags": []
          },
          "execution_count": 37
        },
        {
          "output_type": "display_data",
          "data": {
            "image/png": "[encoded data removed]",
            "text/plain": [
              "<Figure size 432x288 with 1 Axes>"
            ]
          },
          "metadata": {
            "tags": [],
            "needs_background": "light"
          }
        }
      ]
    },
    {
      "cell_type": "markdown",
      "metadata": {
        "id": "lwunToo0nBOp"
      },
      "source": [
        "7. ¿Cómo cambia la correlación? ¿Por qué crees que pasó eso?"
      ]
    },
    {
      "cell_type": "markdown",
      "metadata": {
        "id": "5lhJKjRV-oB2"
      },
      "source": [
        "Hay un ligero aumento de la correlación que se debe a la eliminación de las comunas outliers."
      ]
    },
    {
      "cell_type": "code",
      "metadata": {
        "id": "tJrWv0dc-qR6"
      },
      "source": [
        ""
      ],
      "execution_count": null,
      "outputs": []
    }
  ]
}