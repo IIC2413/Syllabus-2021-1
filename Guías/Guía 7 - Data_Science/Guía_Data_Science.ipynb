{
 "cells": [
  {
   "cell_type": "markdown",
   "metadata": {},
   "source": [
    "# Guía Data Science\n",
    "\n",
    "Durante esta actividad trabajaremos con los datos del sistema nacional de información municipal del gobierno de Chile y una planilla de datos preliminares del plebiscito 2021. Tienes acceso a dos fuentes de datos.\n",
    "\n",
    "- Una base de datos en SQLite llamada ``municipios.db``, la que tiene información sobre el presupuesto municipal y la cantidad de personas de cada una de las comunas de Chile. Esos datos se almacenan en un esquema con tres tablas:\n",
    "\n",
    "    - ``Comuna(id, nombre)``: que asigna a cada comuna en Chile un identificador.\n",
    "    - ``Poblacion(cod, habitantes)``: que asigna a cada comuna la cantidad de habitantes. \n",
    "    - ``Presupuesto(id_comuna, municipio, plata)``: que contiene el presupuesto de dicha comuna.\n",
    "\n",
    "\n",
    "- Una archivo csv llamado ``Resultados_Pleb.csv``, que contiene la votación agregada de cada comuna para el plebiscito de Octubre.\n",
    "\n",
    "La idea de esta actividad es hacer un análisis de datos en torno a la siguiente problemática: **¿Cómo se relaciona el presupuesto de las comunas con su votación en el plebiscito?**\n",
    "\n"
   ]
  },
  {
   "cell_type": "markdown",
   "metadata": {},
   "source": [
    "Te recomendamos correr este notebook en google colab para que no tengas que instalar nada en tu computador. Para subir los archivos .db y .csv que utilizaremos más adelante de la siguiente forma: \n",
    "\n",
    "- Si los tienes descargados, puedes subirlos en la sección de Archivos (hay un ícono de carpeta en el menú del lado izquierdo).\n",
    "- Si no los tienes descargados, puedes acceder a los archivos en github utilizando siguiente comando en una celda del notebook:\n",
    "```\n",
    "!wget  [link a github donde se encuentra el archivo]\n",
    "```\n",
    "Por ejemplo\n",
    "```\n",
    "!wget  https://github.com/IIC2413/Syllabus-2021-1/raw/main/Controles/Control%202/tu_shop_mini.db\n",
    "```"
   ]
  },
  {
   "cell_type": "markdown",
   "metadata": {},
   "source": [
    "## Manejo de datos\n",
    "\n",
    "Para esta actividad asumimos que ya sabes trabajar con SQLite y con la librería pandas de python. Para trabajar tus datos, necesitas tener todo en pandas (tanto la información de municipios.db como la de Resultados_Plev.csv).\n",
    "\n",
    "Aquí tienes algunas opciones para trabajar tus datos: \n",
    "\n",
    "1. Cargar el csv directamente con pandas a una data frame y luego hacer consultas a la base de datos para hacer los dataframes del resto de la información.\n",
    "2. Importar los datos del csv a la base de datos utilizando Python. Una forma de hacer esto es la propuesta en [el siguente link](https://stackoverflow.com/questions/2887878/importing-a-csv-file-into-a-sqlite3-database-table-using-python). Luego hacer los dataframes realizando consultas a la base de datos.\n",
    "2. Importar los datos del csv a municipios.db directamente con SQLite3 (esta opción requiere que instales SQLite3 en tu computador. Luego hacer los dataframes realizando consultas a la base de datos.\n",
    "\n",
    "\n",
    "**Importante:** Nunca grabes un .csv desde excel, porque excel puede cambiar la codificación de esos archivos. En caso de problemas, siempre puedes volver a bajar el .csv desde la página del curso."
   ]
  },
  {
   "cell_type": "code",
   "execution_count": 140,
   "metadata": {},
   "outputs": [],
   "source": [
    "import pandas as pd\n",
    "import numpy as np\n",
    "import sqlite3\n",
    "import matplotlib.pyplot as plt\n",
    "\n",
    "conn = sqlite3.connect('municipios.db')\n",
    "conn.text_factory = lambda x: str(x, 'latin1')\n",
    "curr = conn.cursor()"
   ]
  },
  {
   "cell_type": "code",
   "execution_count": 141,
   "metadata": {},
   "outputs": [],
   "source": [
    "# Utiliza estas celdas para crear los dataframes de pandas"
   ]
  },
  {
   "cell_type": "code",
   "execution_count": null,
   "metadata": {},
   "outputs": [],
   "source": []
  },
  {
   "cell_type": "code",
   "execution_count": null,
   "metadata": {},
   "outputs": [],
   "source": []
  },
  {
   "cell_type": "code",
   "execution_count": null,
   "metadata": {},
   "outputs": [],
   "source": []
  },
  {
   "cell_type": "markdown",
   "metadata": {},
   "source": [
    "## Tareas a realizar"
   ]
  },
  {
   "cell_type": "markdown",
   "metadata": {},
   "source": [
    "1. Puede ser que los datos estén sucios, pues son llenados por humanos. Para las siguientes tareas no debes tomar en cuenta datos nulos o que no han sido reportados (aunque eso signifique dejar fuera algunas comunas), así que tu primera misión es verificar que no hayan nulos en los dataframe y limpiarlos en caso de que hayan."
   ]
  },
  {
   "cell_type": "code",
   "execution_count": null,
   "metadata": {},
   "outputs": [],
   "source": []
  },
  {
   "cell_type": "markdown",
   "metadata": {},
   "source": [
    "2. Crea un gráfico de puntos para visualizar la correlación entre el presupuesto de las comunas y la cantidad de habitantes de esa comuna."
   ]
  },
  {
   "cell_type": "code",
   "execution_count": null,
   "metadata": {},
   "outputs": [],
   "source": []
  },
  {
   "cell_type": "markdown",
   "metadata": {},
   "source": [
    "3. Observa que la correlación es ligeramente positiva (como es de esperar). Sin embargo, hay un outlier cuyo presupuesto se escapa. ¿Puedes ver qué comuna es?"
   ]
  },
  {
   "cell_type": "code",
   "execution_count": null,
   "metadata": {},
   "outputs": [],
   "source": []
  },
  {
   "cell_type": "markdown",
   "metadata": {},
   "source": [
    "4. Ahora vamos a refinar un poco la tabla comunas que vamos a utilizar, descartando ciertos outliers. Crea un dataframe llamado  ``comuna_limpia`` que contenga todas las comunas, excepto (i) el outlier que identificaste en el apartado anterior y (ii) todas las comunas que tengan 5000 habitantes o menos. Esta vista debería tener 286 comunas."
   ]
  },
  {
   "cell_type": "code",
   "execution_count": null,
   "metadata": {},
   "outputs": [],
   "source": []
  },
  {
   "cell_type": "markdown",
   "metadata": {},
   "source": [
    "5. Crea un gráfico de puntos para visualizar la correlación entre el presupuesto de las comunas y el porcentaje de votos apruebo (sobre el total de votos) en esas comunas. Anota el coeficiente de correlación. ¿Puedes inferir algo?"
   ]
  },
  {
   "cell_type": "code",
   "execution_count": null,
   "metadata": {},
   "outputs": [],
   "source": []
  },
  {
   "cell_type": "markdown",
   "metadata": {},
   "source": [
    "6. Ahora visualiza el mismo gráfico, pero utilizando solo aquellas comunas que estén en la vista ``ComunaLimpia``. Vuelve a anotar el coeficiente de correlación."
   ]
  },
  {
   "cell_type": "code",
   "execution_count": null,
   "metadata": {},
   "outputs": [],
   "source": []
  },
  {
   "cell_type": "markdown",
   "metadata": {},
   "source": [
    "7. ¿Cómo cambia la correlación? ¿Por qué crees que pasó eso?"
   ]
  },
  {
   "cell_type": "code",
   "execution_count": null,
   "metadata": {},
   "outputs": [],
   "source": []
  }
 ],
 "metadata": {
  "kernelspec": {
   "display_name": "Python 3",
   "language": "python",
   "name": "python3"
  },
  "language_info": {
   "codemirror_mode": {
    "name": "ipython",
    "version": 3
   },
   "file_extension": ".py",
   "mimetype": "text/x-python",
   "name": "python",
   "nbconvert_exporter": "python",
   "pygments_lexer": "ipython3",
   "version": "3.8.4"
  }
 },
 "nbformat": 4,
 "nbformat_minor": 4
}
