{
 "cells": [
  {
   "cell_type": "markdown",
   "metadata": {},
   "source": [
    "# Guía SQL Avanzado\n",
    "\n",
    "\n",
    "## 1. Introducción\n",
    "\n",
    "---\n",
    "\n",
    "Durante esta clase vamos a aprender los conceptos avanzados de SQL. Vamos a aprender a anidar consultas, hacer agregación y algunos comandos especiales.\n",
    "\n",
    "### 1.1 Requisitos\n",
    "\n",
    "Para esta actividad, así como en las siguientes actividades de SQL vamos a utilizar\n",
    "\n",
    "- Python 3\n",
    "- Jupyter\n",
    "- La librería `ipython-sql`. Para instalarla pueden hacerlo con `pip3`:\n",
    "```\n",
    "pip3 install ipython-sql\n",
    "```\n",
    "- SQLite3, que viene junto con la instalación de Python\n",
    "\n",
    "**Importante**: si vas a correr este notebook de forma local, te recomendamos usar una versión de `sqlalchemy`inferior a la 1.4.0, por lo que tendrás que ejecutar la siguiente celda (descomenta las líneas antes de ejecutar):"
   ]
  },
  {
   "cell_type": "code",
   "execution_count": null,
   "metadata": {},
   "outputs": [],
   "source": [
    "#pip3 uninstall sqlalchemy\n",
    "#pip3 install --upgrade \"sqlalchemy<1.4.0\""
   ]
  },
  {
   "cell_type": "markdown",
   "metadata": {},
   "source": [
    "**TE RECOMENDAMOS QUE USES GOOGLE COLAB PARA TRABAJAR SOBRE ESTE NOTEBOOK!**\n",
    "\n",
    "**Importante**: Si vas a correr este notebook en **google colab**, ejecuta la siguiente celda (descomenta las líneas antes de ejecutar y escribe `y` cuando la consola te lo pida):"
   ]
  },
  {
   "cell_type": "code",
   "execution_count": null,
   "metadata": {},
   "outputs": [],
   "source": [
    "#!pip3 uninstall sqlalchemy\n",
    "#!pip3 install --upgrade \"sqlalchemy<1.4.0\""
   ]
  },
  {
   "cell_type": "markdown",
   "metadata": {},
   "source": [
    "### 1.2 Outline\n",
    "\n",
    "En esta actividad aprenderemos:\n",
    "\n",
    "\n",
    "- Agregación y agrupación\n",
    "- Consultas anidadas\n",
    "- Nulos\n",
    "- Insersión y eliminación más compleja\n",
    "\n",
    "\n",
    "### 1.3 Esquema\n",
    "\n",
    "Para esta actividad vamos a trabajar con el siguiente esquema que, como recordarás, corresponde al de la actividad pasada:\n",
    "\n",
    "- `Capitanes(cid INT PRIMARY KEY, cnombre VARCHAR(100), crating FLOAT, cedad INT)`\n",
    "- `Botes(bid INT PRIMARY KEY, bnombre VARCHAR(100), bcolor VARCHAR(100))`\n",
    "- `Reservas(cid INT, bid INT, fecha DATE, PRIMARY KEY(cid, bid))`\n",
    "\n",
    "Que corresponde a capitanes que reservan ciertos botes. El `cid` y `bid` en la tabla `Reservas` proviene de las tablas `Capitanes` y `Botes` respectivamente."
   ]
  },
  {
   "cell_type": "markdown",
   "metadata": {},
   "source": [
    "### 1.4 Base de datos\n",
    "\n",
    "Corre las siguiente celdas para tener acceso a SQL, crear la base de datos y poblarla."
   ]
  },
  {
   "cell_type": "code",
   "execution_count": null,
   "metadata": {},
   "outputs": [],
   "source": [
    "%load_ext sql"
   ]
  },
  {
   "cell_type": "code",
   "execution_count": null,
   "metadata": {},
   "outputs": [],
   "source": [
    "%sql sqlite:///capitanes.db"
   ]
  },
  {
   "cell_type": "code",
   "execution_count": null,
   "metadata": {},
   "outputs": [],
   "source": [
    "%%sql\n",
    "DROP TABLE IF EXISTS Capitanes;\n",
    "CREATE TABLE Capitanes(cid INT PRIMARY KEY, cnombre VARCHAR(100), crating FLOAT, cedad INT);\n",
    "INSERT INTO Capitanes VALUES(23, 'King Arturo', 8, 31);\n",
    "INSERT INTO Capitanes VALUES(29, 'Juan', 1, 33);\n",
    "INSERT INTO Capitanes VALUES(31, 'Andy', 8, 55);\n",
    "INSERT INTO Capitanes VALUES(32, 'Felipe', 8.4, 25);\n",
    "INSERT INTO Capitanes VALUES(58, 'Oscar', 10, 35);\n",
    "INSERT INTO Capitanes VALUES(64, 'Isidora', 7.5, 35);\n",
    "INSERT INTO Capitanes VALUES(71, 'Pedro', 10, 16);\n",
    "INSERT INTO Capitanes VALUES(74, 'Isidora', 9, 35);\n",
    "INSERT INTO Capitanes VALUES(85, 'Rosa', 3, 25);\n",
    "INSERT INTO Capitanes VALUES(95, 'Romano', 5.5, 63);\n",
    "\n",
    "\n",
    "DROP TABLE IF EXISTS Reservas;\n",
    "CREATE TABLE Reservas(cid INT, bid INT, fecha DATE, PRIMARY KEY(cid, bid));\n",
    "INSERT INTO Reservas VALUES(23, 101, '2016-10-10');\n",
    "INSERT INTO Reservas VALUES(23, 102, '2016-10-10');\n",
    "INSERT INTO Reservas VALUES(23, 103, '2016-10-08');\n",
    "INSERT INTO Reservas VALUES(23, 104, '2017-10-07');\n",
    "INSERT INTO Reservas VALUES(31, 102, '2017-11-10');\n",
    "INSERT INTO Reservas VALUES(31, 103, '2018-11-06');\n",
    "INSERT INTO Reservas VALUES(31, 104, '2018-11-12');\n",
    "INSERT INTO Reservas VALUES(64, 101, '2018-09-05');\n",
    "INSERT INTO Reservas VALUES(64, 102, '2018-09-08');\n",
    "INSERT INTO Reservas VALUES(74, 103, '2018-09-08');\n",
    "\n",
    "DROP TABLE IF EXISTS Botes;\n",
    "CREATE TABLE Botes(bid INT PRIMARY KEY, bnombre VARCHAR(100), bcolor VARCHAR(100));\n",
    "INSERT INTO Botes VALUES(101, 'Catamaran', 'Azul');\n",
    "INSERT INTO Botes VALUES(102, 'Catamaran', 'Rojo');\n",
    "INSERT INTO Botes VALUES(103, 'Endurance', 'Verde');\n",
    "INSERT INTO Botes VALUES(104, 'Yate', 'Rojo');"
   ]
  },
  {
   "cell_type": "markdown",
   "metadata": {},
   "source": [
    "Luego de esto, tus tablas deberían verse de la siguiente forma:\n",
    "\n",
    "\n",
    "#### Capitanes\n",
    "\n",
    "| cid | cnombre     | crating | cedad |\n",
    "|-----|-------------|---------|-------|\n",
    "| 23  | King Arturo | 8       | 31    |\n",
    "| 29  | Juan        | 1       | 33    |\n",
    "| 31  | Andy        | 8       | 55    |\n",
    "| 32  | Felipe      | 8.4     | 25    |\n",
    "| 58  | Oscar       | 10      | 35    |\n",
    "| 64  | Isidora     | 7.5     | 35    |\n",
    "| 71  | Pedro       | 10      | 16    |\n",
    "| 74  | Isidora     | 9       | 35    |\n",
    "| 85  | Rosa        | 3       | 25    |\n",
    "| 95  | Romano      | 5.5     | 63    |\n",
    "\n",
    "\n",
    "#### Botes\n",
    "\n",
    "| bid | bnombre   | bcolor |\n",
    "|-----|-----------|--------|\n",
    "| 101 | Catamaran | Azul   |\n",
    "| 102 | Catamaran | Rojo   |\n",
    "| 103 | Endurance | Verde  |\n",
    "| 104 | Yate      | Rojo   |\n",
    "\n",
    "\n",
    "\n",
    "#### Reservas\n",
    "\n",
    "| cid | bid | fecha    |\n",
    "|-----|-----|----------|\n",
    "| 23  | 101 | 10/10/16 |\n",
    "| 23  | 102 | 10/10/16 |\n",
    "| 23  | 103 | 8/10/16  |\n",
    "| 23  | 104 | 7/10/17  |\n",
    "| 31  | 102 | 10/11/17 |\n",
    "| 31  | 103 | 6/11/18  |\n",
    "| 31  | 104 | 12/11/18 |\n",
    "| 64  | 101 | 5/9/18   |\n",
    "| 64  | 102 | 8/9/18   |\n",
    "| 74  | 103 | 8/9/18   |"
   ]
  },
  {
   "cell_type": "markdown",
   "metadata": {},
   "source": [
    "## 2. Actividad\n",
    "\n",
    "---\n",
    "\n"
   ]
  },
  {
   "cell_type": "markdown",
   "metadata": {},
   "source": [
    "### 2.1 Agregación"
   ]
  },
  {
   "cell_type": "markdown",
   "metadata": {},
   "source": [
    "En general SQL soporta varias funciones de agregación: `MAX`, `MIN` (mínimo), `AVG` (promedio), `SUM` (suma). Intenta hacer las siguientes consultas:\n",
    "\n",
    "**1.** Encuentra el rating promedio de los capitanes mayores a 45 años."
   ]
  },
  {
   "cell_type": "code",
   "execution_count": null,
   "metadata": {},
   "outputs": [],
   "source": [
    "%sql"
   ]
  },
  {
   "cell_type": "markdown",
   "metadata": {},
   "source": [
    "También podemos usar `COUNT` para contar tuplas. Hay dos versiones (pruébalas!):\n",
    "\n",
    "- `SELECT COUNT(*) FROM Tabla` cuenta cuantas tuplas tiene la tabla.\n",
    "- `SELECT COUNT(DISTINCT cnombre) FROM Capitanes` cuenta cuantos nombres distintos hay en Capitanes.\n",
    "\n",
    "En general `SELECT COUNT(*) FROM Tabla` y S`ELECT COUNT(atributo) FROM Tabla` es lo mismo, pero hay casos en los que es distinto: cuando las tablas tienen valores nulos o indefinidos. Hablaremos sobre esto más abajo.\n",
    "\n",
    "Ahora realiza las siguientes consultas."
   ]
  },
  {
   "cell_type": "markdown",
   "metadata": {},
   "source": [
    "**2.** Encuentra cuantos capitanes menores de 40 años hay."
   ]
  },
  {
   "cell_type": "code",
   "execution_count": null,
   "metadata": {},
   "outputs": [],
   "source": [
    "%sql"
   ]
  },
  {
   "cell_type": "markdown",
   "metadata": {},
   "source": [
    "**3.** Cuenta la cantidad de reservas hechas a botes de color rojo."
   ]
  },
  {
   "cell_type": "code",
   "execution_count": null,
   "metadata": {},
   "outputs": [],
   "source": [
    "%sql"
   ]
  },
  {
   "cell_type": "markdown",
   "metadata": {},
   "source": [
    "Finalmente podemos usar `GROUP BY` para ir agrupando los resultados. Prueba con la consulta:"
   ]
  },
  {
   "cell_type": "code",
   "execution_count": null,
   "metadata": {},
   "outputs": [],
   "source": [
    "%%sql\n",
    "SELECT cnombre, SUM(cedad)\n",
    "FROM Capitanes\n",
    "GROUP BY cnombre"
   ]
  },
  {
   "cell_type": "markdown",
   "metadata": {},
   "source": [
    "¿Qué pasó con Isidora? Lo que hacemos es agrupar a las dos tuplas con nombre Isidora en una, y sumamos la edad. Prueba ahora:"
   ]
  },
  {
   "cell_type": "code",
   "execution_count": null,
   "metadata": {},
   "outputs": [],
   "source": [
    "%%sql\n",
    "SELECT bcolor, count(bcolor)\n",
    "FROM Botes\n",
    "GROUP BY bcolor"
   ]
  },
  {
   "cell_type": "markdown",
   "metadata": {},
   "source": [
    "Ahora realiza las siguientes consultas:\n",
    "\n",
    "**4.** Encuentra para los capitanes el promedio del rating por cada edad distinta."
   ]
  },
  {
   "cell_type": "code",
   "execution_count": null,
   "metadata": {},
   "outputs": [],
   "source": [
    "%sql"
   ]
  },
  {
   "cell_type": "markdown",
   "metadata": {},
   "source": [
    "**5.** Encuentra el número de reservas por cada color de bote."
   ]
  },
  {
   "cell_type": "code",
   "execution_count": null,
   "metadata": {},
   "outputs": [],
   "source": [
    "%sql"
   ]
  },
  {
   "cell_type": "markdown",
   "metadata": {},
   "source": [
    "**6.** Encuentra el número de reservas por capitán y por color de bote."
   ]
  },
  {
   "cell_type": "code",
   "execution_count": null,
   "metadata": {},
   "outputs": [],
   "source": [
    "%sql"
   ]
  },
  {
   "cell_type": "markdown",
   "metadata": {},
   "source": [
    "### 2.2 Consultas Anidadas\n",
    "\n",
    "Has observado que cada consulta entrega una tabla, los atributos de esa tabla son lo que pones en el SELECT. Esto significa que podemos poner cualquier consulta SQL en el FROM. Vamos a ver cómo realizar esto."
   ]
  },
  {
   "cell_type": "markdown",
   "metadata": {},
   "source": [
    "**7.** Escribe una consulta que entregue los nombres de los capitanes junto a los bid de los botes que han reservado, pero contando solo las reservas hechas después del primero de octubre del 2017."
   ]
  },
  {
   "cell_type": "code",
   "execution_count": null,
   "metadata": {},
   "outputs": [],
   "source": [
    "%sql"
   ]
  },
  {
   "cell_type": "markdown",
   "metadata": {},
   "source": [
    "Sea $Q$ la consulta anterior. ¿Qué va a retornar la siguiente consulta? (Ojo, tienes que reemplazar el valor de $Q$ en la celda siguiente)"
   ]
  },
  {
   "cell_type": "code",
   "execution_count": null,
   "metadata": {},
   "outputs": [],
   "source": [
    "%%sql\n",
    "SELECT Botes.bid, bnombre, bcolor\n",
    "FROM Botes, (Q) AS Res2017\n",
    "WHERE Botes.bid = Res2017.bid"
   ]
  },
  {
   "cell_type": "markdown",
   "metadata": {},
   "source": [
    "**Importante**: cada vez que quieras anidar una consulta en el `FROM`, debes darle un alias. En el caso anterior el alias es Res2017."
   ]
  },
  {
   "cell_type": "markdown",
   "metadata": {},
   "source": [
    "Ahora:\n",
    "\n",
    "**8.** Encuentra los nombres de los capitanes que tienen más de 20 años y que no han reservado un bote rojo. ¿Puedes escribir esto sin usar consultas anidadas?"
   ]
  },
  {
   "cell_type": "code",
   "execution_count": null,
   "metadata": {},
   "outputs": [],
   "source": [
    "%sql"
   ]
  },
  {
   "cell_type": "markdown",
   "metadata": {},
   "source": [
    "**9.** Encuentra el nombre del capitán con el mejor rating. Utiliza consultas anidadas."
   ]
  },
  {
   "cell_type": "code",
   "execution_count": null,
   "metadata": {},
   "outputs": [],
   "source": [
    "%sql"
   ]
  },
  {
   "cell_type": "markdown",
   "metadata": {},
   "source": [
    "**10.** Encuentra los capitanes cuya edad es menor que el promedio."
   ]
  },
  {
   "cell_type": "code",
   "execution_count": null,
   "metadata": {},
   "outputs": [],
   "source": [
    "%sql"
   ]
  },
  {
   "cell_type": "markdown",
   "metadata": {},
   "source": [
    "**11.** Encuentra los botes que no han sido reservados por el capitán con peor rating."
   ]
  },
  {
   "cell_type": "code",
   "execution_count": null,
   "metadata": {},
   "outputs": [],
   "source": [
    "%sql"
   ]
  },
  {
   "cell_type": "markdown",
   "metadata": {},
   "source": [
    "**12.** Encuentre los nombres de los capitanes que han reservado todos los botes. ¿Puedes escribir esto sin usar consultas anidadas?"
   ]
  },
  {
   "cell_type": "code",
   "execution_count": null,
   "metadata": {},
   "outputs": [],
   "source": [
    "%sql"
   ]
  },
  {
   "cell_type": "markdown",
   "metadata": {},
   "source": [
    "### 2.3 Nulos"
   ]
  },
  {
   "cell_type": "markdown",
   "metadata": {},
   "source": [
    "Hasta el momento hemos asumido que cada valor de las tuplas es conocida, pero ahora veremos que pueden no serlo. En SQL tenemos el valor especial `null` para estos casos. Por ejemplo, cuando un capitán se une al club de yates, puede no tener un rating asignado aún. En este caso, podríamos agregar a la tabla `Capitanes`la tupla `(98, 'Constanza', null, 20)`."
   ]
  },
  {
   "cell_type": "code",
   "execution_count": null,
   "metadata": {},
   "outputs": [],
   "source": [
    "%%sql\n",
    "INSERT INTO Capitanes VALUES(98, 'Constanza', null, 20);\n",
    "SELECT * FROM Capitanes;"
   ]
  },
  {
   "cell_type": "markdown",
   "metadata": {},
   "source": [
    "Comparar `crating` con diferentes valores nos dará como resultado `unknown`. Prueba ejecutando la siguiente consulta, luego cambia el `=` por un `<`, luego por `>` y finalmente por `<>` para ver qué pasa. "
   ]
  },
  {
   "cell_type": "code",
   "execution_count": null,
   "metadata": {},
   "outputs": [],
   "source": [
    "%%sql\n",
    "SELECT * \n",
    "FROM Capitanes \n",
    "WHERE crating = 8;"
   ]
  },
  {
   "cell_type": "markdown",
   "metadata": {},
   "source": [
    "En SQL tenemos el operador `IS NULL` para saber si el valor de una columna es *null*. Ejecuta la siguiente consulta. Luego cambia `IS NULL` por `IS NOT NULL`."
   ]
  },
  {
   "cell_type": "code",
   "execution_count": null,
   "metadata": {},
   "outputs": [],
   "source": [
    "%%sql\n",
    "SELECT * \n",
    "FROM Capitanes \n",
    "WHERE crating IS NULL;"
   ]
  },
  {
   "cell_type": "markdown",
   "metadata": {},
   "source": [
    "También existen unas variantes de *join*, llamados **_outer joins_** que dependen de valores nulos. Para ejemplificar, agreguemos las siguientes tuplas a la tabla `Reservas`."
   ]
  },
  {
   "cell_type": "code",
   "execution_count": null,
   "metadata": {},
   "outputs": [],
   "source": [
    "%%sql\n",
    "INSERT INTO Reservas VALUES(98, 101, '2018-09-10');\n",
    "INSERT INTO Reservas VALUES(98, 102, null);"
   ]
  },
  {
   "cell_type": "markdown",
   "metadata": {},
   "source": [
    "Primero veamos el resultado de hacer *join* como lo estábamos haciendo hasta el momento:"
   ]
  },
  {
   "cell_type": "code",
   "execution_count": null,
   "metadata": {},
   "outputs": [],
   "source": [
    "%%sql\n",
    "SELECT * \n",
    "FROM Capitanes C, Reservas R\n",
    "WHERE C.cid = R.cid;"
   ]
  },
  {
   "cell_type": "markdown",
   "metadata": {},
   "source": [
    "Al realizar un *left outer join* de `Capitanes` con `Reservas` las filas con capitanes que no hayan hecho reservas aparecen en el resultado. Para hacer un *left outer join* puedes hacer lo siguiente:\n",
    "\n",
    "```sql\n",
    "SELECT * \n",
    "FROM Capitanes LEFT OUTER JOIN Reservas ON Capitanes.cid = Reservas.cid;\n",
    "```\n",
    "Que también es equivalente a:\n",
    "\n",
    "```sql\n",
    "SELECT * \n",
    "FROM Capitanes NATURAL LEFT OUTER JOIN Reservas;\n",
    "```\n",
    "Bueno, casi equivalente. Puedes probar para ver la diferencia.\n",
    "\n",
    "`NATURAL JOIN` infiere como hacer el join verificando que columnas tienen el mismo nombre en ambas tablas. Son útiles cuando estamos haciendo consultas a modo explorativo sin mucha importancia puesto que nos ahorramos algunos carácteres, pero son una mala práctica de desarrollo de software porque no son legibles y son mucho mas susceptibles a romperse de forma inesperada por cambios en el esquema.\n",
    "\n",
    "Si ejecutas la siguiente consulta, verás que capitanes como Juan, Andy, Felipe, Oscar, Pedro, Rosa y Romano, que no habían hecho reservas, están en el resultado y que además tiene la información de la reserva como nulos."
   ]
  },
  {
   "cell_type": "code",
   "execution_count": null,
   "metadata": {},
   "outputs": [],
   "source": [
    "%%sql\n",
    "SELECT * \n",
    "FROM Capitanes LEFT OUTER JOIN Reservas ON Capitanes.cid = Reservas.cid;"
   ]
  },
  {
   "cell_type": "markdown",
   "metadata": {},
   "source": [
    "SQLite no soporta *right outer join* ni *full outer join*, pero las consultas se verían de la siguiente forma:\n",
    "\n",
    "**Right Outer Join:**\n",
    "\n",
    "```sql\n",
    "SELECT * \n",
    "FROM Capitanes NATURAL RIGHT OUTER JOIN Reservas;\n",
    "```\n",
    "Equivalente a\n",
    "\n",
    "```sql\n",
    "SELECT * \n",
    "FROM Capitanes RIGHT OUTER JOIN Reservas ON Capitanes.cid = Reservas.cid;\n",
    "```\n",
    "\n",
    "**Full Outer Join:**\n",
    "\n",
    "```sql\n",
    "SELECT * \n",
    "FROM Capitanes NATURAL FULL OUTER JOIN Reservas;\n",
    "```\n",
    "Equivalente a\n",
    "\n",
    "```sql\n",
    "SELECT * \n",
    "FROM Capitanes FULL OUTER JOIN Reservas ON Capitanes.cid = Reservas.cid;\n",
    "```"
   ]
  },
  {
   "cell_type": "markdown",
   "metadata": {},
   "source": [
    "Agreguemos la siguiente tupla a la tabla de `Botes` para realizar las siguientes consultas:"
   ]
  },
  {
   "cell_type": "code",
   "execution_count": null,
   "metadata": {},
   "outputs": [],
   "source": [
    "%sql INSERT INTO Botes VALUES (105, 'El Catán', 'Blanco')"
   ]
  },
  {
   "cell_type": "markdown",
   "metadata": {},
   "source": [
    "**13.** Para cada color de bote, obtén el promedio de la edad de los capitanes que reservaron un bote de ese color. No dejes ningún color fuera del resultado."
   ]
  },
  {
   "cell_type": "code",
   "execution_count": null,
   "metadata": {},
   "outputs": [],
   "source": [
    "%sql"
   ]
  },
  {
   "cell_type": "markdown",
   "metadata": {},
   "source": [
    "**14.** Para cada nombre de bote, obtén el rating máximo de los capitanes que lo han reservado. No dejes ningún nombre fuera del resultado."
   ]
  },
  {
   "cell_type": "code",
   "execution_count": null,
   "metadata": {},
   "outputs": [],
   "source": [
    "%sql"
   ]
  },
  {
   "cell_type": "markdown",
   "metadata": {},
   "source": [
    "Si no quisiéramos permitir el uso de nulos en una cierta columna, podemos especificar `NOT NULL` al definir la tabla. Por ejemplo, si no queremos nulos en el nombre de los capitanes, podemo hacer:\n",
    "\n",
    "```sql\n",
    "CREATE TABLE Capitanes(cid INT PRIMARY KEY, cnombre VARCHAR(100) NOT NULL, crating FLOAT, cedad INT);\n",
    "```"
   ]
  },
  {
   "cell_type": "markdown",
   "metadata": {},
   "source": [
    "### 2.4 Inserción y eliminación más compleja\n",
    "\n",
    "Lo último que veremos es una forma de insertar y eliminar tuplas de forma más compleja. Por ejemplo podemos insertar valores de una consulta.\n",
    "\n",
    "**15.** Crea una tabla `CapitanesTop(cid INT, cnombre VARCHAR(100))`"
   ]
  },
  {
   "cell_type": "code",
   "execution_count": null,
   "metadata": {},
   "outputs": [],
   "source": [
    "%sql"
   ]
  },
  {
   "cell_type": "markdown",
   "metadata": {},
   "source": [
    "Ahora ejecuta la siguiente inserción. Nota que para insertar desde una consulta no debemos escribir la instrucción `VALUES`."
   ]
  },
  {
   "cell_type": "code",
   "execution_count": null,
   "metadata": {},
   "outputs": [],
   "source": [
    "%%sql\n",
    "INSERT INTO CapitanesTop\n",
    "SELECT cid,cnombre\n",
    "FROM Capitanes\n",
    "WHERE crating > 8"
   ]
  },
  {
   "cell_type": "markdown",
   "metadata": {},
   "source": [
    "Finalmente, si quieres dejar capitanes que tienen un rating igual o superior a 9 puedes escribir la siguiente consulta:"
   ]
  },
  {
   "cell_type": "code",
   "execution_count": null,
   "metadata": {},
   "outputs": [],
   "source": [
    "%%sql\n",
    "DELETE FROM CapitanesTop\n",
    "WHERE cid IN\n",
    "  (SELECT cid\n",
    "  FROM Capitanes\n",
    "  WHERE crating < 9)"
   ]
  }
 ],
 "metadata": {
  "kernelspec": {
   "display_name": "Python 3",
   "language": "python",
   "name": "python3"
  },
  "language_info": {
   "codemirror_mode": {
    "name": "ipython",
    "version": 3
   },
   "file_extension": ".py",
   "mimetype": "text/x-python",
   "name": "python",
   "nbconvert_exporter": "python",
   "pygments_lexer": "ipython3",
   "version": "3.9.2"
  }
 },
 "nbformat": 4,
 "nbformat_minor": 2
}
