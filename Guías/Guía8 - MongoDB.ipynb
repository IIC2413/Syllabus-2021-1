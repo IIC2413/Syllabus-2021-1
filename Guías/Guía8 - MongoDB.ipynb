{
 "cells": [
  {
   "cell_type": "markdown",
   "metadata": {},
   "source": [
    "# Guía MongoDB"
   ]
  },
  {
   "cell_type": "markdown",
   "metadata": {},
   "source": [
    "## 1. Instalación y conexión\n",
    "\n",
    "Primero, necesitamos instalar el driver de MongoDB para python y realizar la conexión. Considerar además que la uri 'estándar' es `mongodb://user:password@ip/database`. En el siguiente código, descomenta la línea 4 y reemplaza XX por tu número de alumno. "
   ]
  },
  {
   "cell_type": "code",
   "execution_count": 4,
   "metadata": {},
   "outputs": [],
   "source": [
    "from pymongo import MongoClient\n",
    "import pprint # For pretty printing\n",
    "\n",
    "#uri = \"mongodb://alumnoXX:XX@gray.ing.puc.cl/educativo?authSource=perm\"       \n",
    "        \n",
    "client = MongoClient(uri)\n",
    "db = client.get_database('example_user')"
   ]
  },
  {
   "cell_type": "markdown",
   "metadata": {},
   "source": [
    "## 2. Los datos\n",
    "\n",
    "Tenemos dos colecciones de datos: `users` y `messages`. A continuación te mostramos un ejemplo de cada uno para que veas su estructura:\n",
    "\n",
    "Ejemplo de mensaje:\n",
    "\n",
    "```\n",
    "{\n",
    "    \"mid\": 1,\n",
    "    \"message\": \"Qué tal? Me gustó el hotel que reservé. 10 - 4.\",\n",
    "    \"sender\": 86,\n",
    "    \"receptant\": 261,\n",
    "    \"lat\": -51.729782,\n",
    "    \"long\": -72.515097,\n",
    "    \"date\": \"2020-08-02\"\n",
    "}\n",
    "```\n",
    "\n",
    "Ejemplo de usuario: \n",
    "```\n",
    "{\n",
    "    \"uid\": 208\n",
    "    \"name\": \"Harry Hood\",\n",
    "    \"age\": 50,\n",
    "    \"description\": \"Soy jefe de una instalacion en el puerto Quintero\",\n",
    "}\n",
    "```\n",
    "\n",
    "**Importante:** los datos solo tienen text index en el campo `description` en el caso de Usuarios y en el campo `message` para el caso de mensajes. \n"
   ]
  },
  {
   "cell_type": "markdown",
   "metadata": {},
   "source": [
    "Ahora te mostraremos algunos ejemplos de uso de estas colecciones:"
   ]
  },
  {
   "cell_type": "markdown",
   "metadata": {},
   "source": [
    "1. Todos los usuarios:"
   ]
  },
  {
   "cell_type": "code",
   "execution_count": null,
   "metadata": {},
   "outputs": [],
   "source": [
    "collection = db.users\n",
    "\n",
    "for user in collection.find({}):\n",
    "    pprint.pprint(user)"
   ]
  },
  {
   "cell_type": "markdown",
   "metadata": {},
   "source": [
    "2. Usuarios con edad >= 30:"
   ]
  },
  {
   "cell_type": "code",
   "execution_count": null,
   "metadata": {},
   "outputs": [],
   "source": [
    "for user in collection.find({\"age\":{\"$gte\":30}}):\n",
    "    pprint.pprint(user)"
   ]
  },
  {
   "cell_type": "markdown",
   "metadata": {},
   "source": [
    "3. Usuarios cuya descripción contenga la palabra \"instalaciones\""
   ]
  },
  {
   "cell_type": "code",
   "execution_count": null,
   "metadata": {},
   "outputs": [],
   "source": [
    "for user in collection.find({\"$text\": {\"$search\": \"instalaciones\"}}):\n",
    "    pprint.pprint(user)"
   ]
  },
  {
   "cell_type": "markdown",
   "metadata": {},
   "source": [
    "4. Número de usuarios con edad >= 30"
   ]
  },
  {
   "cell_type": "code",
   "execution_count": null,
   "metadata": {},
   "outputs": [],
   "source": [
    "res = collection.count_documents({\"age\":{\"$gte\":30}})\n",
    "print(res)"
   ]
  },
  {
   "cell_type": "markdown",
   "metadata": {},
   "source": [
    "## 3. Ejercicios"
   ]
  },
  {
   "cell_type": "markdown",
   "metadata": {},
   "source": [
    "1. Encuentra el texto de todos los mensajes enviados entre el usuario de uid=96 al usuario de uid=214."
   ]
  },
  {
   "cell_type": "code",
   "execution_count": null,
   "metadata": {},
   "outputs": [],
   "source": []
  },
  {
   "cell_type": "markdown",
   "metadata": {},
   "source": [
    "2. Encuentra el nombre de todos los usuarios que han enviado un mensaje al usuario con uid=214. **Hint:** para responder esta consulta tendrás que acceder a 2 colecciones, usa python para esto. "
   ]
  },
  {
   "cell_type": "code",
   "execution_count": null,
   "metadata": {},
   "outputs": [],
   "source": []
  },
  {
   "cell_type": "markdown",
   "metadata": {},
   "source": [
    "3. Encuentra el nombre de todos los usuarios que han enviado un mensaje con mid>=270. **Hint:** para responder esta consulta tendrás que acceder a 2 colecciones, usa python para esto. NO necesitas verificar si un nombre está repetido."
   ]
  },
  {
   "cell_type": "code",
   "execution_count": null,
   "metadata": {},
   "outputs": [],
   "source": []
  },
  {
   "cell_type": "markdown",
   "metadata": {},
   "source": [
    "4. Usando text search, encuentra todos los usuarios cuya descripción contenga literalmente \"Puerto Montt\" (si solo tiene la palabra \"Puerto\" no se considera)."
   ]
  },
  {
   "cell_type": "code",
   "execution_count": null,
   "metadata": {},
   "outputs": [],
   "source": []
  },
  {
   "cell_type": "markdown",
   "metadata": {},
   "source": [
    "5. Usando text search, encuentra los mensajes que contengan tanto \"grande\" como \"magikarp\", y que no contengan \"origami\", \"espina\" y \"shrek\"."
   ]
  },
  {
   "cell_type": "code",
   "execution_count": null,
   "metadata": {},
   "outputs": [],
   "source": []
  },
  {
   "cell_type": "markdown",
   "metadata": {},
   "source": [
    "6. Usando text search, encuentra los mensajes que contengan \"hola\" o \"magikarp\"."
   ]
  },
  {
   "cell_type": "code",
   "execution_count": null,
   "metadata": {},
   "outputs": [],
   "source": []
  },
  {
   "cell_type": "markdown",
   "metadata": {},
   "source": [
    "7. Usando text search, encuentra los mensajes que contengan \"todo\" y \"magikarp\"."
   ]
  },
  {
   "cell_type": "code",
   "execution_count": null,
   "metadata": {},
   "outputs": [],
   "source": []
  },
  {
   "cell_type": "markdown",
   "metadata": {},
   "source": [
    "8. Usando text search, encuentra los mensajes que contengan \"bien\" o \"magikarp\", pero que no contenga \"tiene\"."
   ]
  },
  {
   "cell_type": "code",
   "execution_count": null,
   "metadata": {},
   "outputs": [],
   "source": []
  },
  {
   "cell_type": "markdown",
   "metadata": {},
   "source": [
    "9. Usando text search, encuentra todos los usuarios cuya descripción contenga la palabra \"Puerto\", pero no la palabra \"Montt\", además los usuarios deben tener edad >= 58."
   ]
  },
  {
   "cell_type": "code",
   "execution_count": null,
   "metadata": {},
   "outputs": [],
   "source": []
  },
  {
   "cell_type": "markdown",
   "metadata": {},
   "source": [
    "10. Usando text search, encuentra todos los usuarios que hayan enviado un mensaje que contiene \"bien\" o \"magikarp\", pero no \"tiene\"."
   ]
  },
  {
   "cell_type": "code",
   "execution_count": null,
   "metadata": {},
   "outputs": [],
   "source": []
  },
  {
   "cell_type": "markdown",
   "metadata": {},
   "source": [
    "11. Encuentra todos los mensajes enviados por un usuario llamado \"Jose\" (podría ser \"María José\" por ejemplo). Notar que no hay text index para `name` en la colección de usuarios. "
   ]
  },
  {
   "cell_type": "code",
   "execution_count": null,
   "metadata": {},
   "outputs": [],
   "source": []
  },
  {
   "cell_type": "markdown",
   "metadata": {},
   "source": [
    "12. Encuentra los mensajes que contengan la palabra \"Estoy\". Luego, encuentra todos los mensajes que no contengan esa palabra. ¿Cuántos mensajes no contienen esta palabra?"
   ]
  },
  {
   "cell_type": "code",
   "execution_count": null,
   "metadata": {},
   "outputs": [],
   "source": []
  }
 ],
 "metadata": {
  "kernelspec": {
   "display_name": "Python 3",
   "language": "python",
   "name": "python3"
  },
  "language_info": {
   "codemirror_mode": {
    "name": "ipython",
    "version": 3
   },
   "file_extension": ".py",
   "mimetype": "text/x-python",
   "name": "python",
   "nbconvert_exporter": "python",
   "pygments_lexer": "ipython3",
   "version": "3.8.4"
  }
 },
 "nbformat": 4,
 "nbformat_minor": 4
}
