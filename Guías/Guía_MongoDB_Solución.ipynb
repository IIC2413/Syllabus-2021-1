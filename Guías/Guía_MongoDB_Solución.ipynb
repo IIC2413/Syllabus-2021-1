{
  "nbformat": 4,
  "nbformat_minor": 0,
  "metadata": {
    "kernelspec": {
      "display_name": "Python 3",
      "language": "python",
      "name": "python3"
    },
    "language_info": {
      "codemirror_mode": {
        "name": "ipython",
        "version": 3
      },
      "file_extension": ".py",
      "mimetype": "text/x-python",
      "name": "python",
      "nbconvert_exporter": "python",
      "pygments_lexer": "ipython3",
      "version": "3.8.4"
    },
    "colab": {
      "name": "Guía_MongoDB.ipynb",
      "provenance": []
    }
  },
  "cells": [
    {
      "cell_type": "markdown",
      "metadata": {
        "id": "G4u4K58b9Cji"
      },
      "source": [
        "# Guía MongoDB"
      ]
    },
    {
      "cell_type": "markdown",
      "metadata": {
        "id": "Cc1IlKnW9Cjo"
      },
      "source": [
        "## 1. Instalación y conexión\n",
        "\n",
        "Primero, necesitamos instalar el driver de MongoDB para python y realizar la conexión. Considerar además que la uri 'estándar' es `mongodb://user:password@ip/database`. En el siguiente código, descomenta la línea 4 y reemplaza XX por tu número de alumno. "
      ]
    },
    {
      "cell_type": "code",
      "metadata": {
        "id": "gPtxDljV9Cjs"
      },
      "source": [
        "from pymongo import MongoClient\n",
        "import pprint # For pretty printing\n",
        "\n",
        "uri = \"mongodb://alumnoXX:XX@gray.ing.puc.cl/educativo?authSource=perm\"       \n",
        "        \n",
        "client = MongoClient(uri)\n",
        "db = client.get_database('example_user')"
      ],
      "execution_count": 2,
      "outputs": []
    },
    {
      "cell_type": "markdown",
      "metadata": {
        "id": "DmayQ6179Cjw"
      },
      "source": [
        "## 2. Los datos\n",
        "\n",
        "Tenemos dos colecciones de datos: `users` y `messages`. A continuación te mostramos un ejemplo de cada uno para que veas su estructura:\n",
        "\n",
        "Ejemplo de mensaje:\n",
        "\n",
        "```\n",
        "{\n",
        "    \"mid\": 1,\n",
        "    \"message\": \"Qué tal? Me gustó el hotel que reservé. 10 - 4.\",\n",
        "    \"sender\": 86,\n",
        "    \"receptant\": 261,\n",
        "    \"lat\": -51.729782,\n",
        "    \"long\": -72.515097,\n",
        "    \"date\": \"2020-08-02\"\n",
        "}\n",
        "```\n",
        "\n",
        "Ejemplo de usuario: \n",
        "```\n",
        "{\n",
        "    \"uid\": 208\n",
        "    \"name\": \"Harry Hood\",\n",
        "    \"age\": 50,\n",
        "    \"description\": \"Soy jefe de una instalacion en el puerto Quintero\",\n",
        "}\n",
        "```\n",
        "\n",
        "**Importante:** los datos solo tienen text index en el campo `description` en el caso de Usuarios y en el campo `message` para el caso de mensajes. \n"
      ]
    },
    {
      "cell_type": "markdown",
      "metadata": {
        "id": "DsYV3kfV9Cjy"
      },
      "source": [
        "Ahora te mostraremos algunos ejemplos de uso de estas colecciones:"
      ]
    },
    {
      "cell_type": "markdown",
      "metadata": {
        "id": "o2lCxJ9f9Cjz"
      },
      "source": [
        "1. Todos los usuarios:"
      ]
    },
    {
      "cell_type": "code",
      "metadata": {
        "colab": {
          "base_uri": "https://localhost:8080/"
        },
        "id": "LJJgqjgh9Cjz",
        "outputId": "6cf75924-a8c5-4942-d915-47fa1eb16dcf"
      },
      "source": [
        "collection = db.users\n",
        "\n",
        "for user in collection.find({}):\n",
        "    pprint.pprint(user)"
      ],
      "execution_count": 3,
      "outputs": [
        {
          "output_type": "stream",
          "text": [
            "{'_id': ObjectId('60bfd90e002ce228636e506b'),\n",
            " 'age': 43,\n",
            " 'description': 'Soy jefe de una instalacion en el puerto Quintero',\n",
            " 'name': 'Bronwyn Orozco',\n",
            " 'uid': 4}\n"
            Y muchos más!!!
          ],
          "name": "stdout"
        }
      ]
    },
    {
      "cell_type": "markdown",
      "metadata": {
        "id": "ygJYcowv9Cj0"
      },
      "source": [
        "2. Usuarios con edad >= 30:"
      ]
    },
    {
      "cell_type": "code",
      "metadata": {
        "id": "7IDtJqNW9Cj1"
      },
      "source": [
        "for user in collection.find({\"age\":{\"$gte\":30}}):\n",
        "    pprint.pprint(user)"
      ],
      "execution_count": null,
      "outputs": []
    },
    {
      "cell_type": "markdown",
      "metadata": {
        "id": "1X5-SIUs9Cj2"
      },
      "source": [
        "3. Usuarios cuya descripción contenga la palabra \"instalaciones\""
      ]
    },
    {
      "cell_type": "code",
      "metadata": {
        "id": "ohYryFS69Cj2"
      },
      "source": [
        "for user in collection.find({\"$text\": {\"$search\": \"instalaciones\"}}):\n",
        "    pprint.pprint(user)"
      ],
      "execution_count": null,
      "outputs": []
    },
    {
      "cell_type": "markdown",
      "metadata": {
        "id": "O9GVm7I89Cj4"
      },
      "source": [
        "4. Número de usuarios con edad >= 30"
      ]
    },
    {
      "cell_type": "code",
      "metadata": {
        "id": "OGavmtmG9Cj4"
      },
      "source": [
        "res = collection.count_documents({\"age\":{\"$gte\":30}})\n",
        "print(res)"
      ],
      "execution_count": null,
      "outputs": []
    },
    {
      "cell_type": "markdown",
      "metadata": {
        "id": "cyrxq9F39Cj5"
      },
      "source": [
        "## 3. Ejercicios"
      ]
    },
    {
      "cell_type": "markdown",
      "metadata": {
        "id": "nUS29ecP9Cj5"
      },
      "source": [
        "1. Encuentra el texto de todos los mensajes enviados entre el usuario de uid=96 al usuario de uid=214."
      ]
    },
    {
      "cell_type": "code",
      "metadata": {
        "colab": {
          "base_uri": "https://localhost:8080/"
        },
        "id": "Ot-463Id9Cj5",
        "outputId": "a1d7baed-c565-4669-e9db-cfb25997e9bb"
      },
      "source": [
        "collection = db.messages\n",
        "\n",
        "mensajesAB = collection.find({\"receptant\":214, \"sender\":96},{\"message\":1})\n",
        "mensajesBA = collection.find({\"receptant\":96, \"sender\":214},{\"message\":1})\n",
        "\n",
        "for m in mensajesAB:\n",
        "\tprint(m['message'])\n",
        "for m in mensajesBA:\n",
        "\tprint(m['message'])"
      ],
      "execution_count": 4,
      "outputs": [
        {
          "output_type": "stream",
          "text": [
            "Hiciste la tarea de BD?\n",
            "Te cuento que: Alcancé el equilibrio espiritual. Espero que nos juntemos pronto.\n"
          ],
          "name": "stdout"
        }
      ]
    },
    {
      "cell_type": "markdown",
      "metadata": {
        "id": "35nd9Z7i9Cj8"
      },
      "source": [
        "2. Encuentra el nombre de todos los usuarios que han enviado un mensaje al usuario con uid=214. **Hint:** para responder esta consulta tendrás que acceder a 2 colecciones, usa python para esto. "
      ]
    },
    {
      "cell_type": "code",
      "metadata": {
        "colab": {
          "base_uri": "https://localhost:8080/"
        },
        "id": "CkH029LI9Cj8",
        "outputId": "17459d53-3947-4972-9837-85e04da21c90"
      },
      "source": [
        "collection1 = db.messages\n",
        "\n",
        "data = collection1.find({\"receptant\":214})\n",
        "\n",
        "collection2 = db.users\n",
        "\n",
        "for u in data:\n",
        "\tfor user in collection2.find({\"uid\":u['sender']}):\n",
        "\t\tpprint.pprint(user['name'])"
      ],
      "execution_count": 5,
      "outputs": [
        {
          "output_type": "stream",
          "text": [
            "'Emillie Frye'\n"
          ],
          "name": "stdout"
        }
      ]
    },
    {
      "cell_type": "markdown",
      "metadata": {
        "id": "30DVxJbo9Cj9"
      },
      "source": [
        "3. Encuentra el nombre de todos los usuarios que han enviado un mensaje con mid>=270. **Hint:** para responder esta consulta tendrás que acceder a 2 colecciones, usa python para esto. NO necesitas verificar si un nombre está repetido."
      ]
    },
    {
      "cell_type": "code",
      "metadata": {
        "colab": {
          "base_uri": "https://localhost:8080/"
        },
        "id": "1QDA6acE9Cj-",
        "outputId": "1589e0d7-d6c4-49bc-f050-d61a918216ce"
      },
      "source": [
        "collection1 = db.messages\n",
        "\n",
        "data = collection1.find({\"mid\":{\"$gte\":270}})\n",
        "\n",
        "collection2 = db.users\n",
        "\n",
        "for u in data:\n",
        "\tfor user in collection2.find({\"uid\":u['sender']}):\n",
        "\t\tpprint.pprint(user['name'])"
      ],
      "execution_count": 6,
      "outputs": [
        {
          "output_type": "stream",
          "text": [
            "'Jonny Newton'\n",
            "'Eduardo Pulido'\n",
            "'Quinn Novak'\n",
            "'Daniela Trinidad Alvarez Menchaca'\n",
            "'Haidar Moreno'\n",
            "'Nevaeh Gill'\n",
            "'Camron Chaney'\n",
            "'Dainton Pratt'\n",
            "'Skyla Ferrell'\n",
            "'Sanaya Sheppard'\n",
            "'Shoaib Ford'\n",
            "'Cooper Potts'\n",
            "'Ace Stephenson'\n",
            "'Leanne Weeks'\n",
            "'Sanaya Sheppard'\n",
            "'Elleanor Michael'\n",
            "'Che Partridge'\n",
            "'Ammaar Carty'\n",
            "'Ace Stephenson'\n",
            "'Linzi Wong'\n",
            "'Jonathan Calderon'\n"
          ],
          "name": "stdout"
        }
      ]
    },
    {
      "cell_type": "markdown",
      "metadata": {
        "id": "07Nmp6Hv9Cj_"
      },
      "source": [
        "4. Usando text search, encuentra todos los usuarios cuya descripción contenga literalmente \"Puerto Montt\" (si solo tiene la palabra \"Puerto\" no se considera)."
      ]
    },
    {
      "cell_type": "code",
      "metadata": {
        "colab": {
          "base_uri": "https://localhost:8080/"
        },
        "id": "GD30nhFM9CkA",
        "outputId": "3b4da30f-9c6b-4cae-a2b2-1b57351b7be8"
      },
      "source": [
        "collection1 = db.users\n",
        "\n",
        "data =  collection1.find({\"$text\": {\"$search\": \"\\\"Puerto Montt\\\"\"}})\n",
        "\n",
        "for m in data:\n",
        "\tpprint.pprint(m)"
      ],
      "execution_count": 7,
      "outputs": [
        {
          "output_type": "stream",
          "text": [
            "{'_id': ObjectId('60bfd90e002ce228636e50e2'),\n",
            " 'age': 58,\n",
            " 'description': 'Soy jefe de una instalacion en el puerto Puerto Montt',\n",
            " 'name': 'Tudor Proctor',\n",
            " 'uid': 120}\n",
            "{'_id': ObjectId('60bfd90e002ce228636e50dd'),\n",
            " 'age': 29,\n",
            " 'description': 'Soy jefe de una instalacion en el puerto Puerto Montt',\n",
            " 'name': 'Huw Lewis',\n",
            " 'uid': 118}\n",
            "{'_id': ObjectId('60bfd90e002ce228636e50d1'),\n",
            " 'age': 30,\n",
            " 'description': 'Soy jefe de una instalacion en el puerto Puerto Montt',\n",
            " 'name': 'Lori Forrest',\n",
            " 'uid': 100}\n",
            "{'_id': ObjectId('60bfd90e002ce228636e50ac'),\n",
            " 'age': 52,\n",
            " 'description': 'Soy jefe de una instalacion en el puerto Puerto Montt',\n",
            " 'name': 'Matias Strickland',\n",
            " 'uid': 50}\n",
            "{'_id': ObjectId('60bfd90e002ce228636e507e'),\n",
            " 'age': 22,\n",
            " 'description': 'Soy jefe de una instalacion en el puerto Puerto Montt',\n",
            " 'name': 'Rhydian Keeling',\n",
            " 'uid': 23}\n",
            "{'_id': ObjectId('60bfd90e002ce228636e5070'),\n",
            " 'age': 44,\n",
            " 'description': 'Soy jefe de una instalacion en el puerto Puerto Montt',\n",
            " 'name': 'Frederic Brooks',\n",
            " 'uid': 6}\n"
          ],
          "name": "stdout"
        }
      ]
    },
    {
      "cell_type": "markdown",
      "metadata": {
        "id": "jMuMLYV69CkA"
      },
      "source": [
        "5. Usando text search, encuentra los mensajes que contengan tanto \"grande\" como \"magikarp\", y que no contengan \"origami\", \"espina\" y \"shrek\"."
      ]
    },
    {
      "cell_type": "code",
      "metadata": {
        "colab": {
          "base_uri": "https://localhost:8080/"
        },
        "id": "nUGFrbmJ9CkB",
        "outputId": "b3f13e42-5b11-4c5e-c765-b4faa33768ed"
      },
      "source": [
        "collection2 = db.messages\n",
        "\n",
        "for m in collection2.find({\"$text\": {\"$search\": \"\\\"grande\\\" \\\"magikarp\\\" -espina -shrek -origami\"}}):\n",
        "\tpprint.pprint(m)"
      ],
      "execution_count": 8,
      "outputs": [
        {
          "output_type": "stream",
          "text": [
            "{'_id': ObjectId('60c26e8ee02f756cca774101'),\n",
            " 'date': '2020-06-10',\n",
            " 'lat': -27.286801,\n",
            " 'long': -128.20167,\n",
            " 'message': 'Jajajaja parece que conseguimos unos magikarp bien grandes',\n",
            " 'mid': 281,\n",
            " 'receptant': 171,\n",
            " 'sender': 289}\n"
          ],
          "name": "stdout"
        }
      ]
    },
    {
      "cell_type": "markdown",
      "metadata": {
        "id": "SB_hraEB9CkC"
      },
      "source": [
        "6. Usando text search, encuentra los mensajes que contengan \"hola\" o \"magikarp\"."
      ]
    },
    {
      "cell_type": "code",
      "metadata": {
        "colab": {
          "base_uri": "https://localhost:8080/"
        },
        "id": "4EZXTllm9CkC",
        "outputId": "641b6227-8d66-4152-899d-e793db469582"
      },
      "source": [
        "collection2 = db.messages\n",
        "\n",
        "for m in collection2.find({\"$text\": {\"$search\": \"hola magikarp\"}}):\n",
        "\tpprint.pprint(m)"
      ],
      "execution_count": 9,
      "outputs": [
        {
          "output_type": "stream",
          "text": [
            "{'_id': ObjectId('60c26e8ee02f756cca7740ce'),\n",
            " 'date': '2019-09-15',\n",
            " 'lat': -27.374641,\n",
            " 'long': -90.276865,\n",
            " 'message': 'Hola! Vas a venir?',\n",
            " 'mid': 227,\n",
            " 'receptant': 437,\n",
            " 'sender': 441}\n",
            "{'_id': ObjectId('60c26e8ee02f756cca7740c0'),\n",
            " 'date': '2020-04-02',\n",
            " 'lat': -23.079884,\n",
            " 'long': -70.385076,\n",
            " 'message': 'Hola! Cómo estás?',\n",
            " 'mid': 215,\n",
            " 'receptant': 190,\n",
            " 'sender': 251}\n",
            "{'_id': ObjectId('60c26e8ee02f756cca774019'),\n",
            " 'date': '2020-10-30',\n",
            " 'lat': -37.026453,\n",
            " 'long': -73.149839,\n",
            " 'message': 'Hola! Cómo estás?',\n",
            " 'mid': 49,\n",
            " 'receptant': 113,\n",
            " 'sender': 43}\n",
            "{'_id': ObjectId('60c26e8ee02f756cca774018'),\n",
            " 'date': '2020-09-23',\n",
            " 'lat': -50.291406,\n",
            " 'long': -90.97999,\n",
            " 'message': 'Hola, cómo has estado?',\n",
            " 'mid': 46,\n",
            " 'receptant': 172,\n",
            " 'sender': 161}\n",
            "{'_id': ObjectId('60c26e8ee02f756cca77408f'),\n",
            " 'date': '2020-10-05',\n",
            " 'lat': -50.291406,\n",
            " 'long': -90.97999,\n",
            " 'message': 'Hola! Viste las noticias?',\n",
            " 'mid': 165,\n",
            " 'receptant': 338,\n",
            " 'sender': 283}\n",
            "{'_id': ObjectId('60c26e8ee02f756cca77407d'),\n",
            " 'date': '2020-10-11',\n",
            " 'lat': -50.291406,\n",
            " 'long': -90.97999,\n",
            " 'message': 'Hola! Viste la teleserie?',\n",
            " 'mid': 148,\n",
            " 'receptant': 407,\n",
            " 'sender': 19}\n",
            "{'_id': ObjectId('60c26e8ee02f756cca77407b'),\n",
            " 'date': '2020-09-28',\n",
            " 'lat': -50.291406,\n",
            " 'long': -90.97999,\n",
            " 'message': 'Hola! Vienes en camino?',\n",
            " 'mid': 143,\n",
            " 'receptant': 395,\n",
            " 'sender': 299}\n",
            "{'_id': ObjectId('60c26e8ee02f756cca774009'),\n",
            " 'date': '2020-08-16',\n",
            " 'lat': -23.645967,\n",
            " 'long': -70.407993,\n",
            " 'message': 'Hola? buena, cómo estás?',\n",
            " 'mid': 31,\n",
            " 'receptant': 304,\n",
            " 'sender': 106}\n",
            "{'_id': ObjectId('60c26e8ee02f756cca773ff9'),\n",
            " 'date': '2020-09-22',\n",
            " 'lat': -53.123278,\n",
            " 'long': -70.86025,\n",
            " 'message': 'Hola! Viste la teleserie?',\n",
            " 'mid': 15,\n",
            " 'receptant': 251,\n",
            " 'sender': 161}\n",
            "{'_id': ObjectId('60c26e8ee02f756cca7740f5'),\n",
            " 'date': '2020-07-27',\n",
            " 'lat': -27.374641,\n",
            " 'long': -90.276865,\n",
            " 'message': 'Hola! Quiero jugar Pokémon. Bai.',\n",
            " 'mid': 267,\n",
            " 'receptant': 284,\n",
            " 'sender': 338}\n",
            "{'_id': ObjectId('60c26e8ee02f756cca77408d'),\n",
            " 'date': '2020-09-20',\n",
            " 'lat': -45.462659,\n",
            " 'long': -72.824656,\n",
            " 'message': 'Hola, No hay monstuos, ellos no existen',\n",
            " 'mid': 163,\n",
            " 'receptant': 260,\n",
            " 'sender': 122}\n",
            "{'_id': ObjectId('60c26e8ee02f756cca774088'),\n",
            " 'date': '2020-09-10',\n",
            " 'lat': -50.291406,\n",
            " 'long': -90.276865,\n",
            " 'message': 'Hola! Has ido al nuevo restaurant?',\n",
            " 'mid': 158,\n",
            " 'receptant': 412,\n",
            " 'sender': 35}\n",
            "{'_id': ObjectId('60c26e8ee02f756cca774047'),\n",
            " 'date': '2020-10-07',\n",
            " 'lat': -32.77554,\n",
            " 'long': -71.526049,\n",
            " 'message': 'Hola! Pensaste en la propuesta?',\n",
            " 'mid': 93,\n",
            " 'receptant': 64,\n",
            " 'sender': 356}\n",
            "{'_id': ObjectId('60c26e8ee02f756cca774030'),\n",
            " 'date': '2020-09-27',\n",
            " 'lat': -50.291406,\n",
            " 'long': -90.97999,\n",
            " 'message': 'Hola! A mi me gusta el Tangananica',\n",
            " 'mid': 70,\n",
            " 'receptant': 128,\n",
            " 'sender': 21}\n",
            "{'_id': ObjectId('60c26e8ee02f756cca774020'),\n",
            " 'date': '2020-08-18',\n",
            " 'lat': -50.291406,\n",
            " 'long': -90.276865,\n",
            " 'message': 'Hola! Has ido al nuevo restaurant?',\n",
            " 'mid': 54,\n",
            " 'receptant': 98,\n",
            " 'sender': 377}\n",
            "{'_id': ObjectId('60c26e8ee02f756cca77401a'),\n",
            " 'date': '2020-10-02',\n",
            " 'lat': -27.374641,\n",
            " 'long': -90.97999,\n",
            " 'message': 'Hola! Me encanta el metal. Bai.',\n",
            " 'mid': 48,\n",
            " 'receptant': 282,\n",
            " 'sender': 287}\n",
            "{'_id': ObjectId('60c26e8ee02f756cca7740ef'),\n",
            " 'date': '2020-01-17',\n",
            " 'lat': -50.291406,\n",
            " 'long': -90.276865,\n",
            " 'message': 'Hola! Bailé hasta muy tarde. Jijiji.',\n",
            " 'mid': 261,\n",
            " 'receptant': 366,\n",
            " 'sender': 268}\n",
            "{'_id': ObjectId('60c26e8ee02f756cca7740bd'),\n",
            " 'date': '2019-12-02',\n",
            " 'lat': -41.867364,\n",
            " 'long': -73.830638,\n",
            " 'message': 'Hola! Me banearon del fifa por robar.',\n",
            " 'mid': 209,\n",
            " 'receptant': 68,\n",
            " 'sender': 237}\n",
            "{'_id': ObjectId('60c26e8ee02f756cca77406f'),\n",
            " 'date': '2020-08-30',\n",
            " 'lat': -27.055978,\n",
            " 'long': -70.833427,\n",
            " 'message': 'Hola, Anoche vi algo bastante raro',\n",
            " 'mid': 135,\n",
            " 'receptant': 429,\n",
            " 'sender': 109}\n",
            "{'_id': ObjectId('60c26e8ee02f756cca77405f'),\n",
            " 'date': '2020-10-09',\n",
            " 'lat': -50.291406,\n",
            " 'long': -90.97999,\n",
            " 'message': 'Hola! Te quiero 3000. 10 - 4.',\n",
            " 'mid': 118,\n",
            " 'receptant': 199,\n",
            " 'sender': 183}\n",
            "{'_id': ObjectId('60c26e8ee02f756cca7740fc'),\n",
            " 'date': '2020-09-18',\n",
            " 'lat': -50.291406,\n",
            " 'long': -90.276865,\n",
            " 'message': 'Hola! Cómo te fue con el encargo?',\n",
            " 'mid': 274,\n",
            " 'receptant': 276,\n",
            " 'sender': 157}\n",
            "{'_id': ObjectId('60c26e8ee02f756cca7740d6'),\n",
            " 'date': '2020-02-11',\n",
            " 'lat': -50.291406,\n",
            " 'long': -90.276865,\n",
            " 'message': 'Hola! Me gustó el hotel que reservé. Bai.',\n",
            " 'mid': 237,\n",
            " 'receptant': 388,\n",
            " 'sender': 217}\n",
            "{'_id': ObjectId('60c26e8ee02f756cca774076'),\n",
            " 'date': '2020-09-26',\n",
            " 'lat': -27.374641,\n",
            " 'long': -90.97999,\n",
            " 'message': 'Hola! cómo te fue en la tarea?',\n",
            " 'mid': 142,\n",
            " 'receptant': 362,\n",
            " 'sender': 287}\n",
            "{'_id': ObjectId('60c26e8ee02f756cca774067'),\n",
            " 'date': '2020-10-29',\n",
            " 'lat': -23.079884,\n",
            " 'long': -70.385076,\n",
            " 'message': 'Hola! Te quiero 3000. Cambio y fuera.',\n",
            " 'mid': 125,\n",
            " 'receptant': 455,\n",
            " 'sender': 12}\n",
            "{'_id': ObjectId('60c26e8ee02f756cca774026'),\n",
            " 'date': '2020-08-29',\n",
            " 'lat': -50.291406,\n",
            " 'long': -90.97999,\n",
            " 'message': 'Hola! Cómo va tu curso de origami?',\n",
            " 'mid': 60,\n",
            " 'receptant': 438,\n",
            " 'sender': 32}\n",
            "{'_id': ObjectId('60c26e8ee02f756cca774021'),\n",
            " 'date': '2020-08-20',\n",
            " 'lat': -23.75954,\n",
            " 'long': -70.463459,\n",
            " 'message': 'Hola! Me encanta el reggaetton. Cuando un partido?',\n",
            " 'mid': 55,\n",
            " 'receptant': 198,\n",
            " 'sender': 431}\n",
            "{'_id': ObjectId('60c26e8ee02f756cca7740e1'),\n",
            " 'date': '2020-07-26',\n",
            " 'lat': -37.026453,\n",
            " 'long': -73.149839,\n",
            " 'message': 'Hola! Hice un pingüino de origami. Eso me hace feliz.',\n",
            " 'mid': 247,\n",
            " 'receptant': 327,\n",
            " 'sender': 135}\n",
            "{'_id': ObjectId('60c26e8ee02f756cca77403f'),\n",
            " 'date': '2020-08-28',\n",
            " 'lat': -50.291406,\n",
            " 'long': -90.97999,\n",
            " 'message': 'Hola! Ayer hice un sendero muy fácil. Me despido, saludos.',\n",
            " 'mid': 84,\n",
            " 'receptant': 58,\n",
            " 'sender': 362}\n",
            "{'_id': ObjectId('60c26e8ee02f756cca774015'),\n",
            " 'date': '2020-09-15',\n",
            " 'lat': -36.713687,\n",
            " 'long': -72.986593,\n",
            " 'message': 'Hola! Cobreloa es el mejor equipo del mundo. Bai.',\n",
            " 'mid': 43,\n",
            " 'receptant': 94,\n",
            " 'sender': 182}\n",
            "{'_id': ObjectId('60c26e8ee02f756cca774031'),\n",
            " 'date': '2020-10-17',\n",
            " 'lat': -27.374641,\n",
            " 'long': -90.97999,\n",
            " 'message': 'Hola! Me quiero ir del Barça. Espero que nos juntemos pronto.',\n",
            " 'mid': 72,\n",
            " 'receptant': 200,\n",
            " 'sender': 449}\n",
            "{'_id': ObjectId('60c26e8ee02f756cca7740d1'),\n",
            " 'date': '2019-11-11',\n",
            " 'lat': -50.291406,\n",
            " 'long': -90.97999,\n",
            " 'message': 'Hola! Estuve pensando en lo de P y NP. Cambio y fuera.',\n",
            " 'mid': 231,\n",
            " 'receptant': 220,\n",
            " 'sender': 364}\n",
            "{'_id': ObjectId('60c26e8ee02f756cca7740e5'),\n",
            " 'date': '2019-08-26',\n",
            " 'lat': -27.374641,\n",
            " 'long': -90.97999,\n",
            " 'message': 'Hola! Hoy me levanté contento, hoy me levanté feliz. Hoy anoté un '\n",
            "            'golazo. Eso me tiene bien.',\n",
            " 'mid': 251,\n",
            " 'receptant': 419,\n",
            " 'sender': 325}\n",
            "{'_id': ObjectId('60c26e8ee02f756cca774101'),\n",
            " 'date': '2020-06-10',\n",
            " 'lat': -27.286801,\n",
            " 'long': -128.20167,\n",
            " 'message': 'Jajajaja parece que conseguimos unos magikarp bien grandes',\n",
            " 'mid': 281,\n",
            " 'receptant': 171,\n",
            " 'sender': 289}\n",
            "{'_id': ObjectId('60c26e8ee02f756cca7740e0'),\n",
            " 'date': '2020-07-11',\n",
            " 'lat': -20.736956,\n",
            " 'long': -70.182595,\n",
            " 'message': 'Y... cómo va el negocio de los magikarp?',\n",
            " 'mid': 246,\n",
            " 'receptant': 289,\n",
            " 'sender': 130}\n",
            "{'_id': ObjectId('60c26e8ee02f756cca774109'),\n",
            " 'date': '2020-07-13',\n",
            " 'lat': -20.736956,\n",
            " 'long': -70.182595,\n",
            " 'message': 'Igual me da miedo que descubran lo de los magikarp, a ti no?',\n",
            " 'mid': 287,\n",
            " 'receptant': 212,\n",
            " 'sender': 171}\n",
            "{'_id': ObjectId('60c26e8ee02f756cca7740cb'),\n",
            " 'date': '2020-09-16',\n",
            " 'lat': -29.913745,\n",
            " 'long': -71.277043,\n",
            " 'message': 'Tenemos que ir a buscar los magikarp, volvemos en unos días',\n",
            " 'mid': 225,\n",
            " 'receptant': 201,\n",
            " 'sender': 218}\n",
            "{'_id': ObjectId('60c26e8ee02f756cca7740bc'),\n",
            " 'date': '2020-07-13',\n",
            " 'lat': -20.736956,\n",
            " 'long': -70.182595,\n",
            " 'message': 'A todo esto, por qué magikarps y shrek? no habían códigos '\n",
            "            'mejores?',\n",
            " 'mid': 210,\n",
            " 'receptant': 212,\n",
            " 'sender': 171}\n",
            "{'_id': ObjectId('60c26e8ee02f756cca77410a'),\n",
            " 'date': '2020-07-13',\n",
            " 'lat': -20.736956,\n",
            " 'long': -70.182595,\n",
            " 'message': 'La verdad es que todo esto de los magikarp me ha dado una mala '\n",
            "            'espina',\n",
            " 'mid': 288,\n",
            " 'receptant': 171,\n",
            " 'sender': 212}\n"
          ],
          "name": "stdout"
        }
      ]
    },
    {
      "cell_type": "markdown",
      "metadata": {
        "id": "QNDlMicu9CkD"
      },
      "source": [
        "7. Usando text search, encuentra los mensajes que contengan \"todo\" y \"magikarp\"."
      ]
    },
    {
      "cell_type": "code",
      "metadata": {
        "colab": {
          "base_uri": "https://localhost:8080/"
        },
        "id": "g-51calE9CkD",
        "outputId": "ba2de17d-de60-4f2d-e416-c545afa6cffc"
      },
      "source": [
        "collection2 = db.messages\n",
        "\n",
        "for m in collection2.find({\"$text\": {\"$search\": \"\\\"todo\\\" \\\"magikarp\\\"\"}}):\n",
        "\tpprint.pprint(m)"
      ],
      "execution_count": 10,
      "outputs": [
        {
          "output_type": "stream",
          "text": [
            "{'_id': ObjectId('60c26e8ee02f756cca7740bc'),\n",
            " 'date': '2020-07-13',\n",
            " 'lat': -20.736956,\n",
            " 'long': -70.182595,\n",
            " 'message': 'A todo esto, por qué magikarps y shrek? no habían códigos '\n",
            "            'mejores?',\n",
            " 'mid': 210,\n",
            " 'receptant': 212,\n",
            " 'sender': 171}\n",
            "{'_id': ObjectId('60c26e8ee02f756cca77410a'),\n",
            " 'date': '2020-07-13',\n",
            " 'lat': -20.736956,\n",
            " 'long': -70.182595,\n",
            " 'message': 'La verdad es que todo esto de los magikarp me ha dado una mala '\n",
            "            'espina',\n",
            " 'mid': 288,\n",
            " 'receptant': 171,\n",
            " 'sender': 212}\n"
          ],
          "name": "stdout"
        }
      ]
    },
    {
      "cell_type": "markdown",
      "metadata": {
        "id": "bPk68IlN9CkD"
      },
      "source": [
        "8. Usando text search, encuentra los mensajes que contengan \"bien\" o \"magikarp\", pero que no contenga \"tiene\"."
      ]
    },
    {
      "cell_type": "code",
      "metadata": {
        "colab": {
          "base_uri": "https://localhost:8080/"
        },
        "id": "D8RbyP3p9CkE",
        "outputId": "da42d08b-d426-42b1-bac0-182c3198dc4b"
      },
      "source": [
        "collection2 = db.messages\n",
        "\n",
        "for m in collection2.find({\"$text\": {\"$search\": \"bien magikarp -tiene\"}}):\n",
        "\tpprint.pprint(m)"
      ],
      "execution_count": 11,
      "outputs": [
        {
          "output_type": "stream",
          "text": [
            "{'_id': ObjectId('60c26e8ee02f756cca774101'),\n",
            " 'date': '2020-06-10',\n",
            " 'lat': -27.286801,\n",
            " 'long': -128.20167,\n",
            " 'message': 'Jajajaja parece que conseguimos unos magikarp bien grandes',\n",
            " 'mid': 281,\n",
            " 'receptant': 171,\n",
            " 'sender': 289}\n",
            "{'_id': ObjectId('60c26e8ee02f756cca7740b9'),\n",
            " 'date': '2019-11-01',\n",
            " 'lat': -27.055978,\n",
            " 'long': -70.833427,\n",
            " 'message': 'Oye, fuiste a ver shrek? escuché que venía bien cargado',\n",
            " 'mid': 207,\n",
            " 'receptant': 176,\n",
            " 'sender': 351}\n",
            "{'_id': ObjectId('60c26e8ee02f756cca7740e0'),\n",
            " 'date': '2020-07-11',\n",
            " 'lat': -20.736956,\n",
            " 'long': -70.182595,\n",
            " 'message': 'Y... cómo va el negocio de los magikarp?',\n",
            " 'mid': 246,\n",
            " 'receptant': 289,\n",
            " 'sender': 130}\n",
            "{'_id': ObjectId('60c26e8ee02f756cca774109'),\n",
            " 'date': '2020-07-13',\n",
            " 'lat': -20.736956,\n",
            " 'long': -70.182595,\n",
            " 'message': 'Igual me da miedo que descubran lo de los magikarp, a ti no?',\n",
            " 'mid': 287,\n",
            " 'receptant': 212,\n",
            " 'sender': 171}\n",
            "{'_id': ObjectId('60c26e8ee02f756cca7740cb'),\n",
            " 'date': '2020-09-16',\n",
            " 'lat': -29.913745,\n",
            " 'long': -71.277043,\n",
            " 'message': 'Tenemos que ir a buscar los magikarp, volvemos en unos días',\n",
            " 'mid': 225,\n",
            " 'receptant': 201,\n",
            " 'sender': 218}\n",
            "{'_id': ObjectId('60c26e8ee02f756cca7740bc'),\n",
            " 'date': '2020-07-13',\n",
            " 'lat': -20.736956,\n",
            " 'long': -70.182595,\n",
            " 'message': 'A todo esto, por qué magikarps y shrek? no habían códigos '\n",
            "            'mejores?',\n",
            " 'mid': 210,\n",
            " 'receptant': 212,\n",
            " 'sender': 171}\n",
            "{'_id': ObjectId('60c26e8ee02f756cca77410a'),\n",
            " 'date': '2020-07-13',\n",
            " 'lat': -20.736956,\n",
            " 'long': -70.182595,\n",
            " 'message': 'La verdad es que todo esto de los magikarp me ha dado una mala '\n",
            "            'espina',\n",
            " 'mid': 288,\n",
            " 'receptant': 171,\n",
            " 'sender': 212}\n"
          ],
          "name": "stdout"
        }
      ]
    },
    {
      "cell_type": "markdown",
      "metadata": {
        "id": "hmEhwM1D9CkE"
      },
      "source": [
        "9. Usando text search, encuentra todos los usuarios cuya descripción contenga la palabra \"Puerto\", pero no la palabra \"Montt\", además los usuarios deben tener edad >= 58."
      ]
    },
    {
      "cell_type": "code",
      "metadata": {
        "colab": {
          "base_uri": "https://localhost:8080/"
        },
        "id": "JfekadzQ9CkE",
        "outputId": "c07ede55-ddee-437a-881e-17b7ea9c90be"
      },
      "source": [
        "collection1 = db.users\n",
        "\n",
        "data =  collection1.find({\"$text\": {\"$search\": \"Puerto -Montt\"}, \"age\":{\"$gte\":58}})\n",
        "\n",
        "for m in data:\n",
        "\tpprint.pprint(m)"
      ],
      "execution_count": 12,
      "outputs": [
        {
          "output_type": "stream",
          "text": [
            "{'_id': ObjectId('60bfd90e002ce228636e5117'),\n",
            " 'age': 58,\n",
            " 'description': 'Soy jefe de una instalacion en el puerto Balmaceda',\n",
            " 'name': 'Karis Downes',\n",
            " 'uid': 174}\n",
            "{'_id': ObjectId('60bfd90e002ce228636e50fc'),\n",
            " 'age': 58,\n",
            " 'description': 'Soy jefe de una instalacion en el puerto Iquique',\n",
            " 'name': 'Lola-Mae Whittaker',\n",
            " 'uid': 147}\n",
            "{'_id': ObjectId('60bfd90e002ce228636e50fa'),\n",
            " 'age': 58,\n",
            " 'description': 'Soy jefe de una instalacion en el puerto Huasco',\n",
            " 'name': 'Sonnie Pugh',\n",
            " 'uid': 146}\n",
            "{'_id': ObjectId('60bfd90e002ce228636e50e6'),\n",
            " 'age': 60,\n",
            " 'description': 'Soy jefe de una instalacion en el puerto Caldera',\n",
            " 'name': 'Ajwa Daly',\n",
            " 'uid': 127}\n",
            "{'_id': ObjectId('60bfd90e002ce228636e50d6'),\n",
            " 'age': 60,\n",
            " 'description': 'Soy jefe de una instalacion en el puerto Caldera',\n",
            " 'name': 'Korban Robbins',\n",
            " 'uid': 109}\n",
            "{'_id': ObjectId('60bfd90e002ce228636e50b7'),\n",
            " 'age': 58,\n",
            " 'description': 'Soy jefe de una instalacion en el puerto Valparaiso',\n",
            " 'name': \"Lily-Mae O'Quinn\",\n",
            " 'uid': 76}\n",
            "{'_id': ObjectId('60bfd90e002ce228636e507c'),\n",
            " 'age': 58,\n",
            " 'description': 'Soy jefe de una instalacion en el puerto Mejillones',\n",
            " 'name': 'Jardel Keith',\n",
            " 'uid': 21}\n"
          ],
          "name": "stdout"
        }
      ]
    },
    {
      "cell_type": "markdown",
      "metadata": {
        "id": "nOylAT4X9CkF"
      },
      "source": [
        "10. Usando text search, encuentra todos los usuarios que hayan enviado un mensaje que contiene \"bien\" o \"magikarp\", pero no \"tiene\"."
      ]
    },
    {
      "cell_type": "code",
      "metadata": {
        "colab": {
          "base_uri": "https://localhost:8080/"
        },
        "id": "QkKmUv7z9CkF",
        "outputId": "0a86498f-53f3-4047-ecd5-1923aab207a2"
      },
      "source": [
        "collection2 = db.messages\n",
        "\n",
        "mess = collection2.find({\"$text\": {\"$search\": \"bien magikarp -tiene\"}})\n",
        "\n",
        "collection1 = db.users\n",
        "\n",
        "for m in mess:\n",
        "\tfor u in collection1.find({\"uid\":m['sender']}):\n",
        "\t\tprint(u['name'])"
      ],
      "execution_count": 13,
      "outputs": [
        {
          "output_type": "stream",
          "text": [
            "Sanaya Sheppard\n",
            "Justine Dejesus\n",
            "Che Partridge\n",
            "Ammaar Carty\n",
            "Itzel Madrid Tello\n",
            "Ammaar Carty\n",
            "Ace Stephenson\n"
          ],
          "name": "stdout"
        }
      ]
    },
    {
      "cell_type": "markdown",
      "metadata": {
        "id": "MZuMGNpa9CkG"
      },
      "source": [
        "11. Encuentra todos los mensajes enviados por un usuario llamado \"Jose\" (podría ser \"María José\" por ejemplo). Notar que no hay text index para `name` en la colección de usuarios. "
      ]
    },
    {
      "cell_type": "code",
      "metadata": {
        "colab": {
          "base_uri": "https://localhost:8080/"
        },
        "id": "DKTKJbdl9CkG",
        "outputId": "58f080d2-2d0f-4fcf-e4b1-fe151f760584"
      },
      "source": [
        "collection1 = db.users\n",
        "\n",
        "joses =  collection1.find({\"name\": {\"$regex\": \"Jose\"}})\n",
        "\n",
        "collection2 = db.messages\n",
        "\n",
        "for u in joses:\n",
        "\tfor m in collection2.find({\"sender\":u['uid']}):\n",
        "\t\tpprint.pprint(m)"
      ],
      "execution_count": 14,
      "outputs": [
        {
          "output_type": "stream",
          "text": [
            "{'_id': ObjectId('60c26e8ee02f756cca7740a2'),\n",
            " 'date': '2020-08-24',\n",
            " 'lat': -32.77554,\n",
            " 'long': -71.526049,\n",
            " 'message': 'Tanto tiempo! Estoy intentando aprobar el test de turing. Eso me '\n",
            "            'tiene mal.',\n",
            " 'mid': 183,\n",
            " 'receptant': 181,\n",
            " 'sender': 55}\n",
            "{'_id': ObjectId('60c26e8ee02f756cca7740a7'),\n",
            " 'date': '2020-09-19',\n",
            " 'lat': -27.374641,\n",
            " 'long': -90.276865,\n",
            " 'message': 'Cómo estás? Me encanta el grunge. Espero que nos juntemos pronto.',\n",
            " 'mid': 190,\n",
            " 'receptant': 138,\n",
            " 'sender': 280}\n"
          ],
          "name": "stdout"
        }
      ]
    },
    {
      "cell_type": "markdown",
      "metadata": {
        "id": "N4QYhVMQ9CkG"
      },
      "source": [
        "12. Encuentra los mensajes que contengan la palabra \"Estoy\". Luego, encuentra todos los mensajes que no contengan esa palabra. ¿Cuántos mensajes no contienen esta palabra?"
      ]
    },
    {
      "cell_type": "code",
      "metadata": {
        "colab": {
          "base_uri": "https://localhost:8080/"
        },
        "id": "nvHZh9Zh9CkG",
        "outputId": "02dbb25b-e753-4975-c0fb-b744689fcea4"
      },
      "source": [
        "collection2 = db.messages\n",
        "\n",
        "print(\"With Estoy:\")\n",
        "for m in collection2.find({\"$text\": {\"$search\": \"Estoy\"}}):\n",
        "\tpprint.pprint(m)\n",
        "\n",
        "\n",
        "#Try 1\n",
        "print(\"Without Estoy:\")\n",
        "for m in collection2.find({\"$text\": {\"$search\": \"-Estoy\"}}):\n",
        "\tpprint.pprint(m)\n",
        "# Does not work in MongoDB\n",
        "\n",
        "\n",
        "#Try 2. Hacking it with brutality:\n",
        "notThis = []\n",
        "\n",
        "for m in collection2.find({\"$text\": {\"$search\": \"Estoy\"}}):\n",
        "\tnotThis.append(m['mid'])  \n",
        "\n",
        "nr = 0\n",
        "\n",
        "for m in collection2.find({}):\n",
        "\tif not(m['mid'] in notThis):\n",
        "\t\tnr = nr + 1 \n",
        "\t\t\n",
        "print(nr)"
      ],
      "execution_count": 15,
      "outputs": [
        {
          "output_type": "stream",
          "text": [
            "With Estoy:\n",
            "{'_id': ObjectId('60c26e8ee02f756cca774086'),\n",
            " 'date': '2020-08-28',\n",
            " 'lat': -37.026453,\n",
            " 'long': -73.149839,\n",
            " 'message': 'Hey! Estoy borracho. Cambio y fuera.',\n",
            " 'mid': 155,\n",
            " 'receptant': 113,\n",
            " 'sender': 118}\n",
            "{'_id': ObjectId('60c26e8ee02f756cca7740a2'),\n",
            " 'date': '2020-08-24',\n",
            " 'lat': -32.77554,\n",
            " 'long': -71.526049,\n",
            " 'message': 'Tanto tiempo! Estoy intentando aprobar el test de turing. Eso me '\n",
            "            'tiene mal.',\n",
            " 'mid': 183,\n",
            " 'receptant': 181,\n",
            " 'sender': 55}\n",
            "{'_id': ObjectId('60c26e8ee02f756cca77404f'),\n",
            " 'date': '2020-10-27',\n",
            " 'lat': -50.291406,\n",
            " 'long': -90.97999,\n",
            " 'message': 'Te cuento que: Estoy intentando aprobar el test de turing. Me '\n",
            "            'despido, salu3.',\n",
            " 'mid': 100,\n",
            " 'receptant': 365,\n",
            " 'sender': 320}\n",
            "{'_id': ObjectId('60c26e8ee02f756cca774035'),\n",
            " 'date': '2020-08-02',\n",
            " 'lat': -27.374641,\n",
            " 'long': -90.97999,\n",
            " 'message': 'Qué tal? Estoy intentando aprobar el test de turing. Eso me tiene '\n",
            "            'bien.',\n",
            " 'mid': 76,\n",
            " 'receptant': 113,\n",
            " 'sender': 417}\n",
            "{'_id': ObjectId('60c26e8ee02f756cca774060'),\n",
            " 'date': '2020-10-13',\n",
            " 'lat': -29.975174,\n",
            " 'long': -71.347245,\n",
            " 'message': 'Tenemos que hablar. Estoy intentando aprobar el test de turing. '\n",
            "            'Eso me tiene mal.',\n",
            " 'mid': 119,\n",
            " 'receptant': 416,\n",
            " 'sender': 215}\n",
            "Without Estoy:\n",
            "285\n"
          ],
          "name": "stdout"
        }
      ]
    }
  ]
}
